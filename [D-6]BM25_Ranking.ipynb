{
  "nbformat": 4,
  "nbformat_minor": 0,
  "metadata": {
    "colab": {
      "name": "[D-6]BM25_Ranking.ipynb",
      "provenance": []
    },
    "kernelspec": {
      "name": "python3",
      "display_name": "Python 3"
    },
    "language_info": {
      "name": "python"
    },
    "accelerator": "GPU"
  },
  "cells": [
    {
      "cell_type": "markdown",
      "metadata": {
        "id": "Df72cSl189gz"
      },
      "source": [
        "## 키워드 기반의 랭킹 알고리즘 - BM25 \n",
        "BM25(a.k.a Okapi BM25)는 주어진 쿼리에 대해 문서와의 연관성을 평가하는 랭킹 함수로 사용되는 알고리즘\n",
        "\n",
        "![image.png](data:image/png;base64,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)\n",
        "\n",
        "q_i: 쿼리에서 i번째 토큰 (형태소 / bi-gram /BPE 등을 사용할 수 있음)\n",
        "\n",
        " \n",
        "\n",
        "IDF(q_i): 쿼리의 i번째 토큰에 대한 inverse document frequency\n",
        "\n",
        "자주 등장하는 단어는 penalize 하여 지나치게 높은 가중치를 가지게 되는 것을 방지함.\n",
        "예를 들어 \"the\"라는 단어는 영어 문서에서 아주 자주 등장하는 단어이기 때문에 쿼리에 있는 the라는 글자가 문서에 자주 나타났다고 해서 의미 있는 것이 아님."
      ]
    },
    {
      "cell_type": "markdown",
      "metadata": {
        "id": "FWrZP6739OXS"
      },
      "source": [
        "파이썬에서 BM25 사용하기\n"
      ]
    },
    {
      "cell_type": "code",
      "metadata": {
        "colab": {
          "base_uri": "https://localhost:8080/"
        },
        "id": "7cgBp54Q9tFu",
        "outputId": "83b1a781-2524-4c58-9467-6fbd18811fcc"
      },
      "source": [
        "!pip install rank_bm25"
      ],
      "execution_count": 1,
      "outputs": [
        {
          "output_type": "stream",
          "name": "stdout",
          "text": [
            "Collecting rank_bm25\n",
            "  Downloading rank_bm25-0.2.1-py3-none-any.whl (8.5 kB)\n",
            "Requirement already satisfied: numpy in /usr/local/lib/python3.7/dist-packages (from rank_bm25) (1.19.5)\n",
            "Installing collected packages: rank-bm25\n",
            "Successfully installed rank-bm25-0.2.1\n"
          ]
        }
      ]
    },
    {
      "cell_type": "code",
      "metadata": {
        "id": "NFjZpdU79rcn"
      },
      "source": [
        "from rank_bm25 import BM25Okapi\n",
        "\n",
        "corpus = [\n",
        "    \"세계 배달 피자 리더 도미노피자가 우리 고구마를 활용한 신메뉴를 출시한다.도미노피자는 오는 2월 1일 국내산 고구마와 4가지 치즈가 어우러진 신메뉴 `우리 고구마 피자`를 출시하고 전 매장에서 판매를 시작한다. 이번에 도미노피자가 내놓은 신메뉴 `우리 고구마 피자`는 까다롭게 엄선한 국내산 고구마를 무스와 큐브 형태로 듬뿍 올리고, 모차렐라, 카망베르, 체더 치즈와 리코타 치즈 소스 등 4가지 치즈와 와규 크럼블을 더한 프리미엄 고구마 피자다.\",\n",
        "    \"피자의 발상지이자 원조라고 할 수 있는 남부의 나폴리식 피자(Pizza Napolitana)는 재료 본연의 맛에 집중하여 뛰어난 식감을 자랑한다. 대표적인 나폴리 피자로는 피자 마리나라(Pizza Marinara)와 피자 마르게리타(Pizza Margherita)가 있다.\",\n",
        "    \"도미노피자가 삼일절을 맞아 '방문포장 1+1' 이벤트를 진행한다. 이번 이벤트는 도미노피자 102개 매장에서 3월 1일 단 하루 동안 방문포장 온라인, 오프라인 주문 시 피자 1판을 더 증정하는 이벤트다. 온라인 주문 시 장바구니에 2판을 담은 후 할인 적용이 가능하며, 동일 가격 또는 낮은 가격의 피자를 고객이 선택하면 무료로 증정한다.\"\n",
        "]\n",
        "\n",
        "def tokenizer(sent):\n",
        "  return sent.split(\" \")\n",
        "\n",
        "tokenized_corpus = [tokenizer(doc) for doc in corpus]\n",
        "\n",
        "bm25 = BM25Okapi(tokenized_corpus)"
      ],
      "execution_count": 2,
      "outputs": []
    },
    {
      "cell_type": "markdown",
      "metadata": {
        "id": "Xe1_lUDz-F_6"
      },
      "source": [
        "doc_len : 파싱된 문서의 길이"
      ]
    },
    {
      "cell_type": "code",
      "metadata": {
        "colab": {
          "base_uri": "https://localhost:8080/"
        },
        "id": "7Hvouenu91II",
        "outputId": "0eb4ef10-e6dc-452a-f898-e1ed7fdcc837"
      },
      "source": [
        "bm25.doc_len "
      ],
      "execution_count": 3,
      "outputs": [
        {
          "output_type": "execute_result",
          "data": {
            "text/plain": [
              "[59, 27, 47]"
            ]
          },
          "metadata": {},
          "execution_count": 3
        }
      ]
    },
    {
      "cell_type": "markdown",
      "metadata": {
        "id": "ry8QQTEi-IBa"
      },
      "source": [
        "doc_freqs : 문서에 있는 각각의 토큰의 빈도 (각 문서 내에서 딕셔너리 형태로 저장)"
      ]
    },
    {
      "cell_type": "code",
      "metadata": {
        "colab": {
          "base_uri": "https://localhost:8080/"
        },
        "id": "8UnxoA3T95NG",
        "outputId": "36892e90-e66f-4d71-eed7-5c772ec61f7d"
      },
      "source": [
        "bm25.doc_freqs "
      ],
      "execution_count": 4,
      "outputs": [
        {
          "output_type": "execute_result",
          "data": {
            "text/plain": [
              "[{'1일': 1,\n",
              "  '2월': 1,\n",
              "  '4가지': 2,\n",
              "  '`우리': 2,\n",
              "  '고구마': 3,\n",
              "  '고구마를': 2,\n",
              "  '고구마와': 1,\n",
              "  '국내산': 2,\n",
              "  '까다롭게': 1,\n",
              "  '내놓은': 1,\n",
              "  '더한': 1,\n",
              "  '도미노피자가': 2,\n",
              "  '듬뿍': 1,\n",
              "  '등': 1,\n",
              "  '리더': 1,\n",
              "  '리코타': 1,\n",
              "  '매장에서': 1,\n",
              "  '모차렐라,': 1,\n",
              "  '무스와': 1,\n",
              "  '배달': 1,\n",
              "  '세계': 1,\n",
              "  '소스': 1,\n",
              "  '시작한다.': 1,\n",
              "  '신메뉴': 2,\n",
              "  '신메뉴를': 1,\n",
              "  '어우러진': 1,\n",
              "  '엄선한': 1,\n",
              "  '오는': 1,\n",
              "  '올리고,': 1,\n",
              "  '와규': 1,\n",
              "  '우리': 1,\n",
              "  '이번에': 1,\n",
              "  '전': 1,\n",
              "  '체더': 1,\n",
              "  '출시하고': 1,\n",
              "  '출시한다.도미노피자는': 1,\n",
              "  '치즈': 1,\n",
              "  '치즈가': 1,\n",
              "  '치즈와': 2,\n",
              "  '카망베르,': 1,\n",
              "  '큐브': 1,\n",
              "  '크럼블을': 1,\n",
              "  '판매를': 1,\n",
              "  '프리미엄': 1,\n",
              "  '피자': 1,\n",
              "  '피자`는': 1,\n",
              "  '피자`를': 1,\n",
              "  '피자다.': 1,\n",
              "  '형태로': 1,\n",
              "  '활용한': 1},\n",
              " {'Margherita)가': 1,\n",
              "  'Marinara)와': 1,\n",
              "  'Napolitana)는': 1,\n",
              "  '나폴리': 1,\n",
              "  '나폴리식': 1,\n",
              "  '남부의': 1,\n",
              "  '대표적인': 1,\n",
              "  '뛰어난': 1,\n",
              "  '마르게리타(Pizza': 1,\n",
              "  '마리나라(Pizza': 1,\n",
              "  '맛에': 1,\n",
              "  '발상지이자': 1,\n",
              "  '본연의': 1,\n",
              "  '수': 1,\n",
              "  '식감을': 1,\n",
              "  '원조라고': 1,\n",
              "  '있는': 1,\n",
              "  '있다.': 1,\n",
              "  '자랑한다.': 1,\n",
              "  '재료': 1,\n",
              "  '집중하여': 1,\n",
              "  '피자': 2,\n",
              "  '피자(Pizza': 1,\n",
              "  '피자로는': 1,\n",
              "  '피자의': 1,\n",
              "  '할': 1},\n",
              " {\"'방문포장\": 1,\n",
              "  \"1+1'\": 1,\n",
              "  '102개': 1,\n",
              "  '1일': 1,\n",
              "  '1판을': 1,\n",
              "  '2판을': 1,\n",
              "  '3월': 1,\n",
              "  '가격': 1,\n",
              "  '가격의': 1,\n",
              "  '가능하며,': 1,\n",
              "  '고객이': 1,\n",
              "  '낮은': 1,\n",
              "  '단': 1,\n",
              "  '담은': 1,\n",
              "  '더': 1,\n",
              "  '도미노피자': 1,\n",
              "  '도미노피자가': 1,\n",
              "  '동안': 1,\n",
              "  '동일': 1,\n",
              "  '또는': 1,\n",
              "  '맞아': 1,\n",
              "  '매장에서': 1,\n",
              "  '무료로': 1,\n",
              "  '방문포장': 1,\n",
              "  '삼일절을': 1,\n",
              "  '선택하면': 1,\n",
              "  '시': 2,\n",
              "  '오프라인': 1,\n",
              "  '온라인': 1,\n",
              "  '온라인,': 1,\n",
              "  '이번': 1,\n",
              "  '이벤트는': 1,\n",
              "  '이벤트다.': 1,\n",
              "  '이벤트를': 1,\n",
              "  '장바구니에': 1,\n",
              "  '적용이': 1,\n",
              "  '주문': 2,\n",
              "  '증정하는': 1,\n",
              "  '증정한다.': 1,\n",
              "  '진행한다.': 1,\n",
              "  '피자': 1,\n",
              "  '피자를': 1,\n",
              "  '하루': 1,\n",
              "  '할인': 1,\n",
              "  '후': 1}]"
            ]
          },
          "metadata": {},
          "execution_count": 4
        }
      ]
    },
    {
      "cell_type": "markdown",
      "metadata": {
        "id": "aEeNuHyt-PB-"
      },
      "source": [
        "idf : 토큰의 inverse term frequency를 계산해둠(TF IDF의 idf맞음)"
      ]
    },
    {
      "cell_type": "code",
      "metadata": {
        "colab": {
          "base_uri": "https://localhost:8080/"
        },
        "id": "z0-bWUD995wj",
        "outputId": "ce942f63-67ce-463a-e3d2-35ccb2cefc21"
      },
      "source": [
        "bm25.idf"
      ],
      "execution_count": 5,
      "outputs": [
        {
          "output_type": "execute_result",
          "data": {
            "text/plain": [
              "{\"'방문포장\": 0.5108256237659907,\n",
              " \"1+1'\": 0.5108256237659907,\n",
              " '102개': 0.5108256237659907,\n",
              " '1일': 0.11580621302033972,\n",
              " '1판을': 0.5108256237659907,\n",
              " '2월': 0.5108256237659907,\n",
              " '2판을': 0.5108256237659907,\n",
              " '3월': 0.5108256237659907,\n",
              " '4가지': 0.5108256237659907,\n",
              " 'Margherita)가': 0.5108256237659907,\n",
              " 'Marinara)와': 0.5108256237659907,\n",
              " 'Napolitana)는': 0.5108256237659907,\n",
              " '`우리': 0.5108256237659907,\n",
              " '가격': 0.5108256237659907,\n",
              " '가격의': 0.5108256237659907,\n",
              " '가능하며,': 0.5108256237659907,\n",
              " '고객이': 0.5108256237659907,\n",
              " '고구마': 0.5108256237659907,\n",
              " '고구마를': 0.5108256237659907,\n",
              " '고구마와': 0.5108256237659907,\n",
              " '국내산': 0.5108256237659907,\n",
              " '까다롭게': 0.5108256237659907,\n",
              " '나폴리': 0.5108256237659907,\n",
              " '나폴리식': 0.5108256237659907,\n",
              " '남부의': 0.5108256237659907,\n",
              " '낮은': 0.5108256237659907,\n",
              " '내놓은': 0.5108256237659907,\n",
              " '단': 0.5108256237659907,\n",
              " '담은': 0.5108256237659907,\n",
              " '대표적인': 0.5108256237659907,\n",
              " '더': 0.5108256237659907,\n",
              " '더한': 0.5108256237659907,\n",
              " '도미노피자': 0.5108256237659907,\n",
              " '도미노피자가': 0.11580621302033972,\n",
              " '동안': 0.5108256237659907,\n",
              " '동일': 0.5108256237659907,\n",
              " '듬뿍': 0.5108256237659907,\n",
              " '등': 0.5108256237659907,\n",
              " '또는': 0.5108256237659907,\n",
              " '뛰어난': 0.5108256237659907,\n",
              " '리더': 0.5108256237659907,\n",
              " '리코타': 0.5108256237659907,\n",
              " '마르게리타(Pizza': 0.5108256237659907,\n",
              " '마리나라(Pizza': 0.5108256237659907,\n",
              " '맛에': 0.5108256237659907,\n",
              " '맞아': 0.5108256237659907,\n",
              " '매장에서': 0.11580621302033972,\n",
              " '모차렐라,': 0.5108256237659907,\n",
              " '무료로': 0.5108256237659907,\n",
              " '무스와': 0.5108256237659907,\n",
              " '발상지이자': 0.5108256237659907,\n",
              " '방문포장': 0.5108256237659907,\n",
              " '배달': 0.5108256237659907,\n",
              " '본연의': 0.5108256237659907,\n",
              " '삼일절을': 0.5108256237659907,\n",
              " '선택하면': 0.5108256237659907,\n",
              " '세계': 0.5108256237659907,\n",
              " '소스': 0.5108256237659907,\n",
              " '수': 0.5108256237659907,\n",
              " '시': 0.5108256237659907,\n",
              " '시작한다.': 0.5108256237659907,\n",
              " '식감을': 0.5108256237659907,\n",
              " '신메뉴': 0.5108256237659907,\n",
              " '신메뉴를': 0.5108256237659907,\n",
              " '어우러진': 0.5108256237659907,\n",
              " '엄선한': 0.5108256237659907,\n",
              " '오는': 0.5108256237659907,\n",
              " '오프라인': 0.5108256237659907,\n",
              " '온라인': 0.5108256237659907,\n",
              " '온라인,': 0.5108256237659907,\n",
              " '올리고,': 0.5108256237659907,\n",
              " '와규': 0.5108256237659907,\n",
              " '우리': 0.5108256237659907,\n",
              " '원조라고': 0.5108256237659907,\n",
              " '이번': 0.5108256237659907,\n",
              " '이번에': 0.5108256237659907,\n",
              " '이벤트는': 0.5108256237659907,\n",
              " '이벤트다.': 0.5108256237659907,\n",
              " '이벤트를': 0.5108256237659907,\n",
              " '있는': 0.5108256237659907,\n",
              " '있다.': 0.5108256237659907,\n",
              " '자랑한다.': 0.5108256237659907,\n",
              " '장바구니에': 0.5108256237659907,\n",
              " '재료': 0.5108256237659907,\n",
              " '적용이': 0.5108256237659907,\n",
              " '전': 0.5108256237659907,\n",
              " '주문': 0.5108256237659907,\n",
              " '증정하는': 0.5108256237659907,\n",
              " '증정한다.': 0.5108256237659907,\n",
              " '진행한다.': 0.5108256237659907,\n",
              " '집중하여': 0.5108256237659907,\n",
              " '체더': 0.5108256237659907,\n",
              " '출시하고': 0.5108256237659907,\n",
              " '출시한다.도미노피자는': 0.5108256237659907,\n",
              " '치즈': 0.5108256237659907,\n",
              " '치즈가': 0.5108256237659907,\n",
              " '치즈와': 0.5108256237659907,\n",
              " '카망베르,': 0.5108256237659907,\n",
              " '큐브': 0.5108256237659907,\n",
              " '크럼블을': 0.5108256237659907,\n",
              " '판매를': 0.5108256237659907,\n",
              " '프리미엄': 0.5108256237659907,\n",
              " '피자': 0.11580621302033972,\n",
              " '피자(Pizza': 0.5108256237659907,\n",
              " '피자`는': 0.5108256237659907,\n",
              " '피자`를': 0.5108256237659907,\n",
              " '피자다.': 0.5108256237659907,\n",
              " '피자로는': 0.5108256237659907,\n",
              " '피자를': 0.5108256237659907,\n",
              " '피자의': 0.5108256237659907,\n",
              " '하루': 0.5108256237659907,\n",
              " '할': 0.5108256237659907,\n",
              " '할인': 0.5108256237659907,\n",
              " '형태로': 0.5108256237659907,\n",
              " '활용한': 0.5108256237659907,\n",
              " '후': 0.5108256237659907}"
            ]
          },
          "metadata": {},
          "execution_count": 5
        }
      ]
    },
    {
      "cell_type": "markdown",
      "metadata": {
        "id": "7_pcz7C3-0cD"
      },
      "source": [
        "이제 쿼리가 들어오면 토큰화를 진행하고 bm25 클래스의 get_scores 메서드를 통해 문서 점수를 받아올 수 있다."
      ]
    },
    {
      "cell_type": "code",
      "metadata": {
        "colab": {
          "base_uri": "https://localhost:8080/"
        },
        "id": "E-QKPhs5982p",
        "outputId": "9bda4714-c0ee-4b08-c0c5-b144922db0b7"
      },
      "source": [
        "query = \"도미노피자 신메뉴\"\n",
        "tokenized_query = tokenizer(query)\n",
        "\n",
        "doc_scores = bm25.get_scores(tokenized_query)\n",
        "doc_scores"
      ],
      "execution_count": 6,
      "outputs": [
        {
          "output_type": "execute_result",
          "data": {
            "text/plain": [
              "array([0.65960979, 0.        , 0.49736316])"
            ]
          },
          "metadata": {},
          "execution_count": 6
        }
      ]
    },
    {
      "cell_type": "markdown",
      "metadata": {
        "id": "ApKGPEF2-6U_"
      },
      "source": [
        "get_top_n 메서드는 점수에 따른 상위 n개의 문서를 바로 리턴해주기 때문에 유용하게 활용할 수 있다."
      ]
    },
    {
      "cell_type": "code",
      "metadata": {
        "colab": {
          "base_uri": "https://localhost:8080/"
        },
        "id": "nrNkX7Ga9_CU",
        "outputId": "d7b482ce-cf3e-411f-f3d0-a69ab041fc5d"
      },
      "source": [
        "bm25.get_top_n(tokenized_query, corpus, n=1)"
      ],
      "execution_count": 7,
      "outputs": [
        {
          "output_type": "execute_result",
          "data": {
            "text/plain": [
              "['세계 배달 피자 리더 도미노피자가 우리 고구마를 활용한 신메뉴를 출시한다.도미노피자는 오는 2월 1일 국내산 고구마와 4가지 치즈가 어우러진 신메뉴 `우리 고구마 피자`를 출시하고 전 매장에서 판매를 시작한다. 이번에 도미노피자가 내놓은 신메뉴 `우리 고구마 피자`는 까다롭게 엄선한 국내산 고구마를 무스와 큐브 형태로 듬뿍 올리고, 모차렐라, 카망베르, 체더 치즈와 리코타 치즈 소스 등 4가지 치즈와 와규 크럼블을 더한 프리미엄 고구마 피자다.']"
            ]
          },
          "metadata": {},
          "execution_count": 7
        }
      ]
    },
    {
      "cell_type": "code",
      "metadata": {
        "id": "FOkUZcOm-Bqc"
      },
      "source": [
        ""
      ],
      "execution_count": null,
      "outputs": []
    }
  ]
}