{
  "nbformat": 4,
  "nbformat_minor": 0,
  "metadata": {
    "colab": {
      "name": "[D-7]learning_to_rank.ipynb",
      "provenance": [],
      "collapsed_sections": []
    },
    "kernelspec": {
      "name": "python3",
      "display_name": "Python 3"
    },
    "language_info": {
      "name": "python"
    },
    "accelerator": "GPU"
  },
  "cells": [
    {
      "cell_type": "markdown",
      "metadata": {
        "id": "UGP8xbY6U3TR"
      },
      "source": [
        "### Movielens dataset으로 Learning-To-Rank 실습\n",
        "> 쇼핑몰 검색엔진을 최적화한다고 생각하여 봅시다. 검색을 통해 어떻게 순위를 매겨서 차례로 노출시킬 수 있을까요?\n",
        "> 직관적으로 피드백을 통해 개선하거나, A/B testing을 생각해 볼 수 있지만, 조금 더 공학적인 접근을 해보자구요 우리.\n",
        "\n",
        "\n",
        "**구매전환에 대한 점수를 매겨서, likelihood를 최대화하는 방향으로 선호도 함수를 자동으로 학습하는 알고리즘을 구현해 봅시다.**\n",
        "\n",
        "- price에 따른 구매 확률인 event data 생성\n",
        "- Tree 와 Logisticregression으로 성능 측정!\n",
        "\n",
        "[참고자료](https://towardsdatascience.com/learning-to-rank-with-python-scikit-learn-327a5cfd81f)"
      ]
    },
    {
      "cell_type": "code",
      "metadata": {
        "colab": {
          "base_uri": "https://localhost:8080/"
        },
        "id": "2jk29zSmPSeF",
        "outputId": "e87f9ab4-85d6-4b51-f7d8-70ad82e80123"
      },
      "source": [
        "!pip install sklearn\n",
        "!pip install pdb\n",
        "!pip install csv\n",
        "!pip install lasagne\n",
        "# !pip install sklearn.cross_validation"
      ],
      "execution_count": 1,
      "outputs": [
        {
          "output_type": "stream",
          "name": "stdout",
          "text": [
            "Requirement already satisfied: sklearn in /usr/local/lib/python3.7/dist-packages (0.0)\n",
            "Requirement already satisfied: scikit-learn in /usr/local/lib/python3.7/dist-packages (from sklearn) (0.22.2.post1)\n",
            "Requirement already satisfied: scipy>=0.17.0 in /usr/local/lib/python3.7/dist-packages (from scikit-learn->sklearn) (1.4.1)\n",
            "Requirement already satisfied: joblib>=0.11 in /usr/local/lib/python3.7/dist-packages (from scikit-learn->sklearn) (1.1.0)\n",
            "Requirement already satisfied: numpy>=1.11.0 in /usr/local/lib/python3.7/dist-packages (from scikit-learn->sklearn) (1.19.5)\n",
            "\u001b[31mERROR: Could not find a version that satisfies the requirement pdb (from versions: none)\u001b[0m\n",
            "\u001b[31mERROR: No matching distribution found for pdb\u001b[0m\n",
            "\u001b[31mERROR: Could not find a version that satisfies the requirement csv (from versions: none)\u001b[0m\n",
            "\u001b[31mERROR: No matching distribution found for csv\u001b[0m\n",
            "Requirement already satisfied: lasagne in /usr/local/lib/python3.7/dist-packages (0.1)\n",
            "Requirement already satisfied: numpy in /usr/local/lib/python3.7/dist-packages (from lasagne) (1.19.5)\n",
            "\u001b[31mERROR: Could not find a version that satisfies the requirement sklearn.cross_validation (from versions: none)\u001b[0m\n",
            "\u001b[31mERROR: No matching distribution found for sklearn.cross_validation\u001b[0m\n"
          ]
        }
      ]
    },
    {
      "cell_type": "code",
      "metadata": {
        "id": "oCv7t1eZO58R"
      },
      "source": [
        "import sys\n",
        "sys.path.insert(0, '../lib')  # noqa\n",
        "import numpy as np\n",
        "import pandas as pd\n",
        "from sklearn.model_selection import train_test_split\n",
        "from sklearn.metrics import mean_squared_error\n",
        "from sklearn.linear_model import LogisticRegression\n",
        "import pdb\n",
        "from sklearn.metrics import *\n",
        "%matplotlib inline\n",
        "import matplotlib.pyplot as plt\n",
        "from sklearn import preprocessing\n",
        "from sklearn.preprocessing import StandardScaler\n",
        "import itertools\n",
        "import csv\n",
        "# from lasagne import layers\n",
        "# from lasagne.updates import nesterov_momentum\n",
        "# from lasagne.nonlinearities import softmax\n",
        "# from nolearn.lasagne import NeuralNet\n",
        "from greedy_order import *"
      ],
      "execution_count": 46,
      "outputs": []
    },
    {
      "cell_type": "markdown",
      "metadata": {
        "id": "TweURBgvU05q"
      },
      "source": [
        "## 데이터 로드"
      ]
    },
    {
      "cell_type": "code",
      "metadata": {
        "id": "SYuuYYnqPFoJ"
      },
      "source": [
        "genres_data = pd.read_csv(\n",
        "    '/content/sample_data/u.genre', \n",
        "    sep = '|', \n",
        "    encoding = \"ISO-8859-1\", \n",
        "    header = None, \n",
        "    names=['name', 'id']\n",
        ")"
      ],
      "execution_count": 47,
      "outputs": []
    },
    {
      "cell_type": "markdown",
      "metadata": {
        "id": "5K9hKYmeVQBa"
      },
      "source": [
        "> 몇개의 칼럼을 append합니다."
      ]
    },
    {
      "cell_type": "code",
      "metadata": {
        "id": "OXJBMmiaVMrW"
      },
      "source": [
        "movie_data_columns = np.append(\n",
        "    ['movie_id', 'title', 'release_date', 'video_release_date', 'url'], \n",
        "    genres_data['name'].values\n",
        ")"
      ],
      "execution_count": 48,
      "outputs": []
    },
    {
      "cell_type": "code",
      "metadata": {
        "id": "Fkp-DtDcVSbk"
      },
      "source": [
        "movie_data = pd.read_csv(\n",
        "    '/content/sample_data/u.item', \n",
        "    sep = '|', \n",
        "    encoding = \"ISO-8859-1\", \n",
        "    header = None, \n",
        "    names = movie_data_columns,\n",
        "    index_col = 'movie_id'\n",
        ")"
      ],
      "execution_count": 49,
      "outputs": []
    },
    {
      "cell_type": "code",
      "metadata": {
        "colab": {
          "base_uri": "https://localhost:8080/",
          "height": 388
        },
        "id": "3MyeC7-8VZRj",
        "outputId": "299f8010-523d-4caa-afe7-bdb585c2f226"
      },
      "source": [
        "\n",
        "selected_columns = np.append(['title', 'release_date'], genres_data['name'].values)\n",
        "movie_data = movie_data[selected_columns]\n",
        "movie_data['release_date'] = pd.to_datetime(movie_data['release_date'])\n",
        "\n",
        "movie_data.head()"
      ],
      "execution_count": 50,
      "outputs": [
        {
          "output_type": "execute_result",
          "data": {
            "text/html": [
              "<div>\n",
              "<style scoped>\n",
              "    .dataframe tbody tr th:only-of-type {\n",
              "        vertical-align: middle;\n",
              "    }\n",
              "\n",
              "    .dataframe tbody tr th {\n",
              "        vertical-align: top;\n",
              "    }\n",
              "\n",
              "    .dataframe thead th {\n",
              "        text-align: right;\n",
              "    }\n",
              "</style>\n",
              "<table border=\"1\" class=\"dataframe\">\n",
              "  <thead>\n",
              "    <tr style=\"text-align: right;\">\n",
              "      <th></th>\n",
              "      <th>title</th>\n",
              "      <th>release_date</th>\n",
              "      <th>unknown</th>\n",
              "      <th>Action</th>\n",
              "      <th>Adventure</th>\n",
              "      <th>Animation</th>\n",
              "      <th>Children's</th>\n",
              "      <th>Comedy</th>\n",
              "      <th>Crime</th>\n",
              "      <th>Documentary</th>\n",
              "      <th>Drama</th>\n",
              "      <th>Fantasy</th>\n",
              "      <th>Film-Noir</th>\n",
              "      <th>Horror</th>\n",
              "      <th>Musical</th>\n",
              "      <th>Mystery</th>\n",
              "      <th>Romance</th>\n",
              "      <th>Sci-Fi</th>\n",
              "      <th>Thriller</th>\n",
              "      <th>War</th>\n",
              "      <th>Western</th>\n",
              "    </tr>\n",
              "    <tr>\n",
              "      <th>movie_id</th>\n",
              "      <th></th>\n",
              "      <th></th>\n",
              "      <th></th>\n",
              "      <th></th>\n",
              "      <th></th>\n",
              "      <th></th>\n",
              "      <th></th>\n",
              "      <th></th>\n",
              "      <th></th>\n",
              "      <th></th>\n",
              "      <th></th>\n",
              "      <th></th>\n",
              "      <th></th>\n",
              "      <th></th>\n",
              "      <th></th>\n",
              "      <th></th>\n",
              "      <th></th>\n",
              "      <th></th>\n",
              "      <th></th>\n",
              "      <th></th>\n",
              "      <th></th>\n",
              "    </tr>\n",
              "  </thead>\n",
              "  <tbody>\n",
              "    <tr>\n",
              "      <th>1</th>\n",
              "      <td>Toy Story (1995)</td>\n",
              "      <td>1995-01-01</td>\n",
              "      <td>0</td>\n",
              "      <td>0</td>\n",
              "      <td>0</td>\n",
              "      <td>1</td>\n",
              "      <td>1</td>\n",
              "      <td>1</td>\n",
              "      <td>0</td>\n",
              "      <td>0</td>\n",
              "      <td>0</td>\n",
              "      <td>0</td>\n",
              "      <td>0</td>\n",
              "      <td>0</td>\n",
              "      <td>0</td>\n",
              "      <td>0</td>\n",
              "      <td>0</td>\n",
              "      <td>0</td>\n",
              "      <td>0</td>\n",
              "      <td>0</td>\n",
              "      <td>0</td>\n",
              "    </tr>\n",
              "    <tr>\n",
              "      <th>2</th>\n",
              "      <td>GoldenEye (1995)</td>\n",
              "      <td>1995-01-01</td>\n",
              "      <td>0</td>\n",
              "      <td>1</td>\n",
              "      <td>1</td>\n",
              "      <td>0</td>\n",
              "      <td>0</td>\n",
              "      <td>0</td>\n",
              "      <td>0</td>\n",
              "      <td>0</td>\n",
              "      <td>0</td>\n",
              "      <td>0</td>\n",
              "      <td>0</td>\n",
              "      <td>0</td>\n",
              "      <td>0</td>\n",
              "      <td>0</td>\n",
              "      <td>0</td>\n",
              "      <td>0</td>\n",
              "      <td>1</td>\n",
              "      <td>0</td>\n",
              "      <td>0</td>\n",
              "    </tr>\n",
              "    <tr>\n",
              "      <th>3</th>\n",
              "      <td>Four Rooms (1995)</td>\n",
              "      <td>1995-01-01</td>\n",
              "      <td>0</td>\n",
              "      <td>0</td>\n",
              "      <td>0</td>\n",
              "      <td>0</td>\n",
              "      <td>0</td>\n",
              "      <td>0</td>\n",
              "      <td>0</td>\n",
              "      <td>0</td>\n",
              "      <td>0</td>\n",
              "      <td>0</td>\n",
              "      <td>0</td>\n",
              "      <td>0</td>\n",
              "      <td>0</td>\n",
              "      <td>0</td>\n",
              "      <td>0</td>\n",
              "      <td>0</td>\n",
              "      <td>1</td>\n",
              "      <td>0</td>\n",
              "      <td>0</td>\n",
              "    </tr>\n",
              "    <tr>\n",
              "      <th>4</th>\n",
              "      <td>Get Shorty (1995)</td>\n",
              "      <td>1995-01-01</td>\n",
              "      <td>0</td>\n",
              "      <td>1</td>\n",
              "      <td>0</td>\n",
              "      <td>0</td>\n",
              "      <td>0</td>\n",
              "      <td>1</td>\n",
              "      <td>0</td>\n",
              "      <td>0</td>\n",
              "      <td>1</td>\n",
              "      <td>0</td>\n",
              "      <td>0</td>\n",
              "      <td>0</td>\n",
              "      <td>0</td>\n",
              "      <td>0</td>\n",
              "      <td>0</td>\n",
              "      <td>0</td>\n",
              "      <td>0</td>\n",
              "      <td>0</td>\n",
              "      <td>0</td>\n",
              "    </tr>\n",
              "    <tr>\n",
              "      <th>5</th>\n",
              "      <td>Copycat (1995)</td>\n",
              "      <td>1995-01-01</td>\n",
              "      <td>0</td>\n",
              "      <td>0</td>\n",
              "      <td>0</td>\n",
              "      <td>0</td>\n",
              "      <td>0</td>\n",
              "      <td>0</td>\n",
              "      <td>1</td>\n",
              "      <td>0</td>\n",
              "      <td>1</td>\n",
              "      <td>0</td>\n",
              "      <td>0</td>\n",
              "      <td>0</td>\n",
              "      <td>0</td>\n",
              "      <td>0</td>\n",
              "      <td>0</td>\n",
              "      <td>0</td>\n",
              "      <td>1</td>\n",
              "      <td>0</td>\n",
              "      <td>0</td>\n",
              "    </tr>\n",
              "  </tbody>\n",
              "</table>\n",
              "</div>"
            ],
            "text/plain": [
              "                      title release_date  unknown  ...  Thriller  War  Western\n",
              "movie_id                                           ...                        \n",
              "1          Toy Story (1995)   1995-01-01        0  ...         0    0        0\n",
              "2          GoldenEye (1995)   1995-01-01        0  ...         1    0        0\n",
              "3         Four Rooms (1995)   1995-01-01        0  ...         1    0        0\n",
              "4         Get Shorty (1995)   1995-01-01        0  ...         0    0        0\n",
              "5            Copycat (1995)   1995-01-01        0  ...         1    0        0\n",
              "\n",
              "[5 rows x 21 columns]"
            ]
          },
          "metadata": {},
          "execution_count": 50
        }
      ]
    },
    {
      "cell_type": "markdown",
      "metadata": {
        "id": "e-YafoRqVZ2T"
      },
      "source": [
        "> 영화 이름, 출시일, 장르에 관한 정보(one-hot encoding) 가 담겨있는 `movie_data` 이네요!"
      ]
    },
    {
      "cell_type": "code",
      "metadata": {
        "id": "PdDubO2WV6lI"
      },
      "source": [
        "ratings_data = pd.read_csv(\n",
        "    '/content/sample_data/u.data', \n",
        "    sep = '\\t', \n",
        "    encoding = \"ISO-8859-1\", \n",
        "    header = None, \n",
        "    names=['user_id', 'movie_id', 'rating', 'timestamp']\n",
        ")"
      ],
      "execution_count": 51,
      "outputs": []
    },
    {
      "cell_type": "code",
      "metadata": {
        "id": "vaAh_Bb2WDxU"
      },
      "source": [
        "movie_data['ratings_average'] = ratings_data.groupby(['movie_id'])['rating'].mean()\n",
        "movie_data['ratings_count'] = ratings_data.groupby(['movie_id'])['rating'].count()"
      ],
      "execution_count": 52,
      "outputs": []
    },
    {
      "cell_type": "code",
      "metadata": {
        "colab": {
          "base_uri": "https://localhost:8080/",
          "height": 234
        },
        "id": "zZK2rG0PWHZN",
        "outputId": "83e65930-dce7-4f55-b218-bf8ac162a9f6"
      },
      "source": [
        "movie_data[['title', 'ratings_average', 'ratings_count']].head()"
      ],
      "execution_count": 53,
      "outputs": [
        {
          "output_type": "execute_result",
          "data": {
            "text/html": [
              "<div>\n",
              "<style scoped>\n",
              "    .dataframe tbody tr th:only-of-type {\n",
              "        vertical-align: middle;\n",
              "    }\n",
              "\n",
              "    .dataframe tbody tr th {\n",
              "        vertical-align: top;\n",
              "    }\n",
              "\n",
              "    .dataframe thead th {\n",
              "        text-align: right;\n",
              "    }\n",
              "</style>\n",
              "<table border=\"1\" class=\"dataframe\">\n",
              "  <thead>\n",
              "    <tr style=\"text-align: right;\">\n",
              "      <th></th>\n",
              "      <th>title</th>\n",
              "      <th>ratings_average</th>\n",
              "      <th>ratings_count</th>\n",
              "    </tr>\n",
              "    <tr>\n",
              "      <th>movie_id</th>\n",
              "      <th></th>\n",
              "      <th></th>\n",
              "      <th></th>\n",
              "    </tr>\n",
              "  </thead>\n",
              "  <tbody>\n",
              "    <tr>\n",
              "      <th>1</th>\n",
              "      <td>Toy Story (1995)</td>\n",
              "      <td>3.878319</td>\n",
              "      <td>452</td>\n",
              "    </tr>\n",
              "    <tr>\n",
              "      <th>2</th>\n",
              "      <td>GoldenEye (1995)</td>\n",
              "      <td>3.206107</td>\n",
              "      <td>131</td>\n",
              "    </tr>\n",
              "    <tr>\n",
              "      <th>3</th>\n",
              "      <td>Four Rooms (1995)</td>\n",
              "      <td>3.033333</td>\n",
              "      <td>90</td>\n",
              "    </tr>\n",
              "    <tr>\n",
              "      <th>4</th>\n",
              "      <td>Get Shorty (1995)</td>\n",
              "      <td>3.550239</td>\n",
              "      <td>209</td>\n",
              "    </tr>\n",
              "    <tr>\n",
              "      <th>5</th>\n",
              "      <td>Copycat (1995)</td>\n",
              "      <td>3.302326</td>\n",
              "      <td>86</td>\n",
              "    </tr>\n",
              "  </tbody>\n",
              "</table>\n",
              "</div>"
            ],
            "text/plain": [
              "                      title  ratings_average  ratings_count\n",
              "movie_id                                                   \n",
              "1          Toy Story (1995)         3.878319            452\n",
              "2          GoldenEye (1995)         3.206107            131\n",
              "3         Four Rooms (1995)         3.033333             90\n",
              "4         Get Shorty (1995)         3.550239            209\n",
              "5            Copycat (1995)         3.302326             86"
            ]
          },
          "metadata": {},
          "execution_count": 53
        }
      ]
    },
    {
      "cell_type": "markdown",
      "metadata": {
        "id": "jBDCbwodWJZD"
      },
      "source": [
        "> 이번에는 평점과 리뷰수가 담겨있는 데이터를 불러왔습니다. \n",
        "이제 null 값을 제거해보겠습니다."
      ]
    },
    {
      "cell_type": "code",
      "metadata": {
        "colab": {
          "base_uri": "https://localhost:8080/"
        },
        "id": "ClwDQY1PWUKS",
        "outputId": "49c0f7f1-6cc4-48f4-a690-7728f56c747c"
      },
      "source": [
        "movie_data[selected_columns].isnull().any()"
      ],
      "execution_count": 54,
      "outputs": [
        {
          "output_type": "execute_result",
          "data": {
            "text/plain": [
              "title           False\n",
              "release_date     True\n",
              "unknown         False\n",
              "Action          False\n",
              "Adventure       False\n",
              "Animation       False\n",
              "Children's      False\n",
              "Comedy          False\n",
              "Crime           False\n",
              "Documentary     False\n",
              "Drama           False\n",
              "Fantasy         False\n",
              "Film-Noir       False\n",
              "Horror          False\n",
              "Musical         False\n",
              "Mystery         False\n",
              "Romance         False\n",
              "Sci-Fi          False\n",
              "Thriller        False\n",
              "War             False\n",
              "Western         False\n",
              "dtype: bool"
            ]
          },
          "metadata": {},
          "execution_count": 54
        }
      ]
    },
    {
      "cell_type": "code",
      "metadata": {
        "id": "Ev8jdP5ZWWVx"
      },
      "source": [
        "null_release_dates = movie_data[movie_data['release_date'].isnull()]\n",
        "assert null_release_dates.shape[0] == 1"
      ],
      "execution_count": 55,
      "outputs": []
    },
    {
      "cell_type": "code",
      "metadata": {
        "id": "gTJLryDBWcsY"
      },
      "source": [
        "movie_data = movie_data.drop(null_release_dates.index.values)\n",
        "assert movie_data[selected_columns].isnull().any().any() == False"
      ],
      "execution_count": 56,
      "outputs": []
    },
    {
      "cell_type": "code",
      "metadata": {
        "colab": {
          "base_uri": "https://localhost:8080/"
        },
        "id": "2Ss0wyL4WeyX",
        "outputId": "64b59540-f895-4878-bcfa-2af50ce1a8ef"
      },
      "source": [
        "movie_data.dtypes\n"
      ],
      "execution_count": 57,
      "outputs": [
        {
          "output_type": "execute_result",
          "data": {
            "text/plain": [
              "title                      object\n",
              "release_date       datetime64[ns]\n",
              "unknown                     int64\n",
              "Action                      int64\n",
              "Adventure                   int64\n",
              "Animation                   int64\n",
              "Children's                  int64\n",
              "Comedy                      int64\n",
              "Crime                       int64\n",
              "Documentary                 int64\n",
              "Drama                       int64\n",
              "Fantasy                     int64\n",
              "Film-Noir                   int64\n",
              "Horror                      int64\n",
              "Musical                     int64\n",
              "Mystery                     int64\n",
              "Romance                     int64\n",
              "Sci-Fi                      int64\n",
              "Thriller                    int64\n",
              "War                         int64\n",
              "Western                     int64\n",
              "ratings_average           float64\n",
              "ratings_count               int64\n",
              "dtype: object"
            ]
          },
          "metadata": {},
          "execution_count": 57
        }
      ]
    },
    {
      "cell_type": "markdown",
      "metadata": {
        "id": "cXDX1nJVWuVO"
      },
      "source": [
        "> 여기서 영화의 가격에 대한 정보를 인위적으로  추가해 보겠습니다!"
      ]
    },
    {
      "cell_type": "code",
      "metadata": {
        "colab": {
          "base_uri": "https://localhost:8080/",
          "height": 234
        },
        "id": "nmfWE6A3Wgm_",
        "outputId": "41b0bcac-da5e-4ba1-d60b-e8db0506df40"
      },
      "source": [
        "from datetime import datetime\n",
        "import dateutil\n",
        "\n",
        "\n",
        "oldest_date = pd.to_datetime(movie_data['release_date']).min()\n",
        "most_recent_date = pd.to_datetime(movie_data['release_date']).max()\n",
        "normalised_age = (most_recent_date - pd.to_datetime(movie_data['release_date'])) / (most_recent_date - oldest_date)\n",
        "normalised_rating = (5 - movie_data['ratings_average']) / (5 - 1)\n",
        "\n",
        "movie_data['price'] = np.round((1 - normalised_rating) * (1 - normalised_age) * 10)\n",
        "movie_data[['title', 'price', 'ratings_average', 'ratings_count']].head()"
      ],
      "execution_count": 58,
      "outputs": [
        {
          "output_type": "execute_result",
          "data": {
            "text/html": [
              "<div>\n",
              "<style scoped>\n",
              "    .dataframe tbody tr th:only-of-type {\n",
              "        vertical-align: middle;\n",
              "    }\n",
              "\n",
              "    .dataframe tbody tr th {\n",
              "        vertical-align: top;\n",
              "    }\n",
              "\n",
              "    .dataframe thead th {\n",
              "        text-align: right;\n",
              "    }\n",
              "</style>\n",
              "<table border=\"1\" class=\"dataframe\">\n",
              "  <thead>\n",
              "    <tr style=\"text-align: right;\">\n",
              "      <th></th>\n",
              "      <th>title</th>\n",
              "      <th>price</th>\n",
              "      <th>ratings_average</th>\n",
              "      <th>ratings_count</th>\n",
              "    </tr>\n",
              "    <tr>\n",
              "      <th>movie_id</th>\n",
              "      <th></th>\n",
              "      <th></th>\n",
              "      <th></th>\n",
              "      <th></th>\n",
              "    </tr>\n",
              "  </thead>\n",
              "  <tbody>\n",
              "    <tr>\n",
              "      <th>1</th>\n",
              "      <td>Toy Story (1995)</td>\n",
              "      <td>7.0</td>\n",
              "      <td>3.878319</td>\n",
              "      <td>452</td>\n",
              "    </tr>\n",
              "    <tr>\n",
              "      <th>2</th>\n",
              "      <td>GoldenEye (1995)</td>\n",
              "      <td>5.0</td>\n",
              "      <td>3.206107</td>\n",
              "      <td>131</td>\n",
              "    </tr>\n",
              "    <tr>\n",
              "      <th>3</th>\n",
              "      <td>Four Rooms (1995)</td>\n",
              "      <td>5.0</td>\n",
              "      <td>3.033333</td>\n",
              "      <td>90</td>\n",
              "    </tr>\n",
              "    <tr>\n",
              "      <th>4</th>\n",
              "      <td>Get Shorty (1995)</td>\n",
              "      <td>6.0</td>\n",
              "      <td>3.550239</td>\n",
              "      <td>209</td>\n",
              "    </tr>\n",
              "    <tr>\n",
              "      <th>5</th>\n",
              "      <td>Copycat (1995)</td>\n",
              "      <td>5.0</td>\n",
              "      <td>3.302326</td>\n",
              "      <td>86</td>\n",
              "    </tr>\n",
              "  </tbody>\n",
              "</table>\n",
              "</div>"
            ],
            "text/plain": [
              "                      title  price  ratings_average  ratings_count\n",
              "movie_id                                                          \n",
              "1          Toy Story (1995)    7.0         3.878319            452\n",
              "2          GoldenEye (1995)    5.0         3.206107            131\n",
              "3         Four Rooms (1995)    5.0         3.033333             90\n",
              "4         Get Shorty (1995)    6.0         3.550239            209\n",
              "5            Copycat (1995)    5.0         3.302326             86"
            ]
          },
          "metadata": {},
          "execution_count": 58
        }
      ]
    },
    {
      "cell_type": "code",
      "metadata": {
        "id": "Z3w6EmLvW_EV"
      },
      "source": [
        "# one movie had title unknown, relesease data unknown, etc...\n",
        "movie_data = movie_data[movie_data['price'].notnull()]"
      ],
      "execution_count": 59,
      "outputs": []
    },
    {
      "cell_type": "code",
      "metadata": {
        "id": "ovw4G3XDXBki"
      },
      "source": [
        "# the lower the price, the more likely I am going to buy\n",
        "movie_data['buy_probability'] = 1 - movie_data['price'] * 0.1"
      ],
      "execution_count": 60,
      "outputs": []
    },
    {
      "cell_type": "markdown",
      "metadata": {
        "id": "mU90poywXJtN"
      },
      "source": [
        "> 랭킹이 완벽하다면, 아래와 같이 그래프를 확인할 수 있습니다. **가격이 낮을수록 구매확률은  올라가겠죠!!**"
      ]
    },
    {
      "cell_type": "code",
      "metadata": {
        "colab": {
          "base_uri": "https://localhost:8080/",
          "height": 279
        },
        "id": "0ZviaQFLXDWX",
        "outputId": "b8baf6af-09f9-4330-d8f6-b15a11a97e20"
      },
      "source": [
        "plt.plot(movie_data['price'].values, movie_data['buy_probability'].values, 'ro') # ro = red circles\n",
        "plt.xlabel('price')\n",
        "plt.ylabel('buy_probability')\n",
        "plt.show()"
      ],
      "execution_count": 61,
      "outputs": [
        {
          "output_type": "display_data",
          "data": {
            "image/png": "[encoded data removed]",
            "text/plain": [
              "<Figure size 432x288 with 1 Axes>"
            ]
          },
          "metadata": {
            "needs_background": "light"
          }
        }
      ]
    },
    {
      "cell_type": "markdown",
      "metadata": {
        "id": "hSpJ3ViRXYIE"
      },
      "source": [
        "> 장르, 년도, 평점, 가격에 대한 분포를 시각화해보겠습니다."
      ]
    },
    {
      "cell_type": "code",
      "metadata": {
        "id": "Nm8YAWOLXHtD"
      },
      "source": [
        "def plot_genres(movie_data):\n",
        "    genres_array = [(genre, movie_data[genre].sum()) for genre in genres_data['name'].values]\n",
        "    genres_names = list(map(lambda x: x[0], genres_array))\n",
        "    genres_count = list(map(lambda x: x[1], genres_array))\n",
        "\n",
        "    genres_df = pd.DataFrame({'name': genres_names, 'count': genres_count})\n",
        "    x = np.arange(len(genres_df['name'].values))\n",
        "    plt.bar(x, genres_df['count'].values)\n",
        "    plt.xticks(x, genres_df['name'].values, rotation='vertical')\n",
        "    plt.title(\"Genres distribution\")\n",
        "    \n",
        "def plot_years(movie_data):\n",
        "    years = movie_data['release_date'].values.astype('datetime64[Y]').astype(int) + 1970\n",
        "    plt.hist(years)\n",
        "    plt.title(\"Years distribution\")\n",
        "    \n",
        "def plot_ratings(movie_data):\n",
        "    movie_data['ratings_average'].hist()\n",
        "    plt.title(\"Ratings distribution\")\n",
        "    \n",
        "def plot_price(movie_data):\n",
        "    movie_data['price'].hist()\n",
        "    plt.title(\"Price distribution\")\n",
        "    \n",
        "def plot_ratings_count(movie_data):\n",
        "    movie_data['ratings_count'].hist()\n",
        "    plt.title(\"Ratings count\")\n",
        "    \n",
        "def buy_probability_distribution(movie_data):\n",
        "    movie_data['buy_probability'].hist(bins=11)\n",
        "    plt.title(\"Buy probability distribution\")"
      ],
      "execution_count": 62,
      "outputs": []
    },
    {
      "cell_type": "code",
      "metadata": {
        "id": "ifIZQvxRXirN"
      },
      "source": [
        "def plot_distributions(movie_data):\n",
        "    fig = plt.figure(figsize=(8, 6)) \n",
        "\n",
        "    fig.add_subplot(3, 2, 1)\n",
        "    plot_genres(movie_data)\n",
        "\n",
        "    fig.add_subplot(3, 2, 2)\n",
        "    plot_years(movie_data)\n",
        "\n",
        "    fig.add_subplot(3, 2, 3)\n",
        "    plot_ratings(movie_data)\n",
        "\n",
        "    fig.add_subplot(3, 2, 4)\n",
        "    plot_price(movie_data)\n",
        "\n",
        "    fig.add_subplot(3, 2, 5)\n",
        "    plot_ratings_count(movie_data)\n",
        "\n",
        "    fig.add_subplot(3, 2, 6)\n",
        "    buy_probability_distribution(movie_data)\n",
        "\n",
        "    plt.tight_layout()"
      ],
      "execution_count": 63,
      "outputs": []
    },
    {
      "cell_type": "code",
      "metadata": {
        "colab": {
          "base_uri": "https://localhost:8080/",
          "height": 441
        },
        "id": "JWdco__EXcw-",
        "outputId": "d0e44a96-f0c4-4e6b-f5c2-e3cf82b1bbfe"
      },
      "source": [
        "plot_distributions(movie_data)"
      ],
      "execution_count": 64,
      "outputs": [
        {
          "output_type": "display_data",
          "data": {
            "image/png": "[encoded data removed]",
            "text/plain": [
              "<Figure size 576x432 with 6 Axes>"
            ]
          },
          "metadata": {
            "needs_background": "light"
          }
        }
      ]
    },
    {
      "cell_type": "markdown",
      "metadata": {
        "id": "H0Snb870XpRe"
      },
      "source": [
        "## Event DataBase Function 정의하기"
      ]
    },
    {
      "cell_type": "code",
      "metadata": {
        "id": "w-Y2PdbtXexl"
      },
      "source": [
        "\n",
        "# The users database\n",
        "class User:\n",
        "    def __init__(self, id):\n",
        "        self.id = id\n",
        "        self.positive = []\n",
        "        self.negative = []\n",
        "        \n",
        "    def add_positive(self, movie_id):\n",
        "        self.positive.append(movie_id)\n",
        "    \n",
        "    def add_negative(self, movie_id):\n",
        "        self.negative.append(movie_id)\n",
        "    \n",
        "    def get_positive(self):\n",
        "        return self.positive\n",
        "    \n",
        "    def get_negative(self):\n",
        "        return self.negative"
      ],
      "execution_count": 65,
      "outputs": []
    },
    {
      "cell_type": "markdown",
      "metadata": {
        "id": "ZkoYQgzyqG4W"
      },
      "source": [
        "## 이제 EventGenerator Class를 정의하여 사용자들의 이벤트를 생성하여 봅시다."
      ]
    },
    {
      "cell_type": "code",
      "metadata": {
        "id": "CgxfFWbyXnJE"
      },
      "source": [
        "np.random.seed(1)\n",
        "\n",
        "class EventsGenerator:\n",
        "    NUM_OF_OPENED_MOVIES_PER_USER = 20\n",
        "    NUM_OF_USERS = 1000\n",
        "\n",
        "    def __init__(self, learning_data, buy_probability):\n",
        "        self.learning_data = learning_data\n",
        "        self.buy_probability = buy_probability\n",
        "        self.users = []\n",
        "        for id in range(1, self.NUM_OF_USERS):\n",
        "            self.users.append(User(id))\n",
        "        \n",
        "    def run(self, pairwise=False):\n",
        "        for user in self.users:\n",
        "            opened_movies = np.random.choice(self.learning_data.index.values, self.NUM_OF_OPENED_MOVIES_PER_USER)\n",
        "            self.__add_positives_and_negatives_to(user, opened_movies)\n",
        "\n",
        "        if pairwise:\n",
        "            return self.__build_pairwise_events_data()\n",
        "        else:\n",
        "            return self.__build_events_data()\n",
        "\n",
        "    def __add_positives_and_negatives_to(self, user, opened_movies):\n",
        "        for movie_id in opened_movies:\n",
        "            if np.random.binomial(1, self.buy_probability.loc[movie_id]): \n",
        "                user.add_positive(movie_id)\n",
        "            else:\n",
        "                user.add_negative(movie_id)\n",
        "                \n",
        "    def __build_events_data(self):\n",
        "        events_data = []\n",
        "        \n",
        "        for user in self.users:\n",
        "            for positive_id in user.get_positive():\n",
        "                tmp = learning_data.loc[positive_id].to_dict()\n",
        "                tmp['outcome'] = 1\n",
        "                events_data += [tmp]\n",
        "            \n",
        "            for negative_id in user.get_negative():\n",
        "                tmp = learning_data.loc[negative_id].to_dict()\n",
        "                tmp['outcome'] = 0\n",
        "                events_data += [tmp]\n",
        "                \n",
        "        return pd.DataFrame(events_data)\n",
        "    \n",
        "    def __build_pairwise_events_data(self):\n",
        "        events_data = []\n",
        "        \n",
        "        for i, user in enumerate(self.users):\n",
        "            print(\"{} of {}\".format(i, len(self.users)))\n",
        "            positives = user.get_positive()\n",
        "            negatives = user.get_negative()\n",
        "            \n",
        "            sample_size = min(len(positives), len(negatives))\n",
        "            \n",
        "            positives = np.random.choice(positives, sample_size)\n",
        "            negatives = np.random.choice(negatives, sample_size)\n",
        "            \n",
        "            # print(\"Adding {} events\".format(str(len(positives) * len(negatives) * 2)))\n",
        "            for positive in positives:\n",
        "                for negative in negatives:                    \n",
        "                    e1 = learning_data.loc[positive].values\n",
        "                    e2 = learning_data.loc[negative].values\n",
        "                    \n",
        "                    pos_neg_example = np.concatenate([e1, e2, [1]])\n",
        "                    neg_pos_example = np.concatenate([e2, e1, [0]])\n",
        "                    \n",
        "                    events_data.append(pos_neg_example)\n",
        "                    events_data.append(neg_pos_example)\n",
        "        \n",
        "        c1 = [ c + '_1' for c in learning_data.columns]\n",
        "        c2 = [ c + '_2' for c in learning_data.columns]\n",
        "        return pd.DataFrame(events_data, columns = np.concatenate([c1, c2, ['outcome']]))"
      ],
      "execution_count": 66,
      "outputs": []
    },
    {
      "cell_type": "code",
      "metadata": {
        "id": "0AvHUbnPXv0r"
      },
      "source": [
        "def build_learning_data_from(movie_data):\n",
        "    feature_columns = np.setdiff1d(movie_data.columns, np.array(['title', 'buy_probability']))\n",
        "    learning_data = movie_data.loc[:, feature_columns]\n",
        "    \n",
        "    scaler = StandardScaler()\n",
        "    learning_data.loc[:, ('price')] = scaler.fit_transform(learning_data[['price']])\n",
        "    learning_data['ratings_average'] = scaler.fit_transform(learning_data[['ratings_average']])\n",
        "    learning_data['ratings_count'] = scaler.fit_transform(learning_data[['ratings_count']])\n",
        "    learning_data['release_date'] = learning_data['release_date'].apply(lambda x: x.year)\n",
        "    learning_data['release_date'] = scaler.fit_transform(learning_data[['release_date']])\n",
        "    \n",
        "    return learning_data"
      ],
      "execution_count": 67,
      "outputs": []
    },
    {
      "cell_type": "code",
      "metadata": {
        "id": "skwC34RiXzn6"
      },
      "source": [
        "def plot_events_distribution(events_data):\n",
        "    events_data_sample = events_data.sample(frac=0.1)\n",
        "    negative_outcomes = events_data_sample[events_data_sample['outcome'] == 0.0]['price']\n",
        "    positive_outcomes = events_data_sample[events_data_sample['outcome'] == 1.0]['price']\n",
        "    \n",
        "    outcomes = np.array(list(zip(negative_outcomes.values, positive_outcomes.values)))\n",
        "    plt.hist(outcomes, bins=11, label = ['Negative', 'Positive'])\n",
        "    plt.legend()\n",
        "    plt.xlabel('price')\n",
        "    plt.show()"
      ],
      "execution_count": 68,
      "outputs": []
    },
    {
      "cell_type": "code",
      "metadata": {
        "id": "KR4zJ6kOX18B"
      },
      "source": [
        "def get_feature_columns_from(learning_data, pairwise=False):\n",
        "    if not pairwise:\n",
        "        return learning_data.columns.values\n",
        "    else:\n",
        "        f1 = [c + '_1' for c in learning_data.columns.values]\n",
        "        f2 = [c + '_2' for c in learning_data.columns.values]\n",
        "        f1.extend(f2)\n",
        "        return np.asarray(f1)"
      ],
      "execution_count": 69,
      "outputs": []
    },
    {
      "cell_type": "code",
      "metadata": {
        "id": "Vt07tMoiX9d1"
      },
      "source": [
        "def save_events_data(events_data, learning_data, tag, pairwise=False):\n",
        "    events_data = events_data.reindex(np.random.permutation(events_data.index))\n",
        "    events_data.to_csv('movie_events_' + tag + '.csv')\n",
        "    \n",
        "    if not pairwise:\n",
        "        df = pd.DataFrame(get_feature_columns_from(learning_data))\n",
        "        df.to_csv(\"feature_columns_\" + tag + \".csv\")\n",
        "    else:\n",
        "        df = pd.DataFrame(get_feature_columns_from(learning_data, pairwise=True))\n",
        "        df.to_csv(\"feature_columns_\" + tag + \".csv\")"
      ],
      "execution_count": 70,
      "outputs": []
    },
    {
      "cell_type": "code",
      "metadata": {
        "id": "0zBb1j1sX_qt"
      },
      "source": [
        "\n",
        "def load_events_data(tag):\n",
        "    events_data = pd.read_csv('movie_events_' + tag + '.csv')\n",
        "    tmp = pd.read_csv(\"feature_columns_\" + tag + \".csv\")\n",
        "    feature_columns = tmp['0'].values\n",
        "    \n",
        "    return [events_data, feature_columns]"
      ],
      "execution_count": 71,
      "outputs": []
    },
    {
      "cell_type": "code",
      "metadata": {
        "id": "YHo0T8SNYBoZ"
      },
      "source": [
        "def get_test_train_data(events_data, feature_columns):\n",
        "    X = events_data.loc[:, feature_columns].values.astype(np.float32)\n",
        "    print('overall input shape: ' + str(X.shape))\n",
        "\n",
        "    y = events_data.loc[:, ['outcome']].values.astype(np.float32).ravel()\n",
        "    print('overall output shape: ' + str(y.shape))\n",
        "\n",
        "    X_train, X_test, y_train, y_test = train_test_split(X, y, test_size=0.2, random_state=42)\n",
        "    print('training input shape: ' + str(X_train.shape))\n",
        "    print('training output shape: ' + str(y_train.shape))\n",
        "\n",
        "    print('testing input shape: ' + str(X_test.shape))\n",
        "    print('testing output shape: ' + str(y_test.shape))\n",
        "    \n",
        "    return [X_train, X_test, y_train, y_test]"
      ],
      "execution_count": 72,
      "outputs": []
    },
    {
      "cell_type": "code",
      "metadata": {
        "id": "PMyCySkXYFGx"
      },
      "source": [
        "learning_data = build_learning_data_from(movie_data)"
      ],
      "execution_count": 73,
      "outputs": []
    },
    {
      "cell_type": "code",
      "metadata": {
        "id": "Yg03BpXZYI-y"
      },
      "source": [
        "events_data = EventsGenerator(learning_data, movie_data['buy_probability']).run()\n"
      ],
      "execution_count": 74,
      "outputs": []
    },
    {
      "cell_type": "code",
      "metadata": {
        "id": "s-0Ve85vYMYu"
      },
      "source": [
        "save_events_data(events_data, learning_data, 'linear')\n"
      ],
      "execution_count": 75,
      "outputs": []
    },
    {
      "cell_type": "code",
      "metadata": {
        "id": "k-JWVra2YM3O"
      },
      "source": [
        "events_data, feature_columns = load_events_data('linear')\n"
      ],
      "execution_count": 76,
      "outputs": []
    },
    {
      "cell_type": "markdown",
      "metadata": {
        "id": "7rtJnp2_qh3a"
      },
      "source": [
        "### 아래와 같이 \n",
        "- 가격이 낮을수록 구매확률은 높아진다는 가정 하에 유저들의 가상의 event(구매활동)에 대한 정보를 시각화했습니다! \n",
        "### 이 값은 우리가 학습 진행시 label 데이터가 될 것입니다!!"
      ]
    },
    {
      "cell_type": "code",
      "metadata": {
        "id": "bNDJQ0uhYQOZ",
        "colab": {
          "base_uri": "https://localhost:8080/",
          "height": 279
        },
        "outputId": "b6c50341-1115-4c5c-dc17-da517df7c677"
      },
      "source": [
        "plot_events_distribution(events_data)\n"
      ],
      "execution_count": 86,
      "outputs": [
        {
          "output_type": "display_data",
          "data": {
            "image/png": "[encoded data removed]",
            "text/plain": [
              "<Figure size 432x288 with 1 Axes>"
            ]
          },
          "metadata": {
            "needs_background": "light"
          }
        }
      ]
    },
    {
      "cell_type": "markdown",
      "metadata": {
        "id": "NC9FMmrPZX4n"
      },
      "source": [
        "## 이제 train_test split을 통하여 구매확률을 얼마나 잘 학습할지 성능을 체크해봅시다!"
      ]
    },
    {
      "cell_type": "code",
      "metadata": {
        "colab": {
          "base_uri": "https://localhost:8080/"
        },
        "id": "9np92Ok1krIw",
        "outputId": "4286a945-dccb-422c-8bfd-0bbf5d7b20f5"
      },
      "source": [
        "X_train, X_test, y_train, y_test = get_test_train_data(events_data, feature_columns)\n"
      ],
      "execution_count": 79,
      "outputs": [
        {
          "output_type": "stream",
          "name": "stdout",
          "text": [
            "overall input shape: (19980, 23)\n",
            "overall output shape: (19980,)\n",
            "training input shape: (15984, 23)\n",
            "training output shape: (15984,)\n",
            "testing input shape: (3996, 23)\n",
            "testing output shape: (3996,)\n"
          ]
        }
      ]
    },
    {
      "cell_type": "code",
      "metadata": {
        "id": "o7FtAjMljjX8"
      },
      "source": [
        "def train_model(model, prediction_function, X_train, y_train, X_test, y_test):\n",
        "    model.fit(X_train, y_train)\n",
        "    \n",
        "    y_train_pred = prediction_function(model, X_train)\n",
        "    print('train precision: ' + str(precision_score(y_train, y_train_pred)))\n",
        "    print('train recall: ' + str(recall_score(y_train, y_train_pred)))\n",
        "    print('train accuracy: ' + str(accuracy_score(y_train, y_train_pred)))\n",
        "    y_test_pred = prediction_function(model, X_test)\n",
        "    print('test precision: ' + str(precision_score(y_test, y_test_pred)))\n",
        "    print('test recall: ' + str(recall_score(y_test, y_test_pred)))\n",
        "    print('test accuracy: ' + str(accuracy_score(y_test, y_test_pred)))\n",
        "    \n",
        "    return model"
      ],
      "execution_count": 80,
      "outputs": []
    },
    {
      "cell_type": "markdown",
      "metadata": {
        "id": "b4OvUestnwog"
      },
      "source": [
        "## 1) Logistic Regression으로 성능 측정! -> 64%의 test accuracy."
      ]
    },
    {
      "cell_type": "code",
      "metadata": {
        "colab": {
          "base_uri": "https://localhost:8080/"
        },
        "id": "hUFOZcgKj6vY",
        "outputId": "adb6c0a4-7866-4e3a-9891-b203753cecd3"
      },
      "source": [
        "def get_predicted_outcome(model, data):\n",
        "    return np.argmax(model.predict_proba(data), axis=1).astype(np.float32)\n",
        "def get_predicted_rank(model, data):\n",
        "    return model.predict_proba(data)[:, 1]\n",
        "model = train_model(LogisticRegression(), get_predicted_outcome, X_train, y_train, X_test, y_test)"
      ],
      "execution_count": 81,
      "outputs": [
        {
          "output_type": "stream",
          "name": "stdout",
          "text": [
            "train precision: 0.6740188772975658\n",
            "train recall: 0.7543645057266763\n",
            "train accuracy: 0.6565315315315315\n",
            "test precision: 0.6495925494761351\n",
            "test recall: 0.7584956955142728\n",
            "test accuracy: 0.6406406406406406\n"
          ]
        }
      ]
    },
    {
      "cell_type": "markdown",
      "metadata": {
        "id": "AtEii1ecnUI1"
      },
      "source": [
        "> 시각화 함수를 별도로 정의해 보겠습니다!!"
      ]
    },
    {
      "cell_type": "code",
      "metadata": {
        "id": "mQViQp75lDMV"
      },
      "source": [
        "def plot_rank(features, model, learning_data, predict_fun):\n",
        "    lg_input = learning_data.values.astype(np.float32)\n",
        "    print('overall input shape: ' + str(lg_input.shape))\n",
        "\n",
        "    learning_data_with_rank = learning_data.copy()\n",
        "    learning_data_with_rank['rank'] = predict_fun(model, lg_input)\n",
        "    \n",
        "    for idx, feature in enumerate(features):\n",
        "        plt.subplot(len(features), 1, idx + 1)\n",
        "        plt.plot(learning_data_with_rank[feature].values, learning_data_with_rank['rank'].values, 'ro')\n",
        "        plt.xlabel(feature)\n",
        "        plt.ylabel('rank')\n",
        "        \n",
        "    plt.tight_layout()\n",
        "    plt.show()"
      ],
      "execution_count": 78,
      "outputs": []
    },
    {
      "cell_type": "code",
      "metadata": {
        "colab": {
          "base_uri": "https://localhost:8080/",
          "height": 314
        },
        "id": "IyVI1NmKk6jB",
        "outputId": "945dff86-ca04-4540-946d-e24125964b50"
      },
      "source": [
        "plot_rank(['price'], model, learning_data, get_predicted_rank)"
      ],
      "execution_count": 82,
      "outputs": [
        {
          "output_type": "stream",
          "name": "stdout",
          "text": [
            "overall input shape: (1681, 23)\n"
          ]
        },
        {
          "output_type": "display_data",
          "data": {
            "image/png": "[encoded data removed]",
            "text/plain": [
              "<Figure size 432x288 with 1 Axes>"
            ]
          },
          "metadata": {
            "needs_background": "light"
          }
        }
      ]
    },
    {
      "cell_type": "code",
      "metadata": {
        "id": "xBkrbZLLkN9P"
      },
      "source": [
        "def get_predicted_outcome(model, data):\n",
        "    return np.argmax(model.predict_proba(data), axis=1).astype(np.float32)\n",
        "def get_predicted_rank(model, data):\n",
        "    return model.predict_proba(data)[:, 1]"
      ],
      "execution_count": 83,
      "outputs": []
    },
    {
      "cell_type": "markdown",
      "metadata": {
        "id": "Z2T9C3i4oFRW"
      },
      "source": [
        "## 2) Decision Tree로 성능 측정! 62%의 Test Accuracy."
      ]
    },
    {
      "cell_type": "code",
      "metadata": {
        "colab": {
          "base_uri": "https://localhost:8080/"
        },
        "id": "eB4GBmYGkSdG",
        "outputId": "4c1dc3dc-4a14-4d56-c4d1-6989ecb81753"
      },
      "source": [
        "from sklearn import tree\n",
        "model = train_model(tree.DecisionTreeClassifier(), get_predicted_outcome, X_train, y_train, X_test, y_test)"
      ],
      "execution_count": 84,
      "outputs": [
        {
          "output_type": "stream",
          "name": "stdout",
          "text": [
            "train precision: 0.7404352806414662\n",
            "train recall: 0.7187812743244746\n",
            "train accuracy: 0.7000125125125125\n",
            "test precision: 0.6590805644060082\n",
            "test recall: 0.6560942455822383\n",
            "test accuracy: 0.6226226226226226\n"
          ]
        }
      ]
    },
    {
      "cell_type": "code",
      "metadata": {
        "colab": {
          "base_uri": "https://localhost:8080/",
          "height": 314
        },
        "id": "9hBxjIoUlSWx",
        "outputId": "637d8187-3e73-4bcd-a19d-847fa1208192"
      },
      "source": [
        "plot_rank(['price'], model, learning_data, get_predicted_rank)"
      ],
      "execution_count": 85,
      "outputs": [
        {
          "output_type": "stream",
          "name": "stdout",
          "text": [
            "overall input shape: (1681, 23)\n"
          ]
        },
        {
          "output_type": "display_data",
          "data": {
            "image/png": "[encoded data removed]",
            "text/plain": [
              "<Figure size 432x288 with 1 Axes>"
            ]
          },
          "metadata": {
            "needs_background": "light"
          }
        }
      ]
    },
    {
      "cell_type": "markdown",
      "metadata": {
        "id": "380yq-H9rKr1"
      },
      "source": [
        "각각 62, 65% 의 정확도를 보였네요. 추가적으로 더 제대로 된 모델을 통해서 진행하면 재밌는 결과가 나올지도 모르겠습니다."
      ]
    }
  ]
}