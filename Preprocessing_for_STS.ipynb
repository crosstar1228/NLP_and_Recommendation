{
  "nbformat": 4,
  "nbformat_minor": 0,
  "metadata": {
    "colab": {
      "name": "Preprocessing_for_STS.ipynb",
      "provenance": []
    },
    "kernelspec": {
      "name": "python3",
      "display_name": "Python 3"
    },
    "language_info": {
      "name": "python"
    }
  },
  "cells": [
    {
      "cell_type": "code",
      "execution_count": 2,
      "metadata": {
        "colab": {
          "base_uri": "https://localhost:8080/"
        },
        "id": "C5Km__GQh0sd",
        "outputId": "fb9c5d33-c338-4d76-b8e7-6cb9d4fd6a40"
      },
      "outputs": [
        {
          "output_type": "stream",
          "name": "stdout",
          "text": [
            " hello world\n"
          ]
        }
      ],
      "source": [
        "import re \n",
        "test_string = \"안녕하세요. 반갑습니다. 제 집 주소<www.hi.com>로 놀러오세요. 맛있는거 사드릴게요\"\n",
        "test_string =re.sub(\"((http|https)\\:\\/\\/)?[a-zA-Z0-9\\.\\/\\?\\:@\\-_=#]+\\.([a-zA-Z]){2,6}([a-zA-Z0-9\\.\\&\\/\\?\\:@\\-_=#])*\", \"\",test_string)\n",
        "print(test_string)"
      ]
    },
    {
      "cell_type": "code",
      "source": [
        "import re\n",
        "import string\n",
        "\n",
        "def normalize_answer(s):\n",
        "    def remove_(text):\n",
        "        ''' 불필요한 기호 제거 '''\n",
        "        text = re.sub('[-=+,#/\\?:^.@*\\\"※~ㆍ!』‘|\\(\\)\\[\\]`\\'…》\\”\\“\\’·]', ' ', text)\n",
        "        return text\n",
        "\n",
        "    def white_space_fix(text):  #공백을 하나로 줄이는 코드\n",
        "        return ' '.join(text.split())\n",
        "\n",
        "    def remove_punc(text): # 반점 제거\n",
        "        exclude = set(string.punctuation)\n",
        "        return ''.join(ch for ch in text if ch not in exclude)\n",
        "\n",
        "    def lower(text): # 소문자로 변경\n",
        "        return text.lower()\n",
        "\n",
        "    return white_space_fix(remove_punc(lower(remove_(s))))\n",
        "\n",
        "def preprocess(sen):\n",
        "  sen =  re.sub(\"((http|https)\\:\\/\\/)?[a-zA-Z0-9\\.\\/\\?\\:@\\-_=#]+\\.([a-zA-Z]){2,6}([a-zA-Z0-9\\.\\&\\/\\?\\:@\\-_=#])*\", \"\",sen) #주소를 먼저 제거\n",
        "  sen = normalize_answer(sen)\n",
        "  \n",
        "  return sen\n",
        "test_string = \"안녕하세요. 반갑습니다. 제 집 주소<www.hi.com>로 놀러오세요. 맛있는거 사드릴게요\"\n",
        "preprocess(test_string)"
      ],
      "metadata": {
        "colab": {
          "base_uri": "https://localhost:8080/",
          "height": 35
        },
        "id": "w6UU1pnZh_Vr",
        "outputId": "78037a8b-b88d-47f2-96a1-7babb38213ac"
      },
      "execution_count": 11,
      "outputs": [
        {
          "output_type": "execute_result",
          "data": {
            "text/plain": [
              "'안녕하세요 반갑습니다 제 집 주소로 놀러오세요 맛있는거 사드릴게요'"
            ],
            "application/vnd.google.colaboratory.intrinsic+json": {
              "type": "string"
            }
          },
          "metadata": {},
          "execution_count": 11
        }
      ]
    },
    {
      "cell_type": "code",
      "source": [
        ""
      ],
      "metadata": {
        "id": "J_fSKTBcirv2"
      },
      "execution_count": null,
      "outputs": []
    }
  ]
}