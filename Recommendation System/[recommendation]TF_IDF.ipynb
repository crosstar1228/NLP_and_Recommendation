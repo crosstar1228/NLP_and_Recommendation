{
  "nbformat": 4,
  "nbformat_minor": 0,
  "metadata": {
    "colab": {
      "name": "[recommendation]TF-IDF.ipynb",
      "provenance": [],
      "collapsed_sections": []
    },
    "kernelspec": {
      "name": "python3",
      "display_name": "Python 3"
    },
    "language_info": {
      "name": "python"
    },
    "accelerator": "GPU"
  },
  "cells": [
    {
      "cell_type": "markdown",
      "metadata": {
        "id": "ayXQ5oRidITz"
      },
      "source": [
        "## TF-IDF 실습\n",
        "- 사이킷런 활용\n",
        "\n",
        "1) 한글 문장으로 TF-IDF 코사인 유사도 구하기 `CountVectorizer` 만 이용<br>\n",
        "2) 영어 문장으로 코사인 우사도 구하기 `TfidfVectorizer` 이용"
      ]
    },
    {
      "cell_type": "code",
      "metadata": {
        "id": "15Rqq-gZau1-"
      },
      "source": [
        "from sklearn.feature_extraction.text import CountVectorizer\n",
        "import pandas as pd\n",
        "import numpy as np\n",
        "\n",
        "corpus = [\n",
        "  '먹고 싶은 사과',\n",
        "  '먹고 싶은 바나나',\n",
        "  '길고 노란 바나나 바나나',\n",
        "  '저는 과일이 좋아요'\n",
        "] \n",
        "\n",
        "vect = CountVectorizer()\n",
        "document_term_matrix = vect.fit_transform(corpus)       # 문서-단어 행렬 \n",
        "\n",
        "tf = pd.DataFrame(document_term_matrix.toarray(), columns=vect.get_feature_names())  \n",
        "                                             # TF (Term Frequency)\n",
        "D = len(tf)\n",
        "df = tf.astype(bool).sum(axis=0)\n",
        "idf = np.log((D+1) / (df+1)) + 1             # IDF (Inverse Document Frequency)\n",
        "\n",
        "# TF-IDF (Term Frequency-Inverse Document Frequency)\n",
        "tfidf = tf * idf                      \n",
        "tfidf = tfidf / np.linalg.norm(tfidf, axis=1, keepdims=True)"
      ],
      "execution_count": 1,
      "outputs": []
    },
    {
      "cell_type": "code",
      "metadata": {
        "colab": {
          "base_uri": "https://localhost:8080/",
          "height": 171
        },
        "id": "z6_Ucdpia9fb",
        "outputId": "46fc10d4-5595-46c4-8a4b-e7cc7921e3fc"
      },
      "source": [
        "tf"
      ],
      "execution_count": 2,
      "outputs": [
        {
          "output_type": "execute_result",
          "data": {
            "text/html": [
              "<div>\n",
              "<style scoped>\n",
              "    .dataframe tbody tr th:only-of-type {\n",
              "        vertical-align: middle;\n",
              "    }\n",
              "\n",
              "    .dataframe tbody tr th {\n",
              "        vertical-align: top;\n",
              "    }\n",
              "\n",
              "    .dataframe thead th {\n",
              "        text-align: right;\n",
              "    }\n",
              "</style>\n",
              "<table border=\"1\" class=\"dataframe\">\n",
              "  <thead>\n",
              "    <tr style=\"text-align: right;\">\n",
              "      <th></th>\n",
              "      <th>과일이</th>\n",
              "      <th>길고</th>\n",
              "      <th>노란</th>\n",
              "      <th>먹고</th>\n",
              "      <th>바나나</th>\n",
              "      <th>사과</th>\n",
              "      <th>싶은</th>\n",
              "      <th>저는</th>\n",
              "      <th>좋아요</th>\n",
              "    </tr>\n",
              "  </thead>\n",
              "  <tbody>\n",
              "    <tr>\n",
              "      <th>0</th>\n",
              "      <td>0</td>\n",
              "      <td>0</td>\n",
              "      <td>0</td>\n",
              "      <td>1</td>\n",
              "      <td>0</td>\n",
              "      <td>1</td>\n",
              "      <td>1</td>\n",
              "      <td>0</td>\n",
              "      <td>0</td>\n",
              "    </tr>\n",
              "    <tr>\n",
              "      <th>1</th>\n",
              "      <td>0</td>\n",
              "      <td>0</td>\n",
              "      <td>0</td>\n",
              "      <td>1</td>\n",
              "      <td>1</td>\n",
              "      <td>0</td>\n",
              "      <td>1</td>\n",
              "      <td>0</td>\n",
              "      <td>0</td>\n",
              "    </tr>\n",
              "    <tr>\n",
              "      <th>2</th>\n",
              "      <td>0</td>\n",
              "      <td>1</td>\n",
              "      <td>1</td>\n",
              "      <td>0</td>\n",
              "      <td>2</td>\n",
              "      <td>0</td>\n",
              "      <td>0</td>\n",
              "      <td>0</td>\n",
              "      <td>0</td>\n",
              "    </tr>\n",
              "    <tr>\n",
              "      <th>3</th>\n",
              "      <td>1</td>\n",
              "      <td>0</td>\n",
              "      <td>0</td>\n",
              "      <td>0</td>\n",
              "      <td>0</td>\n",
              "      <td>0</td>\n",
              "      <td>0</td>\n",
              "      <td>1</td>\n",
              "      <td>1</td>\n",
              "    </tr>\n",
              "  </tbody>\n",
              "</table>\n",
              "</div>"
            ],
            "text/plain": [
              "   과일이  길고  노란  먹고  바나나  사과  싶은  저는  좋아요\n",
              "0    0   0   0   1    0   1   1   0    0\n",
              "1    0   0   0   1    1   0   1   0    0\n",
              "2    0   1   1   0    2   0   0   0    0\n",
              "3    1   0   0   0    0   0   0   1    1"
            ]
          },
          "metadata": {},
          "execution_count": 2
        }
      ]
    },
    {
      "cell_type": "code",
      "metadata": {
        "colab": {
          "base_uri": "https://localhost:8080/",
          "height": 171
        },
        "id": "KSP_FQg7bDii",
        "outputId": "a9c68899-8c7e-4c59-92f1-0a09ff2a17e1"
      },
      "source": [
        "tfidf"
      ],
      "execution_count": 3,
      "outputs": [
        {
          "output_type": "execute_result",
          "data": {
            "text/html": [
              "<div>\n",
              "<style scoped>\n",
              "    .dataframe tbody tr th:only-of-type {\n",
              "        vertical-align: middle;\n",
              "    }\n",
              "\n",
              "    .dataframe tbody tr th {\n",
              "        vertical-align: top;\n",
              "    }\n",
              "\n",
              "    .dataframe thead th {\n",
              "        text-align: right;\n",
              "    }\n",
              "</style>\n",
              "<table border=\"1\" class=\"dataframe\">\n",
              "  <thead>\n",
              "    <tr style=\"text-align: right;\">\n",
              "      <th></th>\n",
              "      <th>과일이</th>\n",
              "      <th>길고</th>\n",
              "      <th>노란</th>\n",
              "      <th>먹고</th>\n",
              "      <th>바나나</th>\n",
              "      <th>사과</th>\n",
              "      <th>싶은</th>\n",
              "      <th>저는</th>\n",
              "      <th>좋아요</th>\n",
              "    </tr>\n",
              "  </thead>\n",
              "  <tbody>\n",
              "    <tr>\n",
              "      <th>0</th>\n",
              "      <td>0.00000</td>\n",
              "      <td>0.00000</td>\n",
              "      <td>0.00000</td>\n",
              "      <td>0.526405</td>\n",
              "      <td>0.00000</td>\n",
              "      <td>0.667679</td>\n",
              "      <td>0.526405</td>\n",
              "      <td>0.00000</td>\n",
              "      <td>0.00000</td>\n",
              "    </tr>\n",
              "    <tr>\n",
              "      <th>1</th>\n",
              "      <td>0.00000</td>\n",
              "      <td>0.00000</td>\n",
              "      <td>0.00000</td>\n",
              "      <td>0.577350</td>\n",
              "      <td>0.57735</td>\n",
              "      <td>0.000000</td>\n",
              "      <td>0.577350</td>\n",
              "      <td>0.00000</td>\n",
              "      <td>0.00000</td>\n",
              "    </tr>\n",
              "    <tr>\n",
              "      <th>2</th>\n",
              "      <td>0.00000</td>\n",
              "      <td>0.47212</td>\n",
              "      <td>0.47212</td>\n",
              "      <td>0.000000</td>\n",
              "      <td>0.74445</td>\n",
              "      <td>0.000000</td>\n",
              "      <td>0.000000</td>\n",
              "      <td>0.00000</td>\n",
              "      <td>0.00000</td>\n",
              "    </tr>\n",
              "    <tr>\n",
              "      <th>3</th>\n",
              "      <td>0.57735</td>\n",
              "      <td>0.00000</td>\n",
              "      <td>0.00000</td>\n",
              "      <td>0.000000</td>\n",
              "      <td>0.00000</td>\n",
              "      <td>0.000000</td>\n",
              "      <td>0.000000</td>\n",
              "      <td>0.57735</td>\n",
              "      <td>0.57735</td>\n",
              "    </tr>\n",
              "  </tbody>\n",
              "</table>\n",
              "</div>"
            ],
            "text/plain": [
              "       과일이       길고       노란        먹고  ...        사과        싶은       저는      좋아요\n",
              "0  0.00000  0.00000  0.00000  0.526405  ...  0.667679  0.526405  0.00000  0.00000\n",
              "1  0.00000  0.00000  0.00000  0.577350  ...  0.000000  0.577350  0.00000  0.00000\n",
              "2  0.00000  0.47212  0.47212  0.000000  ...  0.000000  0.000000  0.00000  0.00000\n",
              "3  0.57735  0.00000  0.00000  0.000000  ...  0.000000  0.000000  0.57735  0.57735\n",
              "\n",
              "[4 rows x 9 columns]"
            ]
          },
          "metadata": {},
          "execution_count": 3
        }
      ]
    },
    {
      "cell_type": "code",
      "metadata": {
        "colab": {
          "base_uri": "https://localhost:8080/"
        },
        "id": "5QzXig1jbHWK",
        "outputId": "99df582b-edd0-4d7d-f4f3-6665455b40c7"
      },
      "source": [
        "tfidf.loc[0]"
      ],
      "execution_count": 7,
      "outputs": [
        {
          "output_type": "execute_result",
          "data": {
            "text/plain": [
              "과일이    0.000000\n",
              "길고     0.000000\n",
              "노란     0.000000\n",
              "먹고     0.526405\n",
              "바나나    0.000000\n",
              "사과     0.667679\n",
              "싶은     0.526405\n",
              "저는     0.000000\n",
              "좋아요    0.000000\n",
              "Name: 0, dtype: float64"
            ]
          },
          "metadata": {},
          "execution_count": 7
        }
      ]
    },
    {
      "cell_type": "code",
      "metadata": {
        "colab": {
          "base_uri": "https://localhost:8080/"
        },
        "id": "W0kXo8aibNmi",
        "outputId": "059abf30-471d-45c6-9f61-699f412e03c4"
      },
      "source": [
        "from numpy.linalg import norm\n",
        "def cos_sim(A, B):\n",
        "    return np.dot(A, B)/(norm(A)*norm(B))\n",
        "cos_sim(tfidf.loc[1],tfidf.loc[2])"
      ],
      "execution_count": 10,
      "outputs": [
        {
          "output_type": "execute_result",
          "data": {
            "text/plain": [
              "0.4298082367242732"
            ]
          },
          "metadata": {},
          "execution_count": 10
        }
      ]
    },
    {
      "cell_type": "code",
      "metadata": {
        "colab": {
          "base_uri": "https://localhost:8080/"
        },
        "id": "Wew_HSbWcBAa",
        "outputId": "d42e3db2-48a4-4599-81b5-d0807ad0dd75"
      },
      "source": [
        "sim_with_2nd=[]\n",
        "for i in range(4):\n",
        "  sim_with_2nd.append(cos_sim(tfidf.loc[1],tfidf.loc[i]))\n",
        "sim_with_2nd"
      ],
      "execution_count": 21,
      "outputs": [
        {
          "output_type": "execute_result",
          "data": {
            "text/plain": [
              "[0.7345619527913894, 0.9999999999999999, 0.36728097639569474, 0.0]"
            ]
          },
          "metadata": {},
          "execution_count": 21
        }
      ]
    },
    {
      "cell_type": "code",
      "metadata": {
        "colab": {
          "base_uri": "https://localhost:8080/",
          "height": 171
        },
        "id": "sERFJyN8c0wh",
        "outputId": "7830a74d-c06f-4195-a6cb-359580915fe6"
      },
      "source": [
        "tfidf['similarity with 1'] = sim_with_2nd\n",
        "tfidf"
      ],
      "execution_count": 23,
      "outputs": [
        {
          "output_type": "execute_result",
          "data": {
            "text/html": [
              "<div>\n",
              "<style scoped>\n",
              "    .dataframe tbody tr th:only-of-type {\n",
              "        vertical-align: middle;\n",
              "    }\n",
              "\n",
              "    .dataframe tbody tr th {\n",
              "        vertical-align: top;\n",
              "    }\n",
              "\n",
              "    .dataframe thead th {\n",
              "        text-align: right;\n",
              "    }\n",
              "</style>\n",
              "<table border=\"1\" class=\"dataframe\">\n",
              "  <thead>\n",
              "    <tr style=\"text-align: right;\">\n",
              "      <th></th>\n",
              "      <th>과일이</th>\n",
              "      <th>길고</th>\n",
              "      <th>노란</th>\n",
              "      <th>먹고</th>\n",
              "      <th>바나나</th>\n",
              "      <th>사과</th>\n",
              "      <th>싶은</th>\n",
              "      <th>저는</th>\n",
              "      <th>좋아요</th>\n",
              "      <th>similarity with 0</th>\n",
              "      <th>similarity with 1</th>\n",
              "    </tr>\n",
              "  </thead>\n",
              "  <tbody>\n",
              "    <tr>\n",
              "      <th>0</th>\n",
              "      <td>0.00000</td>\n",
              "      <td>0.00000</td>\n",
              "      <td>0.00000</td>\n",
              "      <td>0.526405</td>\n",
              "      <td>0.00000</td>\n",
              "      <td>0.667679</td>\n",
              "      <td>0.526405</td>\n",
              "      <td>0.00000</td>\n",
              "      <td>0.00000</td>\n",
              "      <td>1.000000</td>\n",
              "      <td>0.734562</td>\n",
              "    </tr>\n",
              "    <tr>\n",
              "      <th>1</th>\n",
              "      <td>0.00000</td>\n",
              "      <td>0.00000</td>\n",
              "      <td>0.00000</td>\n",
              "      <td>0.577350</td>\n",
              "      <td>0.57735</td>\n",
              "      <td>0.000000</td>\n",
              "      <td>0.577350</td>\n",
              "      <td>0.00000</td>\n",
              "      <td>0.00000</td>\n",
              "      <td>0.607841</td>\n",
              "      <td>1.000000</td>\n",
              "    </tr>\n",
              "    <tr>\n",
              "      <th>2</th>\n",
              "      <td>0.00000</td>\n",
              "      <td>0.47212</td>\n",
              "      <td>0.47212</td>\n",
              "      <td>0.000000</td>\n",
              "      <td>0.74445</td>\n",
              "      <td>0.000000</td>\n",
              "      <td>0.000000</td>\n",
              "      <td>0.00000</td>\n",
              "      <td>0.00000</td>\n",
              "      <td>0.000000</td>\n",
              "      <td>0.367281</td>\n",
              "    </tr>\n",
              "    <tr>\n",
              "      <th>3</th>\n",
              "      <td>0.57735</td>\n",
              "      <td>0.00000</td>\n",
              "      <td>0.00000</td>\n",
              "      <td>0.000000</td>\n",
              "      <td>0.00000</td>\n",
              "      <td>0.000000</td>\n",
              "      <td>0.000000</td>\n",
              "      <td>0.57735</td>\n",
              "      <td>0.57735</td>\n",
              "      <td>0.000000</td>\n",
              "      <td>0.000000</td>\n",
              "    </tr>\n",
              "  </tbody>\n",
              "</table>\n",
              "</div>"
            ],
            "text/plain": [
              "       과일이       길고       노란  ...      좋아요  similarity with 0  similarity with 1\n",
              "0  0.00000  0.00000  0.00000  ...  0.00000           1.000000           0.734562\n",
              "1  0.00000  0.00000  0.00000  ...  0.00000           0.607841           1.000000\n",
              "2  0.00000  0.47212  0.47212  ...  0.00000           0.000000           0.367281\n",
              "3  0.57735  0.00000  0.00000  ...  0.57735           0.000000           0.000000\n",
              "\n",
              "[4 rows x 11 columns]"
            ]
          },
          "metadata": {},
          "execution_count": 23
        }
      ]
    },
    {
      "cell_type": "markdown",
      "metadata": {
        "id": "eg7WAyTVdFdK"
      },
      "source": [
        "## 영어 문장으로 실습"
      ]
    },
    {
      "cell_type": "code",
      "metadata": {
        "colab": {
          "base_uri": "https://localhost:8080/",
          "height": 141
        },
        "id": "E3xEyaQNdvAQ",
        "outputId": "cfb5e0a5-1b26-43d0-f06d-05d4aa8b06b8"
      },
      "source": [
        "from sklearn.feature_extraction.text import TfidfVectorizer\n",
        "\n",
        "corpus = [\n",
        "  'John likes to watch movies and Mary likes movies too',\n",
        "  'James likes to watch TV',\n",
        "  'Mary also likes to watch football games',  \n",
        "]\n",
        "\n",
        "tfidfv = TfidfVectorizer().fit(corpus)\n",
        "vocab = list(tfidfv.vocabulary_.keys()) # 단어장을 리스트로 저장\n",
        "vocab.sort() # 단어장을 알파벳 순으로 정렬\n",
        "\n",
        "# TF-IDF 행렬에 단어장을 데이터프레임의 열로 지정하여 데이터프레임 생성\n",
        "tfidf_ = pd.DataFrame(tfidfv.transform(corpus).toarray(), columns = vocab)\n",
        "tfidf_"
      ],
      "execution_count": 16,
      "outputs": [
        {
          "output_type": "execute_result",
          "data": {
            "text/html": [
              "<div>\n",
              "<style scoped>\n",
              "    .dataframe tbody tr th:only-of-type {\n",
              "        vertical-align: middle;\n",
              "    }\n",
              "\n",
              "    .dataframe tbody tr th {\n",
              "        vertical-align: top;\n",
              "    }\n",
              "\n",
              "    .dataframe thead th {\n",
              "        text-align: right;\n",
              "    }\n",
              "</style>\n",
              "<table border=\"1\" class=\"dataframe\">\n",
              "  <thead>\n",
              "    <tr style=\"text-align: right;\">\n",
              "      <th></th>\n",
              "      <th>also</th>\n",
              "      <th>and</th>\n",
              "      <th>football</th>\n",
              "      <th>games</th>\n",
              "      <th>james</th>\n",
              "      <th>john</th>\n",
              "      <th>likes</th>\n",
              "      <th>mary</th>\n",
              "      <th>movies</th>\n",
              "      <th>to</th>\n",
              "      <th>too</th>\n",
              "      <th>tv</th>\n",
              "      <th>watch</th>\n",
              "    </tr>\n",
              "  </thead>\n",
              "  <tbody>\n",
              "    <tr>\n",
              "      <th>0</th>\n",
              "      <td>0.000000</td>\n",
              "      <td>0.321556</td>\n",
              "      <td>0.000000</td>\n",
              "      <td>0.000000</td>\n",
              "      <td>0.000000</td>\n",
              "      <td>0.321556</td>\n",
              "      <td>0.379832</td>\n",
              "      <td>0.244551</td>\n",
              "      <td>0.643111</td>\n",
              "      <td>0.189916</td>\n",
              "      <td>0.321556</td>\n",
              "      <td>0.000000</td>\n",
              "      <td>0.189916</td>\n",
              "    </tr>\n",
              "    <tr>\n",
              "      <th>1</th>\n",
              "      <td>0.000000</td>\n",
              "      <td>0.000000</td>\n",
              "      <td>0.000000</td>\n",
              "      <td>0.000000</td>\n",
              "      <td>0.572929</td>\n",
              "      <td>0.000000</td>\n",
              "      <td>0.338381</td>\n",
              "      <td>0.000000</td>\n",
              "      <td>0.000000</td>\n",
              "      <td>0.338381</td>\n",
              "      <td>0.000000</td>\n",
              "      <td>0.572929</td>\n",
              "      <td>0.338381</td>\n",
              "    </tr>\n",
              "    <tr>\n",
              "      <th>2</th>\n",
              "      <td>0.464997</td>\n",
              "      <td>0.000000</td>\n",
              "      <td>0.464997</td>\n",
              "      <td>0.464997</td>\n",
              "      <td>0.000000</td>\n",
              "      <td>0.000000</td>\n",
              "      <td>0.274634</td>\n",
              "      <td>0.353642</td>\n",
              "      <td>0.000000</td>\n",
              "      <td>0.274634</td>\n",
              "      <td>0.000000</td>\n",
              "      <td>0.000000</td>\n",
              "      <td>0.274634</td>\n",
              "    </tr>\n",
              "  </tbody>\n",
              "</table>\n",
              "</div>"
            ],
            "text/plain": [
              "       also       and  football  ...       too        tv     watch\n",
              "0  0.000000  0.321556  0.000000  ...  0.321556  0.000000  0.189916\n",
              "1  0.000000  0.000000  0.000000  ...  0.000000  0.572929  0.338381\n",
              "2  0.464997  0.000000  0.464997  ...  0.000000  0.000000  0.274634\n",
              "\n",
              "[3 rows x 13 columns]"
            ]
          },
          "metadata": {},
          "execution_count": 16
        }
      ]
    },
    {
      "cell_type": "code",
      "metadata": {
        "colab": {
          "base_uri": "https://localhost:8080/"
        },
        "id": "Av0rxvINeBOT",
        "outputId": "1a04a056-43da-45da-aa19-dff22e07c1eb"
      },
      "source": [
        "len(tfidf_)"
      ],
      "execution_count": 18,
      "outputs": [
        {
          "output_type": "execute_result",
          "data": {
            "text/plain": [
              "3"
            ]
          },
          "metadata": {},
          "execution_count": 18
        }
      ]
    },
    {
      "cell_type": "code",
      "metadata": {
        "colab": {
          "base_uri": "https://localhost:8080/"
        },
        "id": "qlO6Up9rd2z6",
        "outputId": "7a5393a8-cadd-4b3e-9fbb-32f2d0c1d248"
      },
      "source": [
        "sim_with_1=[]\n",
        "for i in range(len(tfidf_)):\n",
        "  sim_with_1.append(cos_sim(tfidf.loc[0],tfidf.loc[i]))\n",
        "sim_with_1"
      ],
      "execution_count": 19,
      "outputs": [
        {
          "output_type": "execute_result",
          "data": {
            "text/plain": [
              "[1.0, 0.7345619527913894, 0.0]"
            ]
          },
          "metadata": {},
          "execution_count": 19
        }
      ]
    },
    {
      "cell_type": "code",
      "metadata": {
        "colab": {
          "base_uri": "https://localhost:8080/",
          "height": 141
        },
        "id": "Eh8331dWeJ_g",
        "outputId": "2b40d5f1-f0ed-4448-ec08-8164dda0637a"
      },
      "source": [
        "tfidf_['simiarity with 1st']=sim_with_1\n",
        "tfidf_"
      ],
      "execution_count": 20,
      "outputs": [
        {
          "output_type": "execute_result",
          "data": {
            "text/html": [
              "<div>\n",
              "<style scoped>\n",
              "    .dataframe tbody tr th:only-of-type {\n",
              "        vertical-align: middle;\n",
              "    }\n",
              "\n",
              "    .dataframe tbody tr th {\n",
              "        vertical-align: top;\n",
              "    }\n",
              "\n",
              "    .dataframe thead th {\n",
              "        text-align: right;\n",
              "    }\n",
              "</style>\n",
              "<table border=\"1\" class=\"dataframe\">\n",
              "  <thead>\n",
              "    <tr style=\"text-align: right;\">\n",
              "      <th></th>\n",
              "      <th>also</th>\n",
              "      <th>and</th>\n",
              "      <th>football</th>\n",
              "      <th>games</th>\n",
              "      <th>james</th>\n",
              "      <th>john</th>\n",
              "      <th>likes</th>\n",
              "      <th>mary</th>\n",
              "      <th>movies</th>\n",
              "      <th>to</th>\n",
              "      <th>too</th>\n",
              "      <th>tv</th>\n",
              "      <th>watch</th>\n",
              "      <th>simiarity with 1st</th>\n",
              "    </tr>\n",
              "  </thead>\n",
              "  <tbody>\n",
              "    <tr>\n",
              "      <th>0</th>\n",
              "      <td>0.000000</td>\n",
              "      <td>0.321556</td>\n",
              "      <td>0.000000</td>\n",
              "      <td>0.000000</td>\n",
              "      <td>0.000000</td>\n",
              "      <td>0.321556</td>\n",
              "      <td>0.379832</td>\n",
              "      <td>0.244551</td>\n",
              "      <td>0.643111</td>\n",
              "      <td>0.189916</td>\n",
              "      <td>0.321556</td>\n",
              "      <td>0.000000</td>\n",
              "      <td>0.189916</td>\n",
              "      <td>1.000000</td>\n",
              "    </tr>\n",
              "    <tr>\n",
              "      <th>1</th>\n",
              "      <td>0.000000</td>\n",
              "      <td>0.000000</td>\n",
              "      <td>0.000000</td>\n",
              "      <td>0.000000</td>\n",
              "      <td>0.572929</td>\n",
              "      <td>0.000000</td>\n",
              "      <td>0.338381</td>\n",
              "      <td>0.000000</td>\n",
              "      <td>0.000000</td>\n",
              "      <td>0.338381</td>\n",
              "      <td>0.000000</td>\n",
              "      <td>0.572929</td>\n",
              "      <td>0.338381</td>\n",
              "      <td>0.734562</td>\n",
              "    </tr>\n",
              "    <tr>\n",
              "      <th>2</th>\n",
              "      <td>0.464997</td>\n",
              "      <td>0.000000</td>\n",
              "      <td>0.464997</td>\n",
              "      <td>0.464997</td>\n",
              "      <td>0.000000</td>\n",
              "      <td>0.000000</td>\n",
              "      <td>0.274634</td>\n",
              "      <td>0.353642</td>\n",
              "      <td>0.000000</td>\n",
              "      <td>0.274634</td>\n",
              "      <td>0.000000</td>\n",
              "      <td>0.000000</td>\n",
              "      <td>0.274634</td>\n",
              "      <td>0.000000</td>\n",
              "    </tr>\n",
              "  </tbody>\n",
              "</table>\n",
              "</div>"
            ],
            "text/plain": [
              "       also       and  football  ...        tv     watch  simiarity with 1st\n",
              "0  0.000000  0.321556  0.000000  ...  0.000000  0.189916            1.000000\n",
              "1  0.000000  0.000000  0.000000  ...  0.572929  0.338381            0.734562\n",
              "2  0.464997  0.000000  0.464997  ...  0.000000  0.274634            0.000000\n",
              "\n",
              "[3 rows x 14 columns]"
            ]
          },
          "metadata": {},
          "execution_count": 20
        }
      ]
    },
    {
      "cell_type": "code",
      "metadata": {
        "id": "9n5pkZMNel-J"
      },
      "source": [
        ""
      ],
      "execution_count": null,
      "outputs": []
    }
  ]
}