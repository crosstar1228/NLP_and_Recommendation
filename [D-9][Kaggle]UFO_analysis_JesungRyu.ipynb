{
  "nbformat": 4,
  "nbformat_minor": 0,
  "metadata": {
    "colab": {
      "name": "[Kaggle]UFO_analysis_JesungRyu.ipynb",
      "provenance": [],
      "collapsed_sections": []
    },
    "kernelspec": {
      "name": "python3",
      "display_name": "Python 3"
    },
    "language_info": {
      "name": "python"
    },
    "accelerator": "GPU"
  },
  "cells": [
    {
      "cell_type": "markdown",
      "source": [
        "# UFO Comment Analysis\n",
        "\n",
        "## Data basic info.\n",
        "- scrubbed.csv\n",
        "- complete.csv : include **location** is blank or **time** is blank or erroneous.\n",
        "\n",
        "Column : `city`, `state`, `time`, `description`, `duration`\n",
        "\n",
        "\n"
      ],
      "metadata": {
        "id": "D68VPTcxw2w5"
      }
    },
    {
      "cell_type": "markdown",
      "source": [
        "> ## Task guide\n",
        "1. Please show the changes in terminology used in \"comment'\n",
        "2. By sorting the data in timeline, and splitting 80/20, using the 80% can you predict what terminology will be used in the 20%?"
      ],
      "metadata": {
        "id": "hkoWLgOoyj4C"
      }
    },
    {
      "cell_type": "markdown",
      "source": [
        "# 1. Please show the changes in terminology used in 'comment'\n",
        "\n",
        "## 1) Check the data"
      ],
      "metadata": {
        "id": "RkCVueUK0nhL"
      }
    },
    {
      "cell_type": "code",
      "execution_count": null,
      "metadata": {
        "colab": {
          "base_uri": "https://localhost:8080/",
          "height": 504
        },
        "id": "Hdq1cNU_7HrR",
        "outputId": "3e936009-746f-4f05-be36-c432f97cf949"
      },
      "outputs": [
        {
          "output_type": "stream",
          "name": "stderr",
          "text": [
            "/usr/local/lib/python3.7/dist-packages/IPython/core/interactiveshell.py:2718: DtypeWarning: Columns (5,9) have mixed types.Specify dtype option on import or set low_memory=False.\n",
            "  interactivity=interactivity, compiler=compiler, result=result)\n"
          ]
        },
        {
          "output_type": "execute_result",
          "data": {
            "text/html": [
              "\n",
              "  <div id=\"df-ee204647-3908-4c11-9f11-ffa7e90673b9\">\n",
              "    <div class=\"colab-df-container\">\n",
              "      <div>\n",
              "<style scoped>\n",
              "    .dataframe tbody tr th:only-of-type {\n",
              "        vertical-align: middle;\n",
              "    }\n",
              "\n",
              "    .dataframe tbody tr th {\n",
              "        vertical-align: top;\n",
              "    }\n",
              "\n",
              "    .dataframe thead th {\n",
              "        text-align: right;\n",
              "    }\n",
              "</style>\n",
              "<table border=\"1\" class=\"dataframe\">\n",
              "  <thead>\n",
              "    <tr style=\"text-align: right;\">\n",
              "      <th></th>\n",
              "      <th>datetime</th>\n",
              "      <th>city</th>\n",
              "      <th>state</th>\n",
              "      <th>country</th>\n",
              "      <th>shape</th>\n",
              "      <th>duration (seconds)</th>\n",
              "      <th>duration (hours/min)</th>\n",
              "      <th>comments</th>\n",
              "      <th>date posted</th>\n",
              "      <th>latitude</th>\n",
              "      <th>longitude</th>\n",
              "    </tr>\n",
              "  </thead>\n",
              "  <tbody>\n",
              "    <tr>\n",
              "      <th>0</th>\n",
              "      <td>10/10/1949 20:30</td>\n",
              "      <td>san marcos</td>\n",
              "      <td>tx</td>\n",
              "      <td>us</td>\n",
              "      <td>cylinder</td>\n",
              "      <td>2700</td>\n",
              "      <td>45 minutes</td>\n",
              "      <td>This event took place in early fall around 194...</td>\n",
              "      <td>4/27/2004</td>\n",
              "      <td>29.8830556</td>\n",
              "      <td>-97.941111</td>\n",
              "    </tr>\n",
              "    <tr>\n",
              "      <th>1</th>\n",
              "      <td>10/10/1949 21:00</td>\n",
              "      <td>lackland afb</td>\n",
              "      <td>tx</td>\n",
              "      <td>NaN</td>\n",
              "      <td>light</td>\n",
              "      <td>7200</td>\n",
              "      <td>1-2 hrs</td>\n",
              "      <td>1949 Lackland AFB&amp;#44 TX.  Lights racing acros...</td>\n",
              "      <td>12/16/2005</td>\n",
              "      <td>29.38421</td>\n",
              "      <td>-98.581082</td>\n",
              "    </tr>\n",
              "    <tr>\n",
              "      <th>2</th>\n",
              "      <td>10/10/1955 17:00</td>\n",
              "      <td>chester (uk/england)</td>\n",
              "      <td>NaN</td>\n",
              "      <td>gb</td>\n",
              "      <td>circle</td>\n",
              "      <td>20</td>\n",
              "      <td>20 seconds</td>\n",
              "      <td>Green/Orange circular disc over Chester&amp;#44 En...</td>\n",
              "      <td>1/21/2008</td>\n",
              "      <td>53.2</td>\n",
              "      <td>-2.916667</td>\n",
              "    </tr>\n",
              "    <tr>\n",
              "      <th>3</th>\n",
              "      <td>10/10/1956 21:00</td>\n",
              "      <td>edna</td>\n",
              "      <td>tx</td>\n",
              "      <td>us</td>\n",
              "      <td>circle</td>\n",
              "      <td>20</td>\n",
              "      <td>1/2 hour</td>\n",
              "      <td>My older brother and twin sister were leaving ...</td>\n",
              "      <td>1/17/2004</td>\n",
              "      <td>28.9783333</td>\n",
              "      <td>-96.645833</td>\n",
              "    </tr>\n",
              "    <tr>\n",
              "      <th>4</th>\n",
              "      <td>10/10/1960 20:00</td>\n",
              "      <td>kaneohe</td>\n",
              "      <td>hi</td>\n",
              "      <td>us</td>\n",
              "      <td>light</td>\n",
              "      <td>900</td>\n",
              "      <td>15 minutes</td>\n",
              "      <td>AS a Marine 1st Lt. flying an FJ4B fighter/att...</td>\n",
              "      <td>1/22/2004</td>\n",
              "      <td>21.4180556</td>\n",
              "      <td>-157.803611</td>\n",
              "    </tr>\n",
              "    <tr>\n",
              "      <th>...</th>\n",
              "      <td>...</td>\n",
              "      <td>...</td>\n",
              "      <td>...</td>\n",
              "      <td>...</td>\n",
              "      <td>...</td>\n",
              "      <td>...</td>\n",
              "      <td>...</td>\n",
              "      <td>...</td>\n",
              "      <td>...</td>\n",
              "      <td>...</td>\n",
              "      <td>...</td>\n",
              "    </tr>\n",
              "    <tr>\n",
              "      <th>80327</th>\n",
              "      <td>9/9/2013 21:15</td>\n",
              "      <td>nashville</td>\n",
              "      <td>tn</td>\n",
              "      <td>us</td>\n",
              "      <td>light</td>\n",
              "      <td>600</td>\n",
              "      <td>10 minutes</td>\n",
              "      <td>Round from the distance/slowly changing colors...</td>\n",
              "      <td>9/30/2013</td>\n",
              "      <td>36.1658</td>\n",
              "      <td>-86.784444</td>\n",
              "    </tr>\n",
              "    <tr>\n",
              "      <th>80328</th>\n",
              "      <td>9/9/2013 22:00</td>\n",
              "      <td>boise</td>\n",
              "      <td>id</td>\n",
              "      <td>us</td>\n",
              "      <td>circle</td>\n",
              "      <td>1200</td>\n",
              "      <td>20 minutes</td>\n",
              "      <td>Boise&amp;#44 ID&amp;#44 spherical&amp;#44 20 min&amp;#44 10 r...</td>\n",
              "      <td>9/30/2013</td>\n",
              "      <td>43.6136</td>\n",
              "      <td>-116.202500</td>\n",
              "    </tr>\n",
              "    <tr>\n",
              "      <th>80329</th>\n",
              "      <td>9/9/2013 22:00</td>\n",
              "      <td>napa</td>\n",
              "      <td>ca</td>\n",
              "      <td>us</td>\n",
              "      <td>other</td>\n",
              "      <td>1200</td>\n",
              "      <td>hour</td>\n",
              "      <td>Napa UFO&amp;#44</td>\n",
              "      <td>9/30/2013</td>\n",
              "      <td>38.2972</td>\n",
              "      <td>-122.284444</td>\n",
              "    </tr>\n",
              "    <tr>\n",
              "      <th>80330</th>\n",
              "      <td>9/9/2013 22:20</td>\n",
              "      <td>vienna</td>\n",
              "      <td>va</td>\n",
              "      <td>us</td>\n",
              "      <td>circle</td>\n",
              "      <td>5</td>\n",
              "      <td>5 seconds</td>\n",
              "      <td>Saw a five gold lit cicular craft moving fastl...</td>\n",
              "      <td>9/30/2013</td>\n",
              "      <td>38.9011</td>\n",
              "      <td>-77.265556</td>\n",
              "    </tr>\n",
              "    <tr>\n",
              "      <th>80331</th>\n",
              "      <td>9/9/2013 23:00</td>\n",
              "      <td>edmond</td>\n",
              "      <td>ok</td>\n",
              "      <td>us</td>\n",
              "      <td>cigar</td>\n",
              "      <td>1020</td>\n",
              "      <td>17 minutes</td>\n",
              "      <td>2 witnesses 2  miles apart&amp;#44 Red &amp;amp; White...</td>\n",
              "      <td>9/30/2013</td>\n",
              "      <td>35.6528</td>\n",
              "      <td>-97.477778</td>\n",
              "    </tr>\n",
              "  </tbody>\n",
              "</table>\n",
              "<p>80332 rows × 11 columns</p>\n",
              "</div>\n",
              "      <button class=\"colab-df-convert\" onclick=\"convertToInteractive('df-ee204647-3908-4c11-9f11-ffa7e90673b9')\"\n",
              "              title=\"Convert this dataframe to an interactive table.\"\n",
              "              style=\"display:none;\">\n",
              "        \n",
              "  <svg xmlns=\"http://www.w3.org/2000/svg\" height=\"24px\"viewBox=\"0 0 24 24\"\n",
              "       width=\"24px\">\n",
              "    <path d=\"M0 0h24v24H0V0z\" fill=\"none\"/>\n",
              "    <path d=\"M18.56 5.44l.94 2.06.94-2.06 2.06-.94-2.06-.94-.94-2.06-.94 2.06-2.06.94zm-11 1L8.5 8.5l.94-2.06 2.06-.94-2.06-.94L8.5 2.5l-.94 2.06-2.06.94zm10 10l.94 2.06.94-2.06 2.06-.94-2.06-.94-.94-2.06-.94 2.06-2.06.94z\"/><path d=\"M17.41 7.96l-1.37-1.37c-.4-.4-.92-.59-1.43-.59-.52 0-1.04.2-1.43.59L10.3 9.45l-7.72 7.72c-.78.78-.78 2.05 0 2.83L4 21.41c.39.39.9.59 1.41.59.51 0 1.02-.2 1.41-.59l7.78-7.78 2.81-2.81c.8-.78.8-2.07 0-2.86zM5.41 20L4 18.59l7.72-7.72 1.47 1.35L5.41 20z\"/>\n",
              "  </svg>\n",
              "      </button>\n",
              "      \n",
              "  <style>\n",
              "    .colab-df-container {\n",
              "      display:flex;\n",
              "      flex-wrap:wrap;\n",
              "      gap: 12px;\n",
              "    }\n",
              "\n",
              "    .colab-df-convert {\n",
              "      background-color: #E8F0FE;\n",
              "      border: none;\n",
              "      border-radius: 50%;\n",
              "      cursor: pointer;\n",
              "      display: none;\n",
              "      fill: #1967D2;\n",
              "      height: 32px;\n",
              "      padding: 0 0 0 0;\n",
              "      width: 32px;\n",
              "    }\n",
              "\n",
              "    .colab-df-convert:hover {\n",
              "      background-color: #E2EBFA;\n",
              "      box-shadow: 0px 1px 2px rgba(60, 64, 67, 0.3), 0px 1px 3px 1px rgba(60, 64, 67, 0.15);\n",
              "      fill: #174EA6;\n",
              "    }\n",
              "\n",
              "    [theme=dark] .colab-df-convert {\n",
              "      background-color: #3B4455;\n",
              "      fill: #D2E3FC;\n",
              "    }\n",
              "\n",
              "    [theme=dark] .colab-df-convert:hover {\n",
              "      background-color: #434B5C;\n",
              "      box-shadow: 0px 1px 3px 1px rgba(0, 0, 0, 0.15);\n",
              "      filter: drop-shadow(0px 1px 2px rgba(0, 0, 0, 0.3));\n",
              "      fill: #FFFFFF;\n",
              "    }\n",
              "  </style>\n",
              "\n",
              "      <script>\n",
              "        const buttonEl =\n",
              "          document.querySelector('#df-ee204647-3908-4c11-9f11-ffa7e90673b9 button.colab-df-convert');\n",
              "        buttonEl.style.display =\n",
              "          google.colab.kernel.accessAllowed ? 'block' : 'none';\n",
              "\n",
              "        async function convertToInteractive(key) {\n",
              "          const element = document.querySelector('#df-ee204647-3908-4c11-9f11-ffa7e90673b9');\n",
              "          const dataTable =\n",
              "            await google.colab.kernel.invokeFunction('convertToInteractive',\n",
              "                                                     [key], {});\n",
              "          if (!dataTable) return;\n",
              "\n",
              "          const docLinkHtml = 'Like what you see? Visit the ' +\n",
              "            '<a target=\"_blank\" href=https://colab.research.google.com/notebooks/data_table.ipynb>data table notebook</a>'\n",
              "            + ' to learn more about interactive tables.';\n",
              "          element.innerHTML = '';\n",
              "          dataTable['output_type'] = 'display_data';\n",
              "          await google.colab.output.renderOutput(dataTable, element);\n",
              "          const docLink = document.createElement('div');\n",
              "          docLink.innerHTML = docLinkHtml;\n",
              "          element.appendChild(docLink);\n",
              "        }\n",
              "      </script>\n",
              "    </div>\n",
              "  </div>\n",
              "  "
            ],
            "text/plain": [
              "               datetime                  city  ...    latitude  longitude \n",
              "0      10/10/1949 20:30            san marcos  ...  29.8830556  -97.941111\n",
              "1      10/10/1949 21:00          lackland afb  ...    29.38421  -98.581082\n",
              "2      10/10/1955 17:00  chester (uk/england)  ...        53.2   -2.916667\n",
              "3      10/10/1956 21:00                  edna  ...  28.9783333  -96.645833\n",
              "4      10/10/1960 20:00               kaneohe  ...  21.4180556 -157.803611\n",
              "...                 ...                   ...  ...         ...         ...\n",
              "80327    9/9/2013 21:15             nashville  ...     36.1658  -86.784444\n",
              "80328    9/9/2013 22:00                 boise  ...     43.6136 -116.202500\n",
              "80329    9/9/2013 22:00                  napa  ...     38.2972 -122.284444\n",
              "80330    9/9/2013 22:20                vienna  ...     38.9011  -77.265556\n",
              "80331    9/9/2013 23:00                edmond  ...     35.6528  -97.477778\n",
              "\n",
              "[80332 rows x 11 columns]"
            ]
          },
          "metadata": {},
          "execution_count": 97
        }
      ],
      "source": [
        "import numpy as np\n",
        "import pandas as pd\n",
        "\n",
        "\n",
        "path_com = '/content/complete.csv'\n",
        "path_sc = '/content/scrubbed.csv'\n",
        "\n",
        "df_sc=pd.read_csv(path_sc)\n",
        "\n",
        "\n",
        "df_sc"
      ]
    },
    {
      "cell_type": "code",
      "source": [
        "df_sc.isnull().sum()"
      ],
      "metadata": {
        "colab": {
          "base_uri": "https://localhost:8080/"
        },
        "id": "EYrofYGJ5P5P",
        "outputId": "9b36f6c9-3b84-4eeb-dda8-11d0abefe7de"
      },
      "execution_count": null,
      "outputs": [
        {
          "output_type": "execute_result",
          "data": {
            "text/plain": [
              "datetime                   0\n",
              "city                       0\n",
              "state                   5797\n",
              "country                 9670\n",
              "shape                   1932\n",
              "duration (seconds)         0\n",
              "duration (hours/min)       0\n",
              "comments                  15\n",
              "date posted                0\n",
              "latitude                   0\n",
              "longitude                  0\n",
              "dtype: int64"
            ]
          },
          "metadata": {},
          "execution_count": 98
        }
      ]
    },
    {
      "cell_type": "markdown",
      "source": [
        "> When it comes to `comments`, 15 null values were detected.\n",
        "> -> delete 15 rows which contain null value in `comment`."
      ],
      "metadata": {
        "id": "598axCny3wpv"
      }
    },
    {
      "cell_type": "code",
      "source": [
        "df_sc = df_sc.dropna(subset=[\"comments\"])\n",
        "df_sc.isnull().sum()"
      ],
      "metadata": {
        "colab": {
          "base_uri": "https://localhost:8080/"
        },
        "id": "oiV-mqDRvNQ_",
        "outputId": "155bf0f7-3051-4665-88ea-b97bbca54e48"
      },
      "execution_count": null,
      "outputs": [
        {
          "output_type": "execute_result",
          "data": {
            "text/plain": [
              "datetime                   0\n",
              "city                       0\n",
              "state                   5795\n",
              "country                 9668\n",
              "shape                   1925\n",
              "duration (seconds)         0\n",
              "duration (hours/min)       0\n",
              "comments                   0\n",
              "date posted                0\n",
              "latitude                   0\n",
              "longitude                  0\n",
              "dtype: int64"
            ]
          },
          "metadata": {},
          "execution_count": 99
        }
      ]
    },
    {
      "cell_type": "markdown",
      "source": [
        "## 2) make 'year' column and plot histogram.(year VS comment)"
      ],
      "metadata": {
        "id": "ccwCumExDqcP"
      }
    },
    {
      "cell_type": "code",
      "source": [
        "df_sc.sort_values(by = 'datetime')"
      ],
      "metadata": {
        "colab": {
          "base_uri": "https://localhost:8080/",
          "height": 468
        },
        "id": "arX1VdfA-cU-",
        "outputId": "f987ba81-0010-4eb4-dfb2-5500955c3507"
      },
      "execution_count": null,
      "outputs": [
        {
          "output_type": "execute_result",
          "data": {
            "text/html": [
              "\n",
              "  <div id=\"df-ba7d1fad-f8da-47e6-8d6a-5ddf5c9e1dcb\">\n",
              "    <div class=\"colab-df-container\">\n",
              "      <div>\n",
              "<style scoped>\n",
              "    .dataframe tbody tr th:only-of-type {\n",
              "        vertical-align: middle;\n",
              "    }\n",
              "\n",
              "    .dataframe tbody tr th {\n",
              "        vertical-align: top;\n",
              "    }\n",
              "\n",
              "    .dataframe thead th {\n",
              "        text-align: right;\n",
              "    }\n",
              "</style>\n",
              "<table border=\"1\" class=\"dataframe\">\n",
              "  <thead>\n",
              "    <tr style=\"text-align: right;\">\n",
              "      <th></th>\n",
              "      <th>datetime</th>\n",
              "      <th>city</th>\n",
              "      <th>state</th>\n",
              "      <th>country</th>\n",
              "      <th>shape</th>\n",
              "      <th>duration (seconds)</th>\n",
              "      <th>duration (hours/min)</th>\n",
              "      <th>comments</th>\n",
              "      <th>date posted</th>\n",
              "      <th>latitude</th>\n",
              "      <th>longitude</th>\n",
              "    </tr>\n",
              "  </thead>\n",
              "  <tbody>\n",
              "    <tr>\n",
              "      <th>10580</th>\n",
              "      <td>1/1/1910 24:00</td>\n",
              "      <td>kirksville (near)</td>\n",
              "      <td>mo</td>\n",
              "      <td>us</td>\n",
              "      <td>disk</td>\n",
              "      <td>120</td>\n",
              "      <td>minutes</td>\n",
              "      <td>Historical sighting (1903 - 1913) Northern Mis...</td>\n",
              "      <td>9/15/2005</td>\n",
              "      <td>40.1947222</td>\n",
              "      <td>-92.583056</td>\n",
              "    </tr>\n",
              "    <tr>\n",
              "      <th>10813</th>\n",
              "      <td>1/1/1944 12:00</td>\n",
              "      <td>san diego</td>\n",
              "      <td>ca</td>\n",
              "      <td>us</td>\n",
              "      <td>cigar</td>\n",
              "      <td>180</td>\n",
              "      <td>3 minutes</td>\n",
              "      <td>A sighting of one silver or white enlongated c...</td>\n",
              "      <td>7/25/2004</td>\n",
              "      <td>32.7152778</td>\n",
              "      <td>-117.156389</td>\n",
              "    </tr>\n",
              "    <tr>\n",
              "      <th>10814</th>\n",
              "      <td>1/1/1947 17:00</td>\n",
              "      <td>manama (bahrain)</td>\n",
              "      <td>NaN</td>\n",
              "      <td>NaN</td>\n",
              "      <td>circle</td>\n",
              "      <td>300</td>\n",
              "      <td>5 minutes</td>\n",
              "      <td>Slow  moving circular craft&amp;#44 15 whitnesses&amp;...</td>\n",
              "      <td>3/19/2009</td>\n",
              "      <td>26.216667</td>\n",
              "      <td>50.583333</td>\n",
              "    </tr>\n",
              "    <tr>\n",
              "      <th>10815</th>\n",
              "      <td>1/1/1953 14:00</td>\n",
              "      <td>oklahoma/texas border</td>\n",
              "      <td>tx</td>\n",
              "      <td>NaN</td>\n",
              "      <td>cigar</td>\n",
              "      <td>300</td>\n",
              "      <td>5 minutes</td>\n",
              "      <td>Copper cigar-shaped object in early 1950&amp;#39s.</td>\n",
              "      <td>3/31/2008</td>\n",
              "      <td>33.660135</td>\n",
              "      <td>-97.715556</td>\n",
              "    </tr>\n",
              "    <tr>\n",
              "      <th>10816</th>\n",
              "      <td>1/1/1953 24:00</td>\n",
              "      <td>nebraska (rural)</td>\n",
              "      <td>ne</td>\n",
              "      <td>NaN</td>\n",
              "      <td>NaN</td>\n",
              "      <td>600</td>\n",
              "      <td>10 min</td>\n",
              "      <td>This is an account told to me by my mother tha...</td>\n",
              "      <td>4/16/2005</td>\n",
              "      <td>41.492537</td>\n",
              "      <td>-99.901813</td>\n",
              "    </tr>\n",
              "    <tr>\n",
              "      <th>...</th>\n",
              "      <td>...</td>\n",
              "      <td>...</td>\n",
              "      <td>...</td>\n",
              "      <td>...</td>\n",
              "      <td>...</td>\n",
              "      <td>...</td>\n",
              "      <td>...</td>\n",
              "      <td>...</td>\n",
              "      <td>...</td>\n",
              "      <td>...</td>\n",
              "      <td>...</td>\n",
              "    </tr>\n",
              "    <tr>\n",
              "      <th>80327</th>\n",
              "      <td>9/9/2013 21:15</td>\n",
              "      <td>nashville</td>\n",
              "      <td>tn</td>\n",
              "      <td>us</td>\n",
              "      <td>light</td>\n",
              "      <td>600</td>\n",
              "      <td>10 minutes</td>\n",
              "      <td>Round from the distance/slowly changing colors...</td>\n",
              "      <td>9/30/2013</td>\n",
              "      <td>36.1658</td>\n",
              "      <td>-86.784444</td>\n",
              "    </tr>\n",
              "    <tr>\n",
              "      <th>80328</th>\n",
              "      <td>9/9/2013 22:00</td>\n",
              "      <td>boise</td>\n",
              "      <td>id</td>\n",
              "      <td>us</td>\n",
              "      <td>circle</td>\n",
              "      <td>1200</td>\n",
              "      <td>20 minutes</td>\n",
              "      <td>Boise&amp;#44 ID&amp;#44 spherical&amp;#44 20 min&amp;#44 10 r...</td>\n",
              "      <td>9/30/2013</td>\n",
              "      <td>43.6136</td>\n",
              "      <td>-116.202500</td>\n",
              "    </tr>\n",
              "    <tr>\n",
              "      <th>80329</th>\n",
              "      <td>9/9/2013 22:00</td>\n",
              "      <td>napa</td>\n",
              "      <td>ca</td>\n",
              "      <td>us</td>\n",
              "      <td>other</td>\n",
              "      <td>1200</td>\n",
              "      <td>hour</td>\n",
              "      <td>Napa UFO&amp;#44</td>\n",
              "      <td>9/30/2013</td>\n",
              "      <td>38.2972</td>\n",
              "      <td>-122.284444</td>\n",
              "    </tr>\n",
              "    <tr>\n",
              "      <th>80330</th>\n",
              "      <td>9/9/2013 22:20</td>\n",
              "      <td>vienna</td>\n",
              "      <td>va</td>\n",
              "      <td>us</td>\n",
              "      <td>circle</td>\n",
              "      <td>5</td>\n",
              "      <td>5 seconds</td>\n",
              "      <td>Saw a five gold lit cicular craft moving fastl...</td>\n",
              "      <td>9/30/2013</td>\n",
              "      <td>38.9011</td>\n",
              "      <td>-77.265556</td>\n",
              "    </tr>\n",
              "    <tr>\n",
              "      <th>80331</th>\n",
              "      <td>9/9/2013 23:00</td>\n",
              "      <td>edmond</td>\n",
              "      <td>ok</td>\n",
              "      <td>us</td>\n",
              "      <td>cigar</td>\n",
              "      <td>1020</td>\n",
              "      <td>17 minutes</td>\n",
              "      <td>2 witnesses 2  miles apart&amp;#44 Red &amp;amp; White...</td>\n",
              "      <td>9/30/2013</td>\n",
              "      <td>35.6528</td>\n",
              "      <td>-97.477778</td>\n",
              "    </tr>\n",
              "  </tbody>\n",
              "</table>\n",
              "<p>80317 rows × 11 columns</p>\n",
              "</div>\n",
              "      <button class=\"colab-df-convert\" onclick=\"convertToInteractive('df-ba7d1fad-f8da-47e6-8d6a-5ddf5c9e1dcb')\"\n",
              "              title=\"Convert this dataframe to an interactive table.\"\n",
              "              style=\"display:none;\">\n",
              "        \n",
              "  <svg xmlns=\"http://www.w3.org/2000/svg\" height=\"24px\"viewBox=\"0 0 24 24\"\n",
              "       width=\"24px\">\n",
              "    <path d=\"M0 0h24v24H0V0z\" fill=\"none\"/>\n",
              "    <path d=\"M18.56 5.44l.94 2.06.94-2.06 2.06-.94-2.06-.94-.94-2.06-.94 2.06-2.06.94zm-11 1L8.5 8.5l.94-2.06 2.06-.94-2.06-.94L8.5 2.5l-.94 2.06-2.06.94zm10 10l.94 2.06.94-2.06 2.06-.94-2.06-.94-.94-2.06-.94 2.06-2.06.94z\"/><path d=\"M17.41 7.96l-1.37-1.37c-.4-.4-.92-.59-1.43-.59-.52 0-1.04.2-1.43.59L10.3 9.45l-7.72 7.72c-.78.78-.78 2.05 0 2.83L4 21.41c.39.39.9.59 1.41.59.51 0 1.02-.2 1.41-.59l7.78-7.78 2.81-2.81c.8-.78.8-2.07 0-2.86zM5.41 20L4 18.59l7.72-7.72 1.47 1.35L5.41 20z\"/>\n",
              "  </svg>\n",
              "      </button>\n",
              "      \n",
              "  <style>\n",
              "    .colab-df-container {\n",
              "      display:flex;\n",
              "      flex-wrap:wrap;\n",
              "      gap: 12px;\n",
              "    }\n",
              "\n",
              "    .colab-df-convert {\n",
              "      background-color: #E8F0FE;\n",
              "      border: none;\n",
              "      border-radius: 50%;\n",
              "      cursor: pointer;\n",
              "      display: none;\n",
              "      fill: #1967D2;\n",
              "      height: 32px;\n",
              "      padding: 0 0 0 0;\n",
              "      width: 32px;\n",
              "    }\n",
              "\n",
              "    .colab-df-convert:hover {\n",
              "      background-color: #E2EBFA;\n",
              "      box-shadow: 0px 1px 2px rgba(60, 64, 67, 0.3), 0px 1px 3px 1px rgba(60, 64, 67, 0.15);\n",
              "      fill: #174EA6;\n",
              "    }\n",
              "\n",
              "    [theme=dark] .colab-df-convert {\n",
              "      background-color: #3B4455;\n",
              "      fill: #D2E3FC;\n",
              "    }\n",
              "\n",
              "    [theme=dark] .colab-df-convert:hover {\n",
              "      background-color: #434B5C;\n",
              "      box-shadow: 0px 1px 3px 1px rgba(0, 0, 0, 0.15);\n",
              "      filter: drop-shadow(0px 1px 2px rgba(0, 0, 0, 0.3));\n",
              "      fill: #FFFFFF;\n",
              "    }\n",
              "  </style>\n",
              "\n",
              "      <script>\n",
              "        const buttonEl =\n",
              "          document.querySelector('#df-ba7d1fad-f8da-47e6-8d6a-5ddf5c9e1dcb button.colab-df-convert');\n",
              "        buttonEl.style.display =\n",
              "          google.colab.kernel.accessAllowed ? 'block' : 'none';\n",
              "\n",
              "        async function convertToInteractive(key) {\n",
              "          const element = document.querySelector('#df-ba7d1fad-f8da-47e6-8d6a-5ddf5c9e1dcb');\n",
              "          const dataTable =\n",
              "            await google.colab.kernel.invokeFunction('convertToInteractive',\n",
              "                                                     [key], {});\n",
              "          if (!dataTable) return;\n",
              "\n",
              "          const docLinkHtml = 'Like what you see? Visit the ' +\n",
              "            '<a target=\"_blank\" href=https://colab.research.google.com/notebooks/data_table.ipynb>data table notebook</a>'\n",
              "            + ' to learn more about interactive tables.';\n",
              "          element.innerHTML = '';\n",
              "          dataTable['output_type'] = 'display_data';\n",
              "          await google.colab.output.renderOutput(dataTable, element);\n",
              "          const docLink = document.createElement('div');\n",
              "          docLink.innerHTML = docLinkHtml;\n",
              "          element.appendChild(docLink);\n",
              "        }\n",
              "      </script>\n",
              "    </div>\n",
              "  </div>\n",
              "  "
            ],
            "text/plain": [
              "             datetime                   city  ...    latitude  longitude \n",
              "10580  1/1/1910 24:00      kirksville (near)  ...  40.1947222  -92.583056\n",
              "10813  1/1/1944 12:00              san diego  ...  32.7152778 -117.156389\n",
              "10814  1/1/1947 17:00       manama (bahrain)  ...   26.216667   50.583333\n",
              "10815  1/1/1953 14:00  oklahoma/texas border  ...   33.660135  -97.715556\n",
              "10816  1/1/1953 24:00       nebraska (rural)  ...   41.492537  -99.901813\n",
              "...               ...                    ...  ...         ...         ...\n",
              "80327  9/9/2013 21:15              nashville  ...     36.1658  -86.784444\n",
              "80328  9/9/2013 22:00                  boise  ...     43.6136 -116.202500\n",
              "80329  9/9/2013 22:00                   napa  ...     38.2972 -122.284444\n",
              "80330  9/9/2013 22:20                 vienna  ...     38.9011  -77.265556\n",
              "80331  9/9/2013 23:00                 edmond  ...     35.6528  -97.477778\n",
              "\n",
              "[80317 rows x 11 columns]"
            ]
          },
          "metadata": {},
          "execution_count": 100
        }
      ]
    },
    {
      "cell_type": "markdown",
      "source": [
        "> just sorting is not valid because datetime is string type."
      ],
      "metadata": {
        "id": "l1e4pqyNHAvG"
      }
    },
    {
      "cell_type": "markdown",
      "source": [
        "a. convert datetime to datetime type.\n",
        "\n",
        "> `parse()` only takes time between `0~23`. so change `24:00` to `00:00`.(ignore 1 day gap.)\n",
        "\n"
      ],
      "metadata": {
        "id": "rz8TjvvUErS1"
      }
    },
    {
      "cell_type": "code",
      "source": [
        "df_sc[\"datetime\"] = df_sc[\"datetime\"].str.replace(\"24:00\",\"00:00\")"
      ],
      "metadata": {
        "colab": {
          "base_uri": "https://localhost:8080/"
        },
        "id": "r06hU1uaHWFX",
        "outputId": "ad0165fc-a8a2-414a-dc59-5e1aa392678b"
      },
      "execution_count": null,
      "outputs": [
        {
          "output_type": "stream",
          "name": "stderr",
          "text": [
            "/usr/local/lib/python3.7/dist-packages/ipykernel_launcher.py:1: SettingWithCopyWarning: \n",
            "A value is trying to be set on a copy of a slice from a DataFrame.\n",
            "Try using .loc[row_indexer,col_indexer] = value instead\n",
            "\n",
            "See the caveats in the documentation: https://pandas.pydata.org/pandas-docs/stable/user_guide/indexing.html#returning-a-view-versus-a-copy\n",
            "  \"\"\"Entry point for launching an IPython kernel.\n"
          ]
        }
      ]
    },
    {
      "cell_type": "code",
      "source": [
        "df_sc.loc[10580,'datetime']"
      ],
      "metadata": {
        "colab": {
          "base_uri": "https://localhost:8080/",
          "height": 35
        },
        "id": "e8cRsnFZHvHP",
        "outputId": "ce4f2c26-686b-4bb4-8549-fa0b6e5e51fa"
      },
      "execution_count": null,
      "outputs": [
        {
          "output_type": "execute_result",
          "data": {
            "application/vnd.google.colaboratory.intrinsic+json": {
              "type": "string"
            },
            "text/plain": [
              "'1/1/1910 00:00'"
            ]
          },
          "metadata": {},
          "execution_count": 102
        }
      ]
    },
    {
      "cell_type": "markdown",
      "source": [
        "### convert to `datetime` object."
      ],
      "metadata": {
        "id": "nss4q8ZtC_g5"
      }
    },
    {
      "cell_type": "code",
      "source": [
        "# function of datetime\n",
        "from dateutil.parser import parse\n",
        "def str_to_year(datetime):\n",
        "  return parse(datetime).year"
      ],
      "metadata": {
        "id": "kO9EZijnBVAv"
      },
      "execution_count": null,
      "outputs": []
    },
    {
      "cell_type": "code",
      "source": [
        "df_sc[\"year\"]=df_sc[\"datetime\"].map(str_to_year)\n",
        "df_sc.year"
      ],
      "metadata": {
        "colab": {
          "base_uri": "https://localhost:8080/"
        },
        "id": "URTJxJF0JzCl",
        "outputId": "1e99de9f-0ca9-409c-bd3d-63638cb4cc7c"
      },
      "execution_count": null,
      "outputs": [
        {
          "output_type": "stream",
          "name": "stderr",
          "text": [
            "/usr/local/lib/python3.7/dist-packages/ipykernel_launcher.py:1: SettingWithCopyWarning: \n",
            "A value is trying to be set on a copy of a slice from a DataFrame.\n",
            "Try using .loc[row_indexer,col_indexer] = value instead\n",
            "\n",
            "See the caveats in the documentation: https://pandas.pydata.org/pandas-docs/stable/user_guide/indexing.html#returning-a-view-versus-a-copy\n",
            "  \"\"\"Entry point for launching an IPython kernel.\n"
          ]
        },
        {
          "output_type": "execute_result",
          "data": {
            "text/plain": [
              "0        1949\n",
              "1        1949\n",
              "2        1955\n",
              "3        1956\n",
              "4        1960\n",
              "         ... \n",
              "80327    2013\n",
              "80328    2013\n",
              "80329    2013\n",
              "80330    2013\n",
              "80331    2013\n",
              "Name: year, Length: 80317, dtype: int64"
            ]
          },
          "metadata": {},
          "execution_count": 104
        }
      ]
    },
    {
      "cell_type": "code",
      "source": [
        "df_sc = df_sc.sort_values(by='year')\n",
        "df_sc"
      ],
      "metadata": {
        "colab": {
          "base_uri": "https://localhost:8080/",
          "height": 624
        },
        "id": "7snZMNkdNrsH",
        "outputId": "e69ed96a-4910-4185-ecfd-eadafc95519a"
      },
      "execution_count": null,
      "outputs": [
        {
          "output_type": "execute_result",
          "data": {
            "text/html": [
              "\n",
              "  <div id=\"df-41aa2a6f-979e-430c-a870-f773ad051fae\">\n",
              "    <div class=\"colab-df-container\">\n",
              "      <div>\n",
              "<style scoped>\n",
              "    .dataframe tbody tr th:only-of-type {\n",
              "        vertical-align: middle;\n",
              "    }\n",
              "\n",
              "    .dataframe tbody tr th {\n",
              "        vertical-align: top;\n",
              "    }\n",
              "\n",
              "    .dataframe thead th {\n",
              "        text-align: right;\n",
              "    }\n",
              "</style>\n",
              "<table border=\"1\" class=\"dataframe\">\n",
              "  <thead>\n",
              "    <tr style=\"text-align: right;\">\n",
              "      <th></th>\n",
              "      <th>datetime</th>\n",
              "      <th>city</th>\n",
              "      <th>state</th>\n",
              "      <th>country</th>\n",
              "      <th>shape</th>\n",
              "      <th>duration (seconds)</th>\n",
              "      <th>duration (hours/min)</th>\n",
              "      <th>comments</th>\n",
              "      <th>date posted</th>\n",
              "      <th>latitude</th>\n",
              "      <th>longitude</th>\n",
              "      <th>year</th>\n",
              "    </tr>\n",
              "  </thead>\n",
              "  <tbody>\n",
              "    <tr>\n",
              "      <th>7863</th>\n",
              "      <td>11/11/1906 00:00</td>\n",
              "      <td>wien (austria)</td>\n",
              "      <td>NaN</td>\n",
              "      <td>NaN</td>\n",
              "      <td>other</td>\n",
              "      <td>10800</td>\n",
              "      <td>3 h</td>\n",
              "      <td>The oldest professional photo of a UFO object ...</td>\n",
              "      <td>12/23/2002</td>\n",
              "      <td>48.208174</td>\n",
              "      <td>16.373819</td>\n",
              "      <td>1906</td>\n",
              "    </tr>\n",
              "    <tr>\n",
              "      <th>46858</th>\n",
              "      <td>6/1/1910 15:00</td>\n",
              "      <td>wills point</td>\n",
              "      <td>tx</td>\n",
              "      <td>us</td>\n",
              "      <td>cigar</td>\n",
              "      <td>120</td>\n",
              "      <td>2 minutes</td>\n",
              "      <td>Cigar shaped object moving from West to East</td>\n",
              "      <td>4/16/2005</td>\n",
              "      <td>32.7091667</td>\n",
              "      <td>-96.008056</td>\n",
              "      <td>1910</td>\n",
              "    </tr>\n",
              "    <tr>\n",
              "      <th>10580</th>\n",
              "      <td>1/1/1910 00:00</td>\n",
              "      <td>kirksville (near)</td>\n",
              "      <td>mo</td>\n",
              "      <td>us</td>\n",
              "      <td>disk</td>\n",
              "      <td>120</td>\n",
              "      <td>minutes</td>\n",
              "      <td>Historical sighting (1903 - 1913) Northern Mis...</td>\n",
              "      <td>9/15/2005</td>\n",
              "      <td>40.1947222</td>\n",
              "      <td>-92.583056</td>\n",
              "      <td>1910</td>\n",
              "    </tr>\n",
              "    <tr>\n",
              "      <th>40275</th>\n",
              "      <td>4/5/1916 13:00</td>\n",
              "      <td>france (above; from aircraft)</td>\n",
              "      <td>NaN</td>\n",
              "      <td>NaN</td>\n",
              "      <td>cigar</td>\n",
              "      <td>60</td>\n",
              "      <td>about 1 min.</td>\n",
              "      <td>((NUFORC Note:  Possible hoax.  PD))  Saw 3 ci...</td>\n",
              "      <td>3/9/2004</td>\n",
              "      <td>46.227638</td>\n",
              "      <td>2.213749</td>\n",
              "      <td>1916</td>\n",
              "    </tr>\n",
              "    <tr>\n",
              "      <th>46694</th>\n",
              "      <td>6/11/1920 21:00</td>\n",
              "      <td>cicero</td>\n",
              "      <td>in</td>\n",
              "      <td>us</td>\n",
              "      <td>unknown</td>\n",
              "      <td>60</td>\n",
              "      <td>1 minute</td>\n",
              "      <td>((NUFORC Note:  Probable hoax.  Note date.  PD...</td>\n",
              "      <td>5/12/2009</td>\n",
              "      <td>40.1238889</td>\n",
              "      <td>-86.013333</td>\n",
              "      <td>1920</td>\n",
              "    </tr>\n",
              "    <tr>\n",
              "      <th>...</th>\n",
              "      <td>...</td>\n",
              "      <td>...</td>\n",
              "      <td>...</td>\n",
              "      <td>...</td>\n",
              "      <td>...</td>\n",
              "      <td>...</td>\n",
              "      <td>...</td>\n",
              "      <td>...</td>\n",
              "      <td>...</td>\n",
              "      <td>...</td>\n",
              "      <td>...</td>\n",
              "      <td>...</td>\n",
              "    </tr>\n",
              "    <tr>\n",
              "      <th>39280</th>\n",
              "      <td>4/26/2014 20:43</td>\n",
              "      <td>whittier</td>\n",
              "      <td>ca</td>\n",
              "      <td>us</td>\n",
              "      <td>fireball</td>\n",
              "      <td>120</td>\n",
              "      <td>2 minutes</td>\n",
              "      <td>Orange&amp;#44 glowing fireball flying north; was ...</td>\n",
              "      <td>5/2/2014</td>\n",
              "      <td>33.9791667</td>\n",
              "      <td>-118.031944</td>\n",
              "      <td>2014</td>\n",
              "    </tr>\n",
              "    <tr>\n",
              "      <th>39279</th>\n",
              "      <td>4/26/2014 20:15</td>\n",
              "      <td>riverside</td>\n",
              "      <td>nj</td>\n",
              "      <td>us</td>\n",
              "      <td>diamond</td>\n",
              "      <td>120</td>\n",
              "      <td>2 minutes</td>\n",
              "      <td>Floating fire ball object in the shape of a di...</td>\n",
              "      <td>5/2/2014</td>\n",
              "      <td>40.0322222</td>\n",
              "      <td>-74.957778</td>\n",
              "      <td>2014</td>\n",
              "    </tr>\n",
              "    <tr>\n",
              "      <th>39278</th>\n",
              "      <td>4/26/2014 19:00</td>\n",
              "      <td>gilbert</td>\n",
              "      <td>az</td>\n",
              "      <td>us</td>\n",
              "      <td>triangle</td>\n",
              "      <td>60</td>\n",
              "      <td>1 minute</td>\n",
              "      <td>Sitting outside on my back porch I observed th...</td>\n",
              "      <td>5/2/2014</td>\n",
              "      <td>33.3527778</td>\n",
              "      <td>-111.788333</td>\n",
              "      <td>2014</td>\n",
              "    </tr>\n",
              "    <tr>\n",
              "      <th>39276</th>\n",
              "      <td>4/26/2014 17:00</td>\n",
              "      <td>greenwood</td>\n",
              "      <td>in</td>\n",
              "      <td>us</td>\n",
              "      <td>cross</td>\n",
              "      <td>20</td>\n",
              "      <td>15-20 seconds</td>\n",
              "      <td>3 strange cross shaped objects flying at an ex...</td>\n",
              "      <td>5/2/2014</td>\n",
              "      <td>39.6136111</td>\n",
              "      <td>-86.106667</td>\n",
              "      <td>2014</td>\n",
              "    </tr>\n",
              "    <tr>\n",
              "      <th>31262</th>\n",
              "      <td>3/13/2014 22:20</td>\n",
              "      <td>henderson</td>\n",
              "      <td>nv</td>\n",
              "      <td>us</td>\n",
              "      <td>light</td>\n",
              "      <td>1800</td>\n",
              "      <td>30 minutes</td>\n",
              "      <td>Lights above mountains south of Henderson.</td>\n",
              "      <td>3/18/2014</td>\n",
              "      <td>36.0397222</td>\n",
              "      <td>-114.981111</td>\n",
              "      <td>2014</td>\n",
              "    </tr>\n",
              "  </tbody>\n",
              "</table>\n",
              "<p>80317 rows × 12 columns</p>\n",
              "</div>\n",
              "      <button class=\"colab-df-convert\" onclick=\"convertToInteractive('df-41aa2a6f-979e-430c-a870-f773ad051fae')\"\n",
              "              title=\"Convert this dataframe to an interactive table.\"\n",
              "              style=\"display:none;\">\n",
              "        \n",
              "  <svg xmlns=\"http://www.w3.org/2000/svg\" height=\"24px\"viewBox=\"0 0 24 24\"\n",
              "       width=\"24px\">\n",
              "    <path d=\"M0 0h24v24H0V0z\" fill=\"none\"/>\n",
              "    <path d=\"M18.56 5.44l.94 2.06.94-2.06 2.06-.94-2.06-.94-.94-2.06-.94 2.06-2.06.94zm-11 1L8.5 8.5l.94-2.06 2.06-.94-2.06-.94L8.5 2.5l-.94 2.06-2.06.94zm10 10l.94 2.06.94-2.06 2.06-.94-2.06-.94-.94-2.06-.94 2.06-2.06.94z\"/><path d=\"M17.41 7.96l-1.37-1.37c-.4-.4-.92-.59-1.43-.59-.52 0-1.04.2-1.43.59L10.3 9.45l-7.72 7.72c-.78.78-.78 2.05 0 2.83L4 21.41c.39.39.9.59 1.41.59.51 0 1.02-.2 1.41-.59l7.78-7.78 2.81-2.81c.8-.78.8-2.07 0-2.86zM5.41 20L4 18.59l7.72-7.72 1.47 1.35L5.41 20z\"/>\n",
              "  </svg>\n",
              "      </button>\n",
              "      \n",
              "  <style>\n",
              "    .colab-df-container {\n",
              "      display:flex;\n",
              "      flex-wrap:wrap;\n",
              "      gap: 12px;\n",
              "    }\n",
              "\n",
              "    .colab-df-convert {\n",
              "      background-color: #E8F0FE;\n",
              "      border: none;\n",
              "      border-radius: 50%;\n",
              "      cursor: pointer;\n",
              "      display: none;\n",
              "      fill: #1967D2;\n",
              "      height: 32px;\n",
              "      padding: 0 0 0 0;\n",
              "      width: 32px;\n",
              "    }\n",
              "\n",
              "    .colab-df-convert:hover {\n",
              "      background-color: #E2EBFA;\n",
              "      box-shadow: 0px 1px 2px rgba(60, 64, 67, 0.3), 0px 1px 3px 1px rgba(60, 64, 67, 0.15);\n",
              "      fill: #174EA6;\n",
              "    }\n",
              "\n",
              "    [theme=dark] .colab-df-convert {\n",
              "      background-color: #3B4455;\n",
              "      fill: #D2E3FC;\n",
              "    }\n",
              "\n",
              "    [theme=dark] .colab-df-convert:hover {\n",
              "      background-color: #434B5C;\n",
              "      box-shadow: 0px 1px 3px 1px rgba(0, 0, 0, 0.15);\n",
              "      filter: drop-shadow(0px 1px 2px rgba(0, 0, 0, 0.3));\n",
              "      fill: #FFFFFF;\n",
              "    }\n",
              "  </style>\n",
              "\n",
              "      <script>\n",
              "        const buttonEl =\n",
              "          document.querySelector('#df-41aa2a6f-979e-430c-a870-f773ad051fae button.colab-df-convert');\n",
              "        buttonEl.style.display =\n",
              "          google.colab.kernel.accessAllowed ? 'block' : 'none';\n",
              "\n",
              "        async function convertToInteractive(key) {\n",
              "          const element = document.querySelector('#df-41aa2a6f-979e-430c-a870-f773ad051fae');\n",
              "          const dataTable =\n",
              "            await google.colab.kernel.invokeFunction('convertToInteractive',\n",
              "                                                     [key], {});\n",
              "          if (!dataTable) return;\n",
              "\n",
              "          const docLinkHtml = 'Like what you see? Visit the ' +\n",
              "            '<a target=\"_blank\" href=https://colab.research.google.com/notebooks/data_table.ipynb>data table notebook</a>'\n",
              "            + ' to learn more about interactive tables.';\n",
              "          element.innerHTML = '';\n",
              "          dataTable['output_type'] = 'display_data';\n",
              "          await google.colab.output.renderOutput(dataTable, element);\n",
              "          const docLink = document.createElement('div');\n",
              "          docLink.innerHTML = docLinkHtml;\n",
              "          element.appendChild(docLink);\n",
              "        }\n",
              "      </script>\n",
              "    </div>\n",
              "  </div>\n",
              "  "
            ],
            "text/plain": [
              "               datetime                           city  ...  longitude   year\n",
              "7863   11/11/1906 00:00                 wien (austria)  ...   16.373819  1906\n",
              "46858    6/1/1910 15:00                    wills point  ...  -96.008056  1910\n",
              "10580    1/1/1910 00:00              kirksville (near)  ...  -92.583056  1910\n",
              "40275    4/5/1916 13:00  france (above; from aircraft)  ...    2.213749  1916\n",
              "46694   6/11/1920 21:00                         cicero  ...  -86.013333  1920\n",
              "...                 ...                            ...  ...         ...   ...\n",
              "39280   4/26/2014 20:43                       whittier  ... -118.031944  2014\n",
              "39279   4/26/2014 20:15                      riverside  ...  -74.957778  2014\n",
              "39278   4/26/2014 19:00                        gilbert  ... -111.788333  2014\n",
              "39276   4/26/2014 17:00                      greenwood  ...  -86.106667  2014\n",
              "31262   3/13/2014 22:20                      henderson  ... -114.981111  2014\n",
              "\n",
              "[80317 rows x 12 columns]"
            ]
          },
          "metadata": {},
          "execution_count": 105
        }
      ]
    },
    {
      "cell_type": "markdown",
      "source": [
        "> sorted by year. it spans from `1906` to `2014.`. let's check by 'decade' bin."
      ],
      "metadata": {
        "id": "rTc6R3PyN5Om"
      }
    },
    {
      "cell_type": "code",
      "source": [
        "df_sc[\"year\"].hist()"
      ],
      "metadata": {
        "colab": {
          "base_uri": "https://localhost:8080/",
          "height": 283
        },
        "id": "RMQ7HdBYLXy2",
        "outputId": "c812a35a-1a9c-4ee6-a4c3-ad11436be06d"
      },
      "execution_count": null,
      "outputs": [
        {
          "output_type": "execute_result",
          "data": {
            "text/plain": [
              "<matplotlib.axes._subplots.AxesSubplot at 0x7f83749ab710>"
            ]
          },
          "metadata": {},
          "execution_count": 106
        },
        {
          "output_type": "display_data",
          "data": {
            "image/png": "[encoded data removed]",
            "text/plain": [
              "<Figure size 432x288 with 1 Axes>"
            ]
          },
          "metadata": {
            "needs_background": "light"
          }
        }
      ]
    },
    {
      "cell_type": "code",
      "source": [
        "df_sc[\"year\"].describe()"
      ],
      "metadata": {
        "colab": {
          "base_uri": "https://localhost:8080/"
        },
        "id": "O07kxU1JPM_c",
        "outputId": "ad0db857-dbc7-4ecc-c3ff-ce0edb1be0c3"
      },
      "execution_count": null,
      "outputs": [
        {
          "output_type": "execute_result",
          "data": {
            "text/plain": [
              "count    80317.000000\n",
              "mean      2003.851613\n",
              "std         10.424605\n",
              "min       1906.000000\n",
              "25%       2001.000000\n",
              "50%       2006.000000\n",
              "75%       2011.000000\n",
              "max       2014.000000\n",
              "Name: year, dtype: float64"
            ]
          },
          "metadata": {},
          "execution_count": 107
        }
      ]
    },
    {
      "cell_type": "markdown",
      "source": [
        "highly right-skewed data. "
      ],
      "metadata": {
        "id": "HKwIKPvEPYIG"
      }
    },
    {
      "cell_type": "markdown",
      "source": [
        "2) Preprocessing\n",
        "- comments include `&#44`. this should be deleted.\n",
        "- lower the capital letters."
      ],
      "metadata": {
        "id": "4UnuOINTUbwd"
      }
    },
    {
      "cell_type": "code",
      "source": [
        "df_sc['comments'].groupby(df_sc.year).sum()"
      ],
      "metadata": {
        "colab": {
          "base_uri": "https://localhost:8080/"
        },
        "id": "H7M5ptvtQWIG",
        "outputId": "3cf6e66f-bfc3-4384-e041-cc53e448fb5c"
      },
      "execution_count": null,
      "outputs": [
        {
          "output_type": "execute_result",
          "data": {
            "text/plain": [
              "year\n",
              "1906    The oldest professional photo of a UFO object ...\n",
              "1910    Cigar shaped object moving from West to EastHi...\n",
              "1916    ((NUFORC Note:  Possible hoax.  PD))  Saw 3 ci...\n",
              "1920    ((NUFORC Note:  Probable hoax.  Note date.  PD...\n",
              "1925    Young boy witnesses disc in sky above Illinois...\n",
              "                              ...                        \n",
              "2010    Saturday night at 915pm my wife and I were wat...\n",
              "2011    DARK YELLOW ORANGISH BALLDriving on main road&...\n",
              "2012    Strange flashing lights in western sky.Since I...\n",
              "2013    ORANGE SPHERES IN THE SKY.Ufo sighting Grand P...\n",
              "2014    Sphere with red glow within and bright orange ...\n",
              "Name: comments, Length: 87, dtype: object"
            ]
          },
          "metadata": {},
          "execution_count": 108
        }
      ]
    },
    {
      "cell_type": "code",
      "source": [
        "\n",
        "\n",
        "df_sc.comments.iloc[7863:7873]"
      ],
      "metadata": {
        "colab": {
          "base_uri": "https://localhost:8080/"
        },
        "id": "gz4CPt9XWWjO",
        "outputId": "1b9b4d43-7198-47f7-c7c0-3af4996abf13"
      },
      "execution_count": null,
      "outputs": [
        {
          "output_type": "execute_result",
          "data": {
            "text/plain": [
              "49045    Possible sighting of Military Camouflage Techn...\n",
              "49046    orange glowing orb-like lights seen by myself ...\n",
              "33264    Man at work witnessed a bright white light ris...\n",
              "65890    Computer engineer driving on Rte. I-90 witness...\n",
              "65889    Man sees pecular green light w/ &quot;comet-li...\n",
              "50047    A triangular craft with a light at each end an...\n",
              "63       Woman repts.  bright light in NW sky&#44 sudde...\n",
              "49049    zero to very fast moving star and meteor glows...\n",
              "46013    I was looking at the clouds and just over thes...\n",
              "46012    Man repts. very clear sighting of a very brigh...\n",
              "Name: comments, dtype: object"
            ]
          },
          "metadata": {},
          "execution_count": 109
        }
      ]
    },
    {
      "cell_type": "code",
      "source": [
        "\n",
        "df_sc.comments = df_sc.comments.str.replace(\"&#44\",\"\").str.lower()\n",
        "df_sc.comments.iloc[7863:7873]"
      ],
      "metadata": {
        "colab": {
          "base_uri": "https://localhost:8080/"
        },
        "id": "Fk7LfbajW4Xk",
        "outputId": "6d2b2122-814a-4afc-9a55-96aa4f5c2c2e"
      },
      "execution_count": null,
      "outputs": [
        {
          "output_type": "execute_result",
          "data": {
            "text/plain": [
              "49045    possible sighting of military camouflage techn...\n",
              "49046    orange glowing orb-like lights seen by myself ...\n",
              "33264    man at work witnessed a bright white light ris...\n",
              "65890    computer engineer driving on rte. i-90 witness...\n",
              "65889    man sees pecular green light w/ &quot;comet-li...\n",
              "50047    a triangular craft with a light at each end an...\n",
              "63       woman repts.  bright light in nw sky suddenly ...\n",
              "49049    zero to very fast moving star and meteor glows...\n",
              "46013    i was looking at the clouds and just over thes...\n",
              "46012    man repts. very clear sighting of a very brigh...\n",
              "Name: comments, dtype: object"
            ]
          },
          "metadata": {},
          "execution_count": 110
        }
      ]
    },
    {
      "cell_type": "markdown",
      "source": [
        "> change to df, which contains only `year` and `comment` column"
      ],
      "metadata": {
        "id": "GsPJRf0HZ25E"
      }
    },
    {
      "cell_type": "code",
      "source": [
        "df = df_sc[['year','comments']]\n",
        "df = df.reset_index(drop=True)\n",
        "df.head(100)\n"
      ],
      "metadata": {
        "colab": {
          "base_uri": "https://localhost:8080/",
          "height": 424
        },
        "id": "zcGVPAPZZ1vu",
        "outputId": "3523fa9f-36fb-4efa-ab64-8246f70910b2"
      },
      "execution_count": null,
      "outputs": [
        {
          "output_type": "execute_result",
          "data": {
            "text/html": [
              "\n",
              "  <div id=\"df-89ea29d2-01e3-44d6-9f10-b85d9d9a04c2\">\n",
              "    <div class=\"colab-df-container\">\n",
              "      <div>\n",
              "<style scoped>\n",
              "    .dataframe tbody tr th:only-of-type {\n",
              "        vertical-align: middle;\n",
              "    }\n",
              "\n",
              "    .dataframe tbody tr th {\n",
              "        vertical-align: top;\n",
              "    }\n",
              "\n",
              "    .dataframe thead th {\n",
              "        text-align: right;\n",
              "    }\n",
              "</style>\n",
              "<table border=\"1\" class=\"dataframe\">\n",
              "  <thead>\n",
              "    <tr style=\"text-align: right;\">\n",
              "      <th></th>\n",
              "      <th>year</th>\n",
              "      <th>comments</th>\n",
              "    </tr>\n",
              "  </thead>\n",
              "  <tbody>\n",
              "    <tr>\n",
              "      <th>0</th>\n",
              "      <td>1906</td>\n",
              "      <td>the oldest professional photo of a ufo object ...</td>\n",
              "    </tr>\n",
              "    <tr>\n",
              "      <th>1</th>\n",
              "      <td>1910</td>\n",
              "      <td>cigar shaped object moving from west to east</td>\n",
              "    </tr>\n",
              "    <tr>\n",
              "      <th>2</th>\n",
              "      <td>1910</td>\n",
              "      <td>historical sighting (1903 - 1913) northern mis...</td>\n",
              "    </tr>\n",
              "    <tr>\n",
              "      <th>3</th>\n",
              "      <td>1916</td>\n",
              "      <td>((nuforc note:  possible hoax.  pd))  saw 3 ci...</td>\n",
              "    </tr>\n",
              "    <tr>\n",
              "      <th>4</th>\n",
              "      <td>1920</td>\n",
              "      <td>((nuforc note:  probable hoax.  note date.  pd...</td>\n",
              "    </tr>\n",
              "    <tr>\n",
              "      <th>...</th>\n",
              "      <td>...</td>\n",
              "      <td>...</td>\n",
              "    </tr>\n",
              "    <tr>\n",
              "      <th>95</th>\n",
              "      <td>1947</td>\n",
              "      <td>three  disks appear in the west stop at zenith...</td>\n",
              "    </tr>\n",
              "    <tr>\n",
              "      <th>96</th>\n",
              "      <td>1948</td>\n",
              "      <td>small ufo at 100&amp;#39  airspeed less than 20mph...</td>\n",
              "    </tr>\n",
              "    <tr>\n",
              "      <th>97</th>\n",
              "      <td>1948</td>\n",
              "      <td>a round overing craft over neighbors roof emit...</td>\n",
              "    </tr>\n",
              "    <tr>\n",
              "      <th>98</th>\n",
              "      <td>1948</td>\n",
              "      <td>while working on the farm they noticed a cube ...</td>\n",
              "    </tr>\n",
              "    <tr>\n",
              "      <th>99</th>\n",
              "      <td>1948</td>\n",
              "      <td>dull silver disk flying west at incredible spe...</td>\n",
              "    </tr>\n",
              "  </tbody>\n",
              "</table>\n",
              "<p>100 rows × 2 columns</p>\n",
              "</div>\n",
              "      <button class=\"colab-df-convert\" onclick=\"convertToInteractive('df-89ea29d2-01e3-44d6-9f10-b85d9d9a04c2')\"\n",
              "              title=\"Convert this dataframe to an interactive table.\"\n",
              "              style=\"display:none;\">\n",
              "        \n",
              "  <svg xmlns=\"http://www.w3.org/2000/svg\" height=\"24px\"viewBox=\"0 0 24 24\"\n",
              "       width=\"24px\">\n",
              "    <path d=\"M0 0h24v24H0V0z\" fill=\"none\"/>\n",
              "    <path d=\"M18.56 5.44l.94 2.06.94-2.06 2.06-.94-2.06-.94-.94-2.06-.94 2.06-2.06.94zm-11 1L8.5 8.5l.94-2.06 2.06-.94-2.06-.94L8.5 2.5l-.94 2.06-2.06.94zm10 10l.94 2.06.94-2.06 2.06-.94-2.06-.94-.94-2.06-.94 2.06-2.06.94z\"/><path d=\"M17.41 7.96l-1.37-1.37c-.4-.4-.92-.59-1.43-.59-.52 0-1.04.2-1.43.59L10.3 9.45l-7.72 7.72c-.78.78-.78 2.05 0 2.83L4 21.41c.39.39.9.59 1.41.59.51 0 1.02-.2 1.41-.59l7.78-7.78 2.81-2.81c.8-.78.8-2.07 0-2.86zM5.41 20L4 18.59l7.72-7.72 1.47 1.35L5.41 20z\"/>\n",
              "  </svg>\n",
              "      </button>\n",
              "      \n",
              "  <style>\n",
              "    .colab-df-container {\n",
              "      display:flex;\n",
              "      flex-wrap:wrap;\n",
              "      gap: 12px;\n",
              "    }\n",
              "\n",
              "    .colab-df-convert {\n",
              "      background-color: #E8F0FE;\n",
              "      border: none;\n",
              "      border-radius: 50%;\n",
              "      cursor: pointer;\n",
              "      display: none;\n",
              "      fill: #1967D2;\n",
              "      height: 32px;\n",
              "      padding: 0 0 0 0;\n",
              "      width: 32px;\n",
              "    }\n",
              "\n",
              "    .colab-df-convert:hover {\n",
              "      background-color: #E2EBFA;\n",
              "      box-shadow: 0px 1px 2px rgba(60, 64, 67, 0.3), 0px 1px 3px 1px rgba(60, 64, 67, 0.15);\n",
              "      fill: #174EA6;\n",
              "    }\n",
              "\n",
              "    [theme=dark] .colab-df-convert {\n",
              "      background-color: #3B4455;\n",
              "      fill: #D2E3FC;\n",
              "    }\n",
              "\n",
              "    [theme=dark] .colab-df-convert:hover {\n",
              "      background-color: #434B5C;\n",
              "      box-shadow: 0px 1px 3px 1px rgba(0, 0, 0, 0.15);\n",
              "      filter: drop-shadow(0px 1px 2px rgba(0, 0, 0, 0.3));\n",
              "      fill: #FFFFFF;\n",
              "    }\n",
              "  </style>\n",
              "\n",
              "      <script>\n",
              "        const buttonEl =\n",
              "          document.querySelector('#df-89ea29d2-01e3-44d6-9f10-b85d9d9a04c2 button.colab-df-convert');\n",
              "        buttonEl.style.display =\n",
              "          google.colab.kernel.accessAllowed ? 'block' : 'none';\n",
              "\n",
              "        async function convertToInteractive(key) {\n",
              "          const element = document.querySelector('#df-89ea29d2-01e3-44d6-9f10-b85d9d9a04c2');\n",
              "          const dataTable =\n",
              "            await google.colab.kernel.invokeFunction('convertToInteractive',\n",
              "                                                     [key], {});\n",
              "          if (!dataTable) return;\n",
              "\n",
              "          const docLinkHtml = 'Like what you see? Visit the ' +\n",
              "            '<a target=\"_blank\" href=https://colab.research.google.com/notebooks/data_table.ipynb>data table notebook</a>'\n",
              "            + ' to learn more about interactive tables.';\n",
              "          element.innerHTML = '';\n",
              "          dataTable['output_type'] = 'display_data';\n",
              "          await google.colab.output.renderOutput(dataTable, element);\n",
              "          const docLink = document.createElement('div');\n",
              "          docLink.innerHTML = docLinkHtml;\n",
              "          element.appendChild(docLink);\n",
              "        }\n",
              "      </script>\n",
              "    </div>\n",
              "  </div>\n",
              "  "
            ],
            "text/plain": [
              "    year                                           comments\n",
              "0   1906  the oldest professional photo of a ufo object ...\n",
              "1   1910       cigar shaped object moving from west to east\n",
              "2   1910  historical sighting (1903 - 1913) northern mis...\n",
              "3   1916  ((nuforc note:  possible hoax.  pd))  saw 3 ci...\n",
              "4   1920  ((nuforc note:  probable hoax.  note date.  pd...\n",
              "..   ...                                                ...\n",
              "95  1947  three  disks appear in the west stop at zenith...\n",
              "96  1948  small ufo at 100&#39  airspeed less than 20mph...\n",
              "97  1948  a round overing craft over neighbors roof emit...\n",
              "98  1948  while working on the farm they noticed a cube ...\n",
              "99  1948  dull silver disk flying west at incredible spe...\n",
              "\n",
              "[100 rows x 2 columns]"
            ]
          },
          "metadata": {},
          "execution_count": 111
        }
      ]
    },
    {
      "cell_type": "markdown",
      "source": [
        "c. additional preprocessing(delete unmeaningful words)"
      ],
      "metadata": {
        "id": "Ig3Xq7C8cPlV"
      }
    },
    {
      "cell_type": "code",
      "source": [
        "\n",
        "\n",
        "\n",
        "df.comments = df.comments.str.replace(\"&#[0-9]+\",\"\",regex=True)\n",
        "\n",
        "df.comments = df.comments.str.replace(\"&quot;\",\"\",regex=True)\n",
        "df.comments = df.comments.str.replace(\";\",\"\",regex=True)\n",
        "df.head(100)\n"
      ],
      "metadata": {
        "colab": {
          "base_uri": "https://localhost:8080/",
          "height": 424
        },
        "id": "eriJV0OubYN9",
        "outputId": "01e98a79-82e6-4efe-ef58-5a1910bf4008"
      },
      "execution_count": null,
      "outputs": [
        {
          "output_type": "execute_result",
          "data": {
            "text/html": [
              "\n",
              "  <div id=\"df-5d9c5e24-ebb0-4203-8f56-0327b0add467\">\n",
              "    <div class=\"colab-df-container\">\n",
              "      <div>\n",
              "<style scoped>\n",
              "    .dataframe tbody tr th:only-of-type {\n",
              "        vertical-align: middle;\n",
              "    }\n",
              "\n",
              "    .dataframe tbody tr th {\n",
              "        vertical-align: top;\n",
              "    }\n",
              "\n",
              "    .dataframe thead th {\n",
              "        text-align: right;\n",
              "    }\n",
              "</style>\n",
              "<table border=\"1\" class=\"dataframe\">\n",
              "  <thead>\n",
              "    <tr style=\"text-align: right;\">\n",
              "      <th></th>\n",
              "      <th>year</th>\n",
              "      <th>comments</th>\n",
              "    </tr>\n",
              "  </thead>\n",
              "  <tbody>\n",
              "    <tr>\n",
              "      <th>0</th>\n",
              "      <td>1906</td>\n",
              "      <td>the oldest professional photo of a ufo object ...</td>\n",
              "    </tr>\n",
              "    <tr>\n",
              "      <th>1</th>\n",
              "      <td>1910</td>\n",
              "      <td>cigar shaped object moving from west to east</td>\n",
              "    </tr>\n",
              "    <tr>\n",
              "      <th>2</th>\n",
              "      <td>1910</td>\n",
              "      <td>historical sighting (1903 - 1913) northern mis...</td>\n",
              "    </tr>\n",
              "    <tr>\n",
              "      <th>3</th>\n",
              "      <td>1916</td>\n",
              "      <td>((nuforc note:  possible hoax.  pd))  saw 3 ci...</td>\n",
              "    </tr>\n",
              "    <tr>\n",
              "      <th>4</th>\n",
              "      <td>1920</td>\n",
              "      <td>((nuforc note:  probable hoax.  note date.  pd...</td>\n",
              "    </tr>\n",
              "    <tr>\n",
              "      <th>...</th>\n",
              "      <td>...</td>\n",
              "      <td>...</td>\n",
              "    </tr>\n",
              "    <tr>\n",
              "      <th>95</th>\n",
              "      <td>1947</td>\n",
              "      <td>three  disks appear in the west stop at zenith...</td>\n",
              "    </tr>\n",
              "    <tr>\n",
              "      <th>96</th>\n",
              "      <td>1948</td>\n",
              "      <td>small ufo at 100  airspeed less than 20mph abs...</td>\n",
              "    </tr>\n",
              "    <tr>\n",
              "      <th>97</th>\n",
              "      <td>1948</td>\n",
              "      <td>a round overing craft over neighbors roof emit...</td>\n",
              "    </tr>\n",
              "    <tr>\n",
              "      <th>98</th>\n",
              "      <td>1948</td>\n",
              "      <td>while working on the farm they noticed a cube ...</td>\n",
              "    </tr>\n",
              "    <tr>\n",
              "      <th>99</th>\n",
              "      <td>1948</td>\n",
              "      <td>dull silver disk flying west at incredible spe...</td>\n",
              "    </tr>\n",
              "  </tbody>\n",
              "</table>\n",
              "<p>100 rows × 2 columns</p>\n",
              "</div>\n",
              "      <button class=\"colab-df-convert\" onclick=\"convertToInteractive('df-5d9c5e24-ebb0-4203-8f56-0327b0add467')\"\n",
              "              title=\"Convert this dataframe to an interactive table.\"\n",
              "              style=\"display:none;\">\n",
              "        \n",
              "  <svg xmlns=\"http://www.w3.org/2000/svg\" height=\"24px\"viewBox=\"0 0 24 24\"\n",
              "       width=\"24px\">\n",
              "    <path d=\"M0 0h24v24H0V0z\" fill=\"none\"/>\n",
              "    <path d=\"M18.56 5.44l.94 2.06.94-2.06 2.06-.94-2.06-.94-.94-2.06-.94 2.06-2.06.94zm-11 1L8.5 8.5l.94-2.06 2.06-.94-2.06-.94L8.5 2.5l-.94 2.06-2.06.94zm10 10l.94 2.06.94-2.06 2.06-.94-2.06-.94-.94-2.06-.94 2.06-2.06.94z\"/><path d=\"M17.41 7.96l-1.37-1.37c-.4-.4-.92-.59-1.43-.59-.52 0-1.04.2-1.43.59L10.3 9.45l-7.72 7.72c-.78.78-.78 2.05 0 2.83L4 21.41c.39.39.9.59 1.41.59.51 0 1.02-.2 1.41-.59l7.78-7.78 2.81-2.81c.8-.78.8-2.07 0-2.86zM5.41 20L4 18.59l7.72-7.72 1.47 1.35L5.41 20z\"/>\n",
              "  </svg>\n",
              "      </button>\n",
              "      \n",
              "  <style>\n",
              "    .colab-df-container {\n",
              "      display:flex;\n",
              "      flex-wrap:wrap;\n",
              "      gap: 12px;\n",
              "    }\n",
              "\n",
              "    .colab-df-convert {\n",
              "      background-color: #E8F0FE;\n",
              "      border: none;\n",
              "      border-radius: 50%;\n",
              "      cursor: pointer;\n",
              "      display: none;\n",
              "      fill: #1967D2;\n",
              "      height: 32px;\n",
              "      padding: 0 0 0 0;\n",
              "      width: 32px;\n",
              "    }\n",
              "\n",
              "    .colab-df-convert:hover {\n",
              "      background-color: #E2EBFA;\n",
              "      box-shadow: 0px 1px 2px rgba(60, 64, 67, 0.3), 0px 1px 3px 1px rgba(60, 64, 67, 0.15);\n",
              "      fill: #174EA6;\n",
              "    }\n",
              "\n",
              "    [theme=dark] .colab-df-convert {\n",
              "      background-color: #3B4455;\n",
              "      fill: #D2E3FC;\n",
              "    }\n",
              "\n",
              "    [theme=dark] .colab-df-convert:hover {\n",
              "      background-color: #434B5C;\n",
              "      box-shadow: 0px 1px 3px 1px rgba(0, 0, 0, 0.15);\n",
              "      filter: drop-shadow(0px 1px 2px rgba(0, 0, 0, 0.3));\n",
              "      fill: #FFFFFF;\n",
              "    }\n",
              "  </style>\n",
              "\n",
              "      <script>\n",
              "        const buttonEl =\n",
              "          document.querySelector('#df-5d9c5e24-ebb0-4203-8f56-0327b0add467 button.colab-df-convert');\n",
              "        buttonEl.style.display =\n",
              "          google.colab.kernel.accessAllowed ? 'block' : 'none';\n",
              "\n",
              "        async function convertToInteractive(key) {\n",
              "          const element = document.querySelector('#df-5d9c5e24-ebb0-4203-8f56-0327b0add467');\n",
              "          const dataTable =\n",
              "            await google.colab.kernel.invokeFunction('convertToInteractive',\n",
              "                                                     [key], {});\n",
              "          if (!dataTable) return;\n",
              "\n",
              "          const docLinkHtml = 'Like what you see? Visit the ' +\n",
              "            '<a target=\"_blank\" href=https://colab.research.google.com/notebooks/data_table.ipynb>data table notebook</a>'\n",
              "            + ' to learn more about interactive tables.';\n",
              "          element.innerHTML = '';\n",
              "          dataTable['output_type'] = 'display_data';\n",
              "          await google.colab.output.renderOutput(dataTable, element);\n",
              "          const docLink = document.createElement('div');\n",
              "          docLink.innerHTML = docLinkHtml;\n",
              "          element.appendChild(docLink);\n",
              "        }\n",
              "      </script>\n",
              "    </div>\n",
              "  </div>\n",
              "  "
            ],
            "text/plain": [
              "    year                                           comments\n",
              "0   1906  the oldest professional photo of a ufo object ...\n",
              "1   1910       cigar shaped object moving from west to east\n",
              "2   1910  historical sighting (1903 - 1913) northern mis...\n",
              "3   1916  ((nuforc note:  possible hoax.  pd))  saw 3 ci...\n",
              "4   1920  ((nuforc note:  probable hoax.  note date.  pd...\n",
              "..   ...                                                ...\n",
              "95  1947  three  disks appear in the west stop at zenith...\n",
              "96  1948  small ufo at 100  airspeed less than 20mph abs...\n",
              "97  1948  a round overing craft over neighbors roof emit...\n",
              "98  1948  while working on the farm they noticed a cube ...\n",
              "99  1948  dull silver disk flying west at incredible spe...\n",
              "\n",
              "[100 rows x 2 columns]"
            ]
          },
          "metadata": {},
          "execution_count": 112
        }
      ]
    },
    {
      "cell_type": "code",
      "source": [
        "df.groupby((df.year//10)*10).count()"
      ],
      "metadata": {
        "colab": {
          "base_uri": "https://localhost:8080/",
          "height": 457
        },
        "id": "piEurf5Jdz80",
        "outputId": "3b30cf19-029e-4963-f1fb-2d98121aa3b2"
      },
      "execution_count": null,
      "outputs": [
        {
          "output_type": "execute_result",
          "data": {
            "text/html": [
              "\n",
              "  <div id=\"df-88772056-90bf-471a-8ad8-b132d0768669\">\n",
              "    <div class=\"colab-df-container\">\n",
              "      <div>\n",
              "<style scoped>\n",
              "    .dataframe tbody tr th:only-of-type {\n",
              "        vertical-align: middle;\n",
              "    }\n",
              "\n",
              "    .dataframe tbody tr th {\n",
              "        vertical-align: top;\n",
              "    }\n",
              "\n",
              "    .dataframe thead th {\n",
              "        text-align: right;\n",
              "    }\n",
              "</style>\n",
              "<table border=\"1\" class=\"dataframe\">\n",
              "  <thead>\n",
              "    <tr style=\"text-align: right;\">\n",
              "      <th></th>\n",
              "      <th>year</th>\n",
              "      <th>comments</th>\n",
              "    </tr>\n",
              "    <tr>\n",
              "      <th>year</th>\n",
              "      <th></th>\n",
              "      <th></th>\n",
              "    </tr>\n",
              "  </thead>\n",
              "  <tbody>\n",
              "    <tr>\n",
              "      <th>1900</th>\n",
              "      <td>1</td>\n",
              "      <td>1</td>\n",
              "    </tr>\n",
              "    <tr>\n",
              "      <th>1910</th>\n",
              "      <td>3</td>\n",
              "      <td>3</td>\n",
              "    </tr>\n",
              "    <tr>\n",
              "      <th>1920</th>\n",
              "      <td>3</td>\n",
              "      <td>3</td>\n",
              "    </tr>\n",
              "    <tr>\n",
              "      <th>1930</th>\n",
              "      <td>12</td>\n",
              "      <td>12</td>\n",
              "    </tr>\n",
              "    <tr>\n",
              "      <th>1940</th>\n",
              "      <td>101</td>\n",
              "      <td>101</td>\n",
              "    </tr>\n",
              "    <tr>\n",
              "      <th>1950</th>\n",
              "      <td>427</td>\n",
              "      <td>427</td>\n",
              "    </tr>\n",
              "    <tr>\n",
              "      <th>1960</th>\n",
              "      <td>1305</td>\n",
              "      <td>1305</td>\n",
              "    </tr>\n",
              "    <tr>\n",
              "      <th>1970</th>\n",
              "      <td>2380</td>\n",
              "      <td>2380</td>\n",
              "    </tr>\n",
              "    <tr>\n",
              "      <th>1980</th>\n",
              "      <td>2057</td>\n",
              "      <td>2057</td>\n",
              "    </tr>\n",
              "    <tr>\n",
              "      <th>1990</th>\n",
              "      <td>9210</td>\n",
              "      <td>9210</td>\n",
              "    </tr>\n",
              "    <tr>\n",
              "      <th>2000</th>\n",
              "      <td>38777</td>\n",
              "      <td>38777</td>\n",
              "    </tr>\n",
              "    <tr>\n",
              "      <th>2010</th>\n",
              "      <td>26041</td>\n",
              "      <td>26041</td>\n",
              "    </tr>\n",
              "  </tbody>\n",
              "</table>\n",
              "</div>\n",
              "      <button class=\"colab-df-convert\" onclick=\"convertToInteractive('df-88772056-90bf-471a-8ad8-b132d0768669')\"\n",
              "              title=\"Convert this dataframe to an interactive table.\"\n",
              "              style=\"display:none;\">\n",
              "        \n",
              "  <svg xmlns=\"http://www.w3.org/2000/svg\" height=\"24px\"viewBox=\"0 0 24 24\"\n",
              "       width=\"24px\">\n",
              "    <path d=\"M0 0h24v24H0V0z\" fill=\"none\"/>\n",
              "    <path d=\"M18.56 5.44l.94 2.06.94-2.06 2.06-.94-2.06-.94-.94-2.06-.94 2.06-2.06.94zm-11 1L8.5 8.5l.94-2.06 2.06-.94-2.06-.94L8.5 2.5l-.94 2.06-2.06.94zm10 10l.94 2.06.94-2.06 2.06-.94-2.06-.94-.94-2.06-.94 2.06-2.06.94z\"/><path d=\"M17.41 7.96l-1.37-1.37c-.4-.4-.92-.59-1.43-.59-.52 0-1.04.2-1.43.59L10.3 9.45l-7.72 7.72c-.78.78-.78 2.05 0 2.83L4 21.41c.39.39.9.59 1.41.59.51 0 1.02-.2 1.41-.59l7.78-7.78 2.81-2.81c.8-.78.8-2.07 0-2.86zM5.41 20L4 18.59l7.72-7.72 1.47 1.35L5.41 20z\"/>\n",
              "  </svg>\n",
              "      </button>\n",
              "      \n",
              "  <style>\n",
              "    .colab-df-container {\n",
              "      display:flex;\n",
              "      flex-wrap:wrap;\n",
              "      gap: 12px;\n",
              "    }\n",
              "\n",
              "    .colab-df-convert {\n",
              "      background-color: #E8F0FE;\n",
              "      border: none;\n",
              "      border-radius: 50%;\n",
              "      cursor: pointer;\n",
              "      display: none;\n",
              "      fill: #1967D2;\n",
              "      height: 32px;\n",
              "      padding: 0 0 0 0;\n",
              "      width: 32px;\n",
              "    }\n",
              "\n",
              "    .colab-df-convert:hover {\n",
              "      background-color: #E2EBFA;\n",
              "      box-shadow: 0px 1px 2px rgba(60, 64, 67, 0.3), 0px 1px 3px 1px rgba(60, 64, 67, 0.15);\n",
              "      fill: #174EA6;\n",
              "    }\n",
              "\n",
              "    [theme=dark] .colab-df-convert {\n",
              "      background-color: #3B4455;\n",
              "      fill: #D2E3FC;\n",
              "    }\n",
              "\n",
              "    [theme=dark] .colab-df-convert:hover {\n",
              "      background-color: #434B5C;\n",
              "      box-shadow: 0px 1px 3px 1px rgba(0, 0, 0, 0.15);\n",
              "      filter: drop-shadow(0px 1px 2px rgba(0, 0, 0, 0.3));\n",
              "      fill: #FFFFFF;\n",
              "    }\n",
              "  </style>\n",
              "\n",
              "      <script>\n",
              "        const buttonEl =\n",
              "          document.querySelector('#df-88772056-90bf-471a-8ad8-b132d0768669 button.colab-df-convert');\n",
              "        buttonEl.style.display =\n",
              "          google.colab.kernel.accessAllowed ? 'block' : 'none';\n",
              "\n",
              "        async function convertToInteractive(key) {\n",
              "          const element = document.querySelector('#df-88772056-90bf-471a-8ad8-b132d0768669');\n",
              "          const dataTable =\n",
              "            await google.colab.kernel.invokeFunction('convertToInteractive',\n",
              "                                                     [key], {});\n",
              "          if (!dataTable) return;\n",
              "\n",
              "          const docLinkHtml = 'Like what you see? Visit the ' +\n",
              "            '<a target=\"_blank\" href=https://colab.research.google.com/notebooks/data_table.ipynb>data table notebook</a>'\n",
              "            + ' to learn more about interactive tables.';\n",
              "          element.innerHTML = '';\n",
              "          dataTable['output_type'] = 'display_data';\n",
              "          await google.colab.output.renderOutput(dataTable, element);\n",
              "          const docLink = document.createElement('div');\n",
              "          docLink.innerHTML = docLinkHtml;\n",
              "          element.appendChild(docLink);\n",
              "        }\n",
              "      </script>\n",
              "    </div>\n",
              "  </div>\n",
              "  "
            ],
            "text/plain": [
              "       year  comments\n",
              "year                 \n",
              "1900      1         1\n",
              "1910      3         3\n",
              "1920      3         3\n",
              "1930     12        12\n",
              "1940    101       101\n",
              "1950    427       427\n",
              "1960   1305      1305\n",
              "1970   2380      2380\n",
              "1980   2057      2057\n",
              "1990   9210      9210\n",
              "2000  38777     38777\n",
              "2010  26041     26041"
            ]
          },
          "metadata": {},
          "execution_count": 113
        }
      ]
    },
    {
      "cell_type": "markdown",
      "source": [
        "> according to the data distribution, drop data before `1940`.\n",
        "- divde into 8 group : 1940s-2010s "
      ],
      "metadata": {
        "id": "5zB4aeQTKWQ1"
      }
    },
    {
      "cell_type": "markdown",
      "source": [
        "\n"
      ],
      "metadata": {
        "id": "RJEZA_TReByT"
      }
    },
    {
      "cell_type": "code",
      "source": [
        "text_1940 =[]\n",
        "text_1950 =[]\n",
        "text_1960 =[]\n",
        "text_1970 =[]\n",
        "text_1980 =[]\n",
        "text_1990 =[]\n",
        "text_2000 =[]\n",
        "text_2010 =[]"
      ],
      "metadata": {
        "id": "iNcq83TQWawI"
      },
      "execution_count": null,
      "outputs": []
    },
    {
      "cell_type": "code",
      "source": [
        "for i in df.index:\n",
        "  if df.loc[i,'year']<1940:\n",
        "    continue;\n",
        "  if 1940<=df.loc[i,'year']<1950:\n",
        "    text_1940.append(df.loc[i,'comments'])\n",
        "  if 1950<=df.loc[i,'year']<1960:\n",
        "    text_1950.append(df.loc[i,'comments'])\n",
        "  if 1960<=df.loc[i,'year']<1970:\n",
        "    text_1960.append(df.loc[i,'comments'])\n",
        "  if 1970<=df.loc[i,'year']<1980:\n",
        "    text_1970.append(df.loc[i,'comments'])\n",
        "  if 1980<=df.loc[i,'year']<1990:\n",
        "    text_1980.append(df.loc[i,'comments'])\n",
        "  if 1990<=df.loc[i,'year']<2000:\n",
        "    text_1990.append(df.loc[i,'comments'])\n",
        "  if 2000<=df.loc[i,'year']<2010:\n",
        "    text_2000.append(df.loc[i,'comments'])  \n",
        "  if 2010<=df.loc[i,'year']:\n",
        "    text_2010.append(df.loc[i,'comments'])"
      ],
      "metadata": {
        "id": "oy9vViZqXRS1"
      },
      "execution_count": null,
      "outputs": []
    },
    {
      "cell_type": "code",
      "source": [
        "# NLTK liblary\n",
        "from nltk.corpus import stopwords\n",
        "from nltk.tokenize import word_tokenize\n",
        "from nltk.stem import WordNetLemmatizer\n",
        "from nltk import ngrams\n",
        "from collections import Counter\n",
        "import seaborn as sns\n",
        "import matplotlib.pyplot as plt"
      ],
      "metadata": {
        "id": "R1fgeBPuKBav"
      },
      "execution_count": null,
      "outputs": []
    },
    {
      "cell_type": "code",
      "source": [
        "import nltk\n",
        "nltk.download('punkt')\n",
        "nltk.download('stopwords')  \n",
        "nltk.download('wordnet')\n"
      ],
      "metadata": {
        "colab": {
          "base_uri": "https://localhost:8080/"
        },
        "id": "qoRHVgopPNZ3",
        "outputId": "fcfa1e72-7396-415b-c55d-2ee7f35bc924"
      },
      "execution_count": null,
      "outputs": [
        {
          "output_type": "stream",
          "name": "stdout",
          "text": [
            "[nltk_data] Downloading package punkt to /root/nltk_data...\n",
            "[nltk_data]   Package punkt is already up-to-date!\n",
            "[nltk_data] Downloading package stopwords to /root/nltk_data...\n",
            "[nltk_data]   Package stopwords is already up-to-date!\n",
            "[nltk_data] Downloading package wordnet to /root/nltk_data...\n",
            "[nltk_data]   Package wordnet is already up-to-date!\n"
          ]
        },
        {
          "output_type": "execute_result",
          "data": {
            "text/plain": [
              "True"
            ]
          },
          "metadata": {},
          "execution_count": 117
        }
      ]
    },
    {
      "cell_type": "markdown",
      "source": [
        "returns dataframe of `word frequency`, `word pairs` and `trigrams`"
      ],
      "metadata": {
        "id": "0uTKL6YBT2j2"
      }
    },
    {
      "cell_type": "code",
      "source": [
        "# tokenizing\n",
        "def word_frequency(sentence):\n",
        "  sentence = \" \".join(sentence)\n",
        "  new_tokens = word_tokenize(sentence)\n",
        "  new_tokens =[t for t in new_tokens if t not in stopwords.words('english')] #remove stopwords\n",
        "  new_tokens = [t for t in new_tokens if t.isalpha()]# remove numbers\n",
        "  lemmatizer = WordNetLemmatizer()\n",
        "  new_tokens =[lemmatizer.lemmatize(t) for t in new_tokens] #lemmatize words\n",
        "  #counts the words, pairs and trigrams\n",
        "  counted = Counter(new_tokens)\n",
        "  counted_2= Counter(ngrams(new_tokens,2))\n",
        "  counted_3= Counter(ngrams(new_tokens,3))\n",
        "  word_freq = pd.DataFrame(counted.items(),columns=['word','frequency']).sort_values(by='frequency',ascending=False)\n",
        "  word_pairs =pd.DataFrame(counted_2.items(),columns=['pairs','frequency']).sort_values(by='frequency',ascending=False)\n",
        "  trigrams =pd.DataFrame(counted_3.items(),columns=['trigrams','frequency']).sort_values(by='frequency',ascending=False)\n",
        "  return word_freq,word_pairs,trigrams\n",
        "\n",
        "\n",
        "\n",
        "\n"
      ],
      "metadata": {
        "id": "NvUiwM0MK84O"
      },
      "execution_count": null,
      "outputs": []
    },
    {
      "cell_type": "code",
      "source": [
        "sentence = ['that diamond is mine', 'i have already watched that UFO']\n",
        "tup= word_frequency(sentence)"
      ],
      "metadata": {
        "id": "1qhT3OV4O8MP"
      },
      "execution_count": null,
      "outputs": []
    },
    {
      "cell_type": "code",
      "source": [
        "tup[0]"
      ],
      "metadata": {
        "colab": {
          "base_uri": "https://localhost:8080/",
          "height": 206
        },
        "id": "1dum4h4KQjhI",
        "outputId": "c8dc88d0-71c0-4e55-c16d-844458c309fa"
      },
      "execution_count": null,
      "outputs": [
        {
          "output_type": "execute_result",
          "data": {
            "text/html": [
              "\n",
              "  <div id=\"df-57509f21-d7a6-4442-981b-cc23081c5489\">\n",
              "    <div class=\"colab-df-container\">\n",
              "      <div>\n",
              "<style scoped>\n",
              "    .dataframe tbody tr th:only-of-type {\n",
              "        vertical-align: middle;\n",
              "    }\n",
              "\n",
              "    .dataframe tbody tr th {\n",
              "        vertical-align: top;\n",
              "    }\n",
              "\n",
              "    .dataframe thead th {\n",
              "        text-align: right;\n",
              "    }\n",
              "</style>\n",
              "<table border=\"1\" class=\"dataframe\">\n",
              "  <thead>\n",
              "    <tr style=\"text-align: right;\">\n",
              "      <th></th>\n",
              "      <th>word</th>\n",
              "      <th>frequency</th>\n",
              "    </tr>\n",
              "  </thead>\n",
              "  <tbody>\n",
              "    <tr>\n",
              "      <th>0</th>\n",
              "      <td>diamond</td>\n",
              "      <td>1</td>\n",
              "    </tr>\n",
              "    <tr>\n",
              "      <th>1</th>\n",
              "      <td>mine</td>\n",
              "      <td>1</td>\n",
              "    </tr>\n",
              "    <tr>\n",
              "      <th>2</th>\n",
              "      <td>already</td>\n",
              "      <td>1</td>\n",
              "    </tr>\n",
              "    <tr>\n",
              "      <th>3</th>\n",
              "      <td>watched</td>\n",
              "      <td>1</td>\n",
              "    </tr>\n",
              "    <tr>\n",
              "      <th>4</th>\n",
              "      <td>UFO</td>\n",
              "      <td>1</td>\n",
              "    </tr>\n",
              "  </tbody>\n",
              "</table>\n",
              "</div>\n",
              "      <button class=\"colab-df-convert\" onclick=\"convertToInteractive('df-57509f21-d7a6-4442-981b-cc23081c5489')\"\n",
              "              title=\"Convert this dataframe to an interactive table.\"\n",
              "              style=\"display:none;\">\n",
              "        \n",
              "  <svg xmlns=\"http://www.w3.org/2000/svg\" height=\"24px\"viewBox=\"0 0 24 24\"\n",
              "       width=\"24px\">\n",
              "    <path d=\"M0 0h24v24H0V0z\" fill=\"none\"/>\n",
              "    <path d=\"M18.56 5.44l.94 2.06.94-2.06 2.06-.94-2.06-.94-.94-2.06-.94 2.06-2.06.94zm-11 1L8.5 8.5l.94-2.06 2.06-.94-2.06-.94L8.5 2.5l-.94 2.06-2.06.94zm10 10l.94 2.06.94-2.06 2.06-.94-2.06-.94-.94-2.06-.94 2.06-2.06.94z\"/><path d=\"M17.41 7.96l-1.37-1.37c-.4-.4-.92-.59-1.43-.59-.52 0-1.04.2-1.43.59L10.3 9.45l-7.72 7.72c-.78.78-.78 2.05 0 2.83L4 21.41c.39.39.9.59 1.41.59.51 0 1.02-.2 1.41-.59l7.78-7.78 2.81-2.81c.8-.78.8-2.07 0-2.86zM5.41 20L4 18.59l7.72-7.72 1.47 1.35L5.41 20z\"/>\n",
              "  </svg>\n",
              "      </button>\n",
              "      \n",
              "  <style>\n",
              "    .colab-df-container {\n",
              "      display:flex;\n",
              "      flex-wrap:wrap;\n",
              "      gap: 12px;\n",
              "    }\n",
              "\n",
              "    .colab-df-convert {\n",
              "      background-color: #E8F0FE;\n",
              "      border: none;\n",
              "      border-radius: 50%;\n",
              "      cursor: pointer;\n",
              "      display: none;\n",
              "      fill: #1967D2;\n",
              "      height: 32px;\n",
              "      padding: 0 0 0 0;\n",
              "      width: 32px;\n",
              "    }\n",
              "\n",
              "    .colab-df-convert:hover {\n",
              "      background-color: #E2EBFA;\n",
              "      box-shadow: 0px 1px 2px rgba(60, 64, 67, 0.3), 0px 1px 3px 1px rgba(60, 64, 67, 0.15);\n",
              "      fill: #174EA6;\n",
              "    }\n",
              "\n",
              "    [theme=dark] .colab-df-convert {\n",
              "      background-color: #3B4455;\n",
              "      fill: #D2E3FC;\n",
              "    }\n",
              "\n",
              "    [theme=dark] .colab-df-convert:hover {\n",
              "      background-color: #434B5C;\n",
              "      box-shadow: 0px 1px 3px 1px rgba(0, 0, 0, 0.15);\n",
              "      filter: drop-shadow(0px 1px 2px rgba(0, 0, 0, 0.3));\n",
              "      fill: #FFFFFF;\n",
              "    }\n",
              "  </style>\n",
              "\n",
              "      <script>\n",
              "        const buttonEl =\n",
              "          document.querySelector('#df-57509f21-d7a6-4442-981b-cc23081c5489 button.colab-df-convert');\n",
              "        buttonEl.style.display =\n",
              "          google.colab.kernel.accessAllowed ? 'block' : 'none';\n",
              "\n",
              "        async function convertToInteractive(key) {\n",
              "          const element = document.querySelector('#df-57509f21-d7a6-4442-981b-cc23081c5489');\n",
              "          const dataTable =\n",
              "            await google.colab.kernel.invokeFunction('convertToInteractive',\n",
              "                                                     [key], {});\n",
              "          if (!dataTable) return;\n",
              "\n",
              "          const docLinkHtml = 'Like what you see? Visit the ' +\n",
              "            '<a target=\"_blank\" href=https://colab.research.google.com/notebooks/data_table.ipynb>data table notebook</a>'\n",
              "            + ' to learn more about interactive tables.';\n",
              "          element.innerHTML = '';\n",
              "          dataTable['output_type'] = 'display_data';\n",
              "          await google.colab.output.renderOutput(dataTable, element);\n",
              "          const docLink = document.createElement('div');\n",
              "          docLink.innerHTML = docLinkHtml;\n",
              "          element.appendChild(docLink);\n",
              "        }\n",
              "      </script>\n",
              "    </div>\n",
              "  </div>\n",
              "  "
            ],
            "text/plain": [
              "      word  frequency\n",
              "0  diamond          1\n",
              "1     mine          1\n",
              "2  already          1\n",
              "3  watched          1\n",
              "4      UFO          1"
            ]
          },
          "metadata": {},
          "execution_count": 120
        }
      ]
    },
    {
      "cell_type": "code",
      "source": [
        "data_1940=word_frequency(text_1940)[0]\n",
        "data_1950=word_frequency(text_1950)[0]\n",
        "data_1960=word_frequency(text_1960)[0]\n",
        "data_1970=word_frequency(text_1970)[0]\n",
        "data_1980=word_frequency(text_1980)[0]\n",
        "data_1990=word_frequency(text_1990)[0]\n",
        "data_2000=word_frequency(text_2000)[0]\n",
        "data_2010=word_frequency(text_2010)[0]"
      ],
      "metadata": {
        "id": "MaOp6zaHbgHO"
      },
      "execution_count": null,
      "outputs": []
    },
    {
      "cell_type": "code",
      "source": [
        "fig, axes = plt.subplots(8,1,figsize=(8,60))\n",
        "sns.barplot(ax=axes[0],x='frequency',y='word',data=data_1940.head(30)).set(title='1940s')\n",
        "sns.barplot(ax=axes[1],x='frequency',y='word',data=data_1950.head(30)).set(title='1950s')\n",
        "sns.barplot(ax=axes[2],x='frequency',y='word',data=data_1960.head(30)).set(title='1960s')\n",
        "sns.barplot(ax=axes[3],x='frequency',y='word',data=data_1970.head(30)).set(title='1970s')\n",
        "sns.barplot(ax=axes[4],x='frequency',y='word',data=data_1980.head(30)).set(title='1980s')\n",
        "sns.barplot(ax=axes[5],x='frequency',y='word',data=data_1990.head(30)).set(title='1990s')\n",
        "sns.barplot(ax=axes[6],x='frequency',y='word',data=data_2000.head(30)).set(title='2000s')\n",
        "sns.barplot(ax=axes[7],x='frequency',y='word',data=data_2010.head(30)).set(title='2010s')\n"
      ],
      "metadata": {
        "colab": {
          "base_uri": "https://localhost:8080/",
          "height": 1000
        },
        "id": "bnMRpyFmb0Pm",
        "outputId": "6598f77f-b230-4d50-a8b7-84c7d0279cd9"
      },
      "execution_count": null,
      "outputs": [
        {
          "output_type": "execute_result",
          "data": {
            "text/plain": [
              "[Text(0.5, 1.0, '2010s')]"
            ]
          },
          "metadata": {},
          "execution_count": 122
        },
        {
          "output_type": "display_data",
          "data": {
            "image/png": "[encoded data removed]",
            "text/plain": [
              "<Figure size 576x4320 with 8 Axes>"
            ]
          },
          "metadata": {
            "needs_background": "light"
          }
        }
      ]
    },
    {
      "cell_type": "markdown",
      "source": [
        "## 1. Please show the changes in terminology used in \"comment'\n",
        "- 1941 ~ 1960: `object` ranked the top frequency. Typical words related to UFO like `saw`, `craft`, `light`, `sky` are also frequent word.\n",
        "- 1960 ~ 1970 : `light`,`object`,`sky`,`ufo` term used the frequentist.\n",
        "- 1970 ~ 1990 : `light`, `object`, `craft`\n",
        "- 1990 ~ 2010 : `light`, `object`, `sky`, `bright` ,... `craft` or `ufo` were used much less than before. \n",
        "\n",
        "\n",
        "### Overall, `craft` or `ufo` used much by 1990, while `light`, `object`, `sky` remained the highest rank in frequency. \n",
        "\n",
        "- term `white`, `red`, `orange` were used from 1970, and reached the very frequent term which is an interesting phenomenon. Maybe the recently detected UFO has `white, orange, or red light`. \n",
        "- red light might look like `fireball` in 2010s.\n",
        "- `green` light may also has been detected recently in 2010s.\n",
        "- term `triangle` is continuously used even in recent data. It might mean `triangle shape` of UFO or `triangle path` of ufo. additional analysis is needed."
      ],
      "metadata": {
        "id": "F1zB4tCCggq_"
      }
    },
    {
      "cell_type": "markdown",
      "source": [
        "## TF-IDF\n",
        "\n"
      ],
      "metadata": {
        "id": "MVNwCRIqlT3t"
      }
    },
    {
      "cell_type": "code",
      "source": [
        "# from sklearn.feature_extraction.text import TfidfVectorizer\n",
        "# tfidfv = TfidfVectorizer()\n",
        "# tfidfv = tfidfv.fit(text_1940)\n",
        "# vocab = list(tfidfv.vocabulary_.keys())\n",
        "# vocab.sort()\n",
        "\n",
        "# tfidf_ = pd.DataFrame(tfidfv.transform(text_1940).toarray(), columns = vocab)\n",
        "# tfidf_"
      ],
      "metadata": {
        "id": "B1HgA3tvohgT"
      },
      "execution_count": null,
      "outputs": []
    },
    {
      "cell_type": "markdown",
      "source": [
        "## 2. By sorting the data in timeline, and splitting 80/20, using the 80% can you predict what terminology will be used in the 20%?\n",
        "\n",
        "Let's make a generator which is trained by 80% of the data, and generate new comments.\n",
        "### 1) preprocess for prediction!"
      ],
      "metadata": {
        "id": "Q7uRFIaxvYOL"
      }
    },
    {
      "cell_type": "code",
      "source": [
        "text = text_1940 + text_1950 + text_1960 + text_1970 + text_1980 + text_1990 + text_2000 + text_2010\n",
        "len(text)\n",
        "text[:5]"
      ],
      "metadata": {
        "colab": {
          "base_uri": "https://localhost:8080/"
        },
        "id": "zS84bCKzsmsd",
        "outputId": "9c78c1aa-2973-463b-fe61-ca2d19f35f48"
      },
      "execution_count": null,
      "outputs": [
        {
          "output_type": "execute_result",
          "data": {
            "text/plain": [
              "['as a boy some 60 plus years ago i saw a round silver disc in the sky when i looked up from playing with ant hills.',\n",
              " 'bright object approchjng venus 1940s',\n",
              " 'two children walking along highway saw unfamiliar object in sky.',\n",
              " 'observing  mans warfare',\n",
              " 'light next to my b-17']"
            ]
          },
          "metadata": {},
          "execution_count": 124
        }
      ]
    },
    {
      "cell_type": "code",
      "source": [
        "import re\n",
        "import tensorflow as tf\n",
        "\n",
        "from tensorflow.keras.preprocessing.text import Tokenizer\n",
        "from tensorflow.keras.preprocessing.sequence import pad_sequences\n",
        "from sklearn.model_selection import train_test_split\n",
        "\n",
        "def preprocess_line(line):\n",
        "    line = line.lower().strip()\n",
        "    line = re.sub(r\"([?!,.¿])\", r\" \\1 \", line)\n",
        "    line = re.sub(r'[\" \"]+', r\" \",line)\n",
        "    line = re.sub(r\"[^a-zA-Z?!,.¿]+\", r\" \", line)\n",
        "    line = line.strip()\n",
        "    line = '<start> ' + line + ' <end>'\n",
        "    return line"
      ],
      "metadata": {
        "id": "ZOfDgqWWvV4p"
      },
      "execution_count": null,
      "outputs": []
    },
    {
      "cell_type": "code",
      "source": [
        "text_p = []\n",
        "for i in text :\n",
        "    if len(i) == 0:\n",
        "        continue\n",
        "    if i[-1] == \":\":\n",
        "        continue\n",
        "    preprocessed_line = preprocess_line(i)\n",
        "    text_p.append(preprocessed_line)\n",
        "text_p[:10]"
      ],
      "metadata": {
        "colab": {
          "base_uri": "https://localhost:8080/"
        },
        "id": "N0-zf2Rsvj6i",
        "outputId": "c5567ab3-cda1-4831-c95d-f39f21caea24"
      },
      "execution_count": null,
      "outputs": [
        {
          "output_type": "execute_result",
          "data": {
            "text/plain": [
              "['<start> as a boy some plus years ago i saw a round silver disc in the sky when i looked up from playing with ant hills . <end>',\n",
              " '<start> bright object approchjng venus s <end>',\n",
              " '<start> two children walking along highway saw unfamiliar object in sky . <end>',\n",
              " '<start> observing mans warfare <end>',\n",
              " '<start> light next to my b <end>',\n",
              " '<start> vertical lines of crescent moons some rows in a night sky over naval base . <end>',\n",
              " '<start> white light at midnight traveling into outer space . <end>',\n",
              " '<start> my yr . old grandmother deleted described to me an encounter that occured in nebraska in about . she was driv <end>',\n",
              " '<start> louisiana midnight light like airplane minutes then corkscrewing up into the atmosphere <end>',\n",
              " '<start> sighting of four linearly arranged red lights in bearing sea <end>']"
            ]
          },
          "metadata": {},
          "execution_count": 126
        }
      ]
    },
    {
      "cell_type": "markdown",
      "source": [
        "### 2) generate 'Token box' and fit on it!"
      ],
      "metadata": {
        "id": "FOxXMzSF2rIq"
      }
    },
    {
      "cell_type": "code",
      "source": [
        "tokenizer = Tokenizer(num_words = 12000,\n",
        "                     oov_token = \"<OOV>\"\n",
        "                     )\n",
        "tokenizer.fit_on_texts(text_p)\n",
        "print(tokenizer)"
      ],
      "metadata": {
        "colab": {
          "base_uri": "https://localhost:8080/"
        },
        "id": "cnuNZswGxG0L",
        "outputId": "8b461c44-44c5-4291-aced-8a822538e7a4"
      },
      "execution_count": null,
      "outputs": [
        {
          "output_type": "stream",
          "name": "stdout",
          "text": [
            "<keras_preprocessing.text.Tokenizer object at 0x7f8472a057d0>\n"
          ]
        }
      ]
    },
    {
      "cell_type": "markdown",
      "source": [
        "### 3) Vectorization : Change preprocessed lines to 'tensor'\n",
        "1)texts_to_sequences 2)pad_sequences"
      ],
      "metadata": {
        "id": "KuIewG9G2cGa"
      }
    },
    {
      "cell_type": "code",
      "source": [
        "tensor = tokenizer.texts_to_sequences(text_p)\n",
        "print(tensor[:5])\n",
        "\n",
        "\n",
        "\n",
        "## delete sentence which has token over 15.\n",
        "\n",
        "# for line in tensor:\n",
        "#     if len(line) > 15:\n",
        "#         line.pop()\n",
        "\n",
        "# print(len(tensor))\n",
        "\n",
        "\n",
        "\n",
        "#padding\n",
        "tensor = pad_sequences(tensor,maxlen=30, padding = 'post')\n",
        "\n",
        "print(tensor.shape)"
      ],
      "metadata": {
        "colab": {
          "base_uri": "https://localhost:8080/"
        },
        "id": "S-krecP1vjBs",
        "outputId": "89fa3a78-304c-48b0-c486-304d0f46b271"
      },
      "execution_count": null,
      "outputs": [
        {
          "output_type": "stream",
          "name": "stdout",
          "text": [
            "[[3, 64, 6, 1670, 222, 1528, 355, 710, 13, 30, 6, 96, 120, 212, 5, 4, 11, 92, 13, 84, 48, 27, 915, 20, 6574, 691, 2], [3, 16, 14, 1, 320, 144, 2], [3, 38, 1172, 349, 317, 333, 30, 5767, 14, 5, 11, 2], [3, 962, 6575, 7656, 2], [3, 9, 522, 12, 29, 711, 2]]\n",
            "(80277, 30)\n"
          ]
        }
      ]
    },
    {
      "cell_type": "code",
      "source": [
        "for idx in tokenizer.index_word:\n",
        "    print(idx, \":\", tokenizer.index_word[idx])\n",
        "\n",
        "    if idx >= 30: break"
      ],
      "metadata": {
        "colab": {
          "base_uri": "https://localhost:8080/"
        },
        "id": "ILa1HGCk2YTc",
        "outputId": "aded902c-8770-41d7-9033-b7e09f7b59d1"
      },
      "execution_count": null,
      "outputs": [
        {
          "output_type": "stream",
          "name": "stdout",
          "text": [
            "1 : <OOV>\n",
            "2 : end\n",
            "3 : start\n",
            "4 : the\n",
            "5 : in\n",
            "6 : a\n",
            "7 : and\n",
            "8 : of\n",
            "9 : light\n",
            "10 : lights\n",
            "11 : sky\n",
            "12 : to\n",
            "13 : i\n",
            "14 : object\n",
            "15 : over\n",
            "16 : bright\n",
            "17 : was\n",
            "18 : at\n",
            "19 : it\n",
            "20 : with\n",
            "21 : on\n",
            "22 : moving\n",
            "23 : orange\n",
            "24 : white\n",
            "25 : red\n",
            "26 : then\n",
            "27 : from\n",
            "28 : shaped\n",
            "29 : my\n",
            "30 : saw\n"
          ]
        }
      ]
    },
    {
      "cell_type": "code",
      "source": [
        "# generate source sentence slicing the last token\n",
        "\n",
        "src_input = tensor[:, :-1]  \n",
        "# generate target sentence from <start>\n",
        "tgt_input = tensor[:, 1:]    \n",
        "\n",
        "print(src_input[0])\n",
        "print(tgt_input[0])"
      ],
      "metadata": {
        "colab": {
          "base_uri": "https://localhost:8080/"
        },
        "id": "YAh4iWHL2Yb6",
        "outputId": "de61b828-316b-456f-954f-d99d7b74eb63"
      },
      "execution_count": null,
      "outputs": [
        {
          "output_type": "stream",
          "name": "stdout",
          "text": [
            "[   3   64    6 1670  222 1528  355  710   13   30    6   96  120  212\n",
            "    5    4   11   92   13   84   48   27  915   20 6574  691    2    0\n",
            "    0]\n",
            "[  64    6 1670  222 1528  355  710   13   30    6   96  120  212    5\n",
            "    4   11   92   13   84   48   27  915   20 6574  691    2    0    0\n",
            "    0]\n"
          ]
        }
      ]
    },
    {
      "cell_type": "markdown",
      "source": [
        "## 4) Train/Test split 8:2!\n",
        "- data is already sorted by timeline."
      ],
      "metadata": {
        "id": "LifsV6A-6sBr"
      }
    },
    {
      "cell_type": "code",
      "source": [
        "enc_train, enc_val, dec_train, dec_val = train_test_split(src_input,tgt_input,\n",
        "    test_size = 0.2,\n",
        "    random_state = 20)"
      ],
      "metadata": {
        "id": "94v7eSXI2Yvi"
      },
      "execution_count": null,
      "outputs": []
    },
    {
      "cell_type": "code",
      "source": [
        "print(\"x_Train :\", enc_train.shape)\n",
        "print(\"y_Train :\", dec_train.shape)\n",
        "print(\"x_val :\", enc_val.shape)\n",
        "print(\"y_val :\", dec_val.shape)"
      ],
      "metadata": {
        "colab": {
          "base_uri": "https://localhost:8080/"
        },
        "id": "e7NMBm0A2Y7T",
        "outputId": "a55fe91a-cf9a-460a-deac-71296cb7fa7e"
      },
      "execution_count": null,
      "outputs": [
        {
          "output_type": "stream",
          "name": "stdout",
          "text": [
            "x_Train : (64221, 29)\n",
            "y_Train : (64221, 29)\n",
            "x_val : (16056, 29)\n",
            "y_val : (16056, 29)\n"
          ]
        }
      ]
    },
    {
      "cell_type": "code",
      "source": [
        "BUFFER_SIZE = enc_train.shape[0] # randomize data\n",
        "BATCH_SIZE = 1024 #one batch contains 1024 tokens\n",
        "steps_per_epoch = BUFFER_SIZE // BATCH_SIZE\n",
        "\n",
        "VOCAB_SIZE = tokenizer.num_words +1  # define vocabulary size\n",
        "\n",
        "print(steps_per_epoch,VOCAB_SIZE)\n",
        "\n",
        "dataset = tf.data.Dataset.from_tensor_slices((enc_train, dec_train)) #convert to tensorflow Dataset\n",
        "dataset = dataset.shuffle(BUFFER_SIZE) # randomize\n",
        "dataset = dataset.batch(BATCH_SIZE, drop_remainder=True)  # divde into batch\n",
        "print(dataset) \n",
        "BUFFER_SIZE_2 = enc_val.shape[0]\n",
        "\n",
        "#print(BUFFER_SIZE_2)\n",
        "valset = tf.data.Dataset.from_tensor_slices((enc_val, dec_val))\n",
        "valset = dataset.shuffle(BUFFER_SIZE_2)\n",
        "valset = dataset.batch(BATCH_SIZE, drop_remainder=True)\n",
        "print(valset)"
      ],
      "metadata": {
        "colab": {
          "base_uri": "https://localhost:8080/"
        },
        "id": "HopHYkN866jS",
        "outputId": "e19ef9b3-c9cc-4e9d-ac41-de89ca63892f"
      },
      "execution_count": null,
      "outputs": [
        {
          "output_type": "stream",
          "name": "stdout",
          "text": [
            "62 12001\n",
            "<BatchDataset shapes: ((1024, 29), (1024, 29)), types: (tf.int32, tf.int32)>\n",
            "<BatchDataset shapes: ((1024, 1024, 29), (1024, 1024, 29)), types: (tf.int32, tf.int32)>\n"
          ]
        }
      ]
    },
    {
      "cell_type": "code",
      "source": [
        "# Text Generator Model Architecture\n",
        "\n",
        "class TextGenerator(tf.keras.Model):\n",
        "    def __init__(self, vocab_size, embedding_size, hidden_size):\n",
        "        super().__init__()\n",
        "        \n",
        "        self.embedding = tf.keras.layers.Embedding(vocab_size, embedding_size)\n",
        "        self.dropout_1 = tf.keras.layers.Dropout(0.2)\n",
        "        self.rnn_1 = tf.keras.layers.LSTM(hidden_size, return_sequences=True)\n",
        "        self.rnn_2 = tf.keras.layers.LSTM(hidden_size, return_sequences=True)\n",
        "        self.dropout_2 = tf.keras.layers.Dropout(0.2)\n",
        "        self.linear = tf.keras.layers.Dense(vocab_size)\n",
        "        \n",
        "    def call(self, x):\n",
        "        out = self.embedding(x)\n",
        "        out = self.dropout_1(out)\n",
        "        out = self.rnn_1(out)\n",
        "        out = self.rnn_2(out)\n",
        "        out = self.dropout_2(out)\n",
        "        out = self.linear(out)\n",
        "        \n",
        "        return out\n",
        "    \n",
        "embedding_size = 256\n",
        "hidden_size = 1024\n",
        "model = TextGenerator(tokenizer.num_words + 1, embedding_size , hidden_size)"
      ],
      "metadata": {
        "id": "YKRFlMZX68yR"
      },
      "execution_count": null,
      "outputs": []
    },
    {
      "cell_type": "code",
      "source": [
        "\n",
        "for src_sample, tgt_sample in dataset.take(1): break\n",
        "\n",
        "# Just put in one batch.\n",
        "\n",
        "model(src_sample)\n",
        "model.summary()"
      ],
      "metadata": {
        "colab": {
          "base_uri": "https://localhost:8080/"
        },
        "id": "psQGKG0U7B0i",
        "outputId": "361d5afc-c528-40cf-a791-ca88007a2453"
      },
      "execution_count": null,
      "outputs": [
        {
          "output_type": "stream",
          "name": "stdout",
          "text": [
            "Model: \"text_generator_4\"\n",
            "_________________________________________________________________\n",
            " Layer (type)                Output Shape              Param #   \n",
            "=================================================================\n",
            " embedding_4 (Embedding)     multiple                  3072256   \n",
            "                                                                 \n",
            " dropout_8 (Dropout)         multiple                  0         \n",
            "                                                                 \n",
            " lstm_8 (LSTM)               multiple                  5246976   \n",
            "                                                                 \n",
            " lstm_9 (LSTM)               multiple                  8392704   \n",
            "                                                                 \n",
            " dropout_9 (Dropout)         multiple                  0         \n",
            "                                                                 \n",
            " dense_4 (Dense)             multiple                  12301025  \n",
            "                                                                 \n",
            "=================================================================\n",
            "Total params: 29,012,961\n",
            "Trainable params: 29,012,961\n",
            "Non-trainable params: 0\n",
            "_________________________________________________________________\n"
          ]
        }
      ]
    },
    {
      "cell_type": "markdown",
      "source": [
        "### 5) Training\n",
        "\n",
        "optimizer : `Adam`\n",
        "\n",
        "loss : `sparse-categorical-crossentropy`"
      ],
      "metadata": {
        "id": "9Ctfw_65M3lA"
      }
    },
    {
      "cell_type": "code",
      "source": [
        "optimizer = tf.keras.optimizers.Adam()\n",
        "#Loss\n",
        "loss = tf.keras.losses.SparseCategoricalCrossentropy(\n",
        "     from_logits=True, reduction='none')"
      ],
      "metadata": {
        "id": "sa7yNw3D7Dba"
      },
      "execution_count": null,
      "outputs": []
    },
    {
      "cell_type": "code",
      "source": [
        "from tensorflow.keras.callbacks import ModelCheckpoint\n",
        "\n",
        "checkpoint_path = 'my_checkpoint.ckpt'\n",
        "checkpoint = ModelCheckpoint(checkpoint_path, \n",
        "                             save_weights_only=True, \n",
        "                             save_best_only=True, \n",
        "                             monitor='val_loss',\n",
        "                             verbose=1)"
      ],
      "metadata": {
        "id": "PhRDDHSH7Doi"
      },
      "execution_count": null,
      "outputs": []
    },
    {
      "cell_type": "code",
      "source": [
        "model.compile(loss = loss, optimizer = optimizer)\n",
        "history = model.fit(dataset,validation_data=(enc_val, dec_val), batch_size = BATCH_SIZE, callbacks=[checkpoint], epochs = 10)"
      ],
      "metadata": {
        "colab": {
          "base_uri": "https://localhost:8080/"
        },
        "id": "42TE8I747ELD",
        "outputId": "35cb078c-5e21-4e67-bd84-7b0110e62c24"
      },
      "execution_count": null,
      "outputs": [
        {
          "output_type": "stream",
          "name": "stdout",
          "text": [
            "Epoch 1/10\n",
            "62/62 [==============================] - ETA: 0s - loss: 4.1805\n",
            "Epoch 00001: val_loss improved from inf to 3.54209, saving model to my_checkpoint.ckpt\n",
            "62/62 [==============================] - 48s 733ms/step - loss: 4.1805 - val_loss: 3.5421\n",
            "Epoch 2/10\n",
            "62/62 [==============================] - ETA: 0s - loss: 3.2900\n",
            "Epoch 00002: val_loss improved from 3.54209 to 3.07536, saving model to my_checkpoint.ckpt\n",
            "62/62 [==============================] - 45s 719ms/step - loss: 3.2900 - val_loss: 3.0754\n",
            "Epoch 3/10\n",
            "62/62 [==============================] - ETA: 0s - loss: 3.0284\n",
            "Epoch 00003: val_loss improved from 3.07536 to 2.97672, saving model to my_checkpoint.ckpt\n",
            "62/62 [==============================] - 46s 745ms/step - loss: 3.0284 - val_loss: 2.9767\n",
            "Epoch 4/10\n",
            "62/62 [==============================] - ETA: 0s - loss: 2.9270\n",
            "Epoch 00004: val_loss improved from 2.97672 to 2.88906, saving model to my_checkpoint.ckpt\n",
            "62/62 [==============================] - 46s 745ms/step - loss: 2.9270 - val_loss: 2.8891\n",
            "Epoch 5/10\n",
            "62/62 [==============================] - ETA: 0s - loss: 2.8526\n",
            "Epoch 00005: val_loss improved from 2.88906 to 2.82264, saving model to my_checkpoint.ckpt\n",
            "62/62 [==============================] - 46s 742ms/step - loss: 2.8526 - val_loss: 2.8226\n",
            "Epoch 6/10\n",
            "62/62 [==============================] - ETA: 0s - loss: 2.7591\n",
            "Epoch 00006: val_loss improved from 2.82264 to 2.71211, saving model to my_checkpoint.ckpt\n",
            "62/62 [==============================] - 45s 726ms/step - loss: 2.7591 - val_loss: 2.7121\n",
            "Epoch 7/10\n",
            "62/62 [==============================] - ETA: 0s - loss: 2.6462\n",
            "Epoch 00007: val_loss improved from 2.71211 to 2.61542, saving model to my_checkpoint.ckpt\n",
            "62/62 [==============================] - 46s 746ms/step - loss: 2.6462 - val_loss: 2.6154\n",
            "Epoch 8/10\n",
            "62/62 [==============================] - ETA: 0s - loss: 2.5563\n",
            "Epoch 00008: val_loss improved from 2.61542 to 2.54187, saving model to my_checkpoint.ckpt\n",
            "62/62 [==============================] - 46s 748ms/step - loss: 2.5563 - val_loss: 2.5419\n",
            "Epoch 9/10\n",
            "62/62 [==============================] - ETA: 0s - loss: 2.4897\n",
            "Epoch 00009: val_loss improved from 2.54187 to 2.49064, saving model to my_checkpoint.ckpt\n",
            "62/62 [==============================] - 46s 750ms/step - loss: 2.4897 - val_loss: 2.4906\n",
            "Epoch 10/10\n",
            "62/62 [==============================] - ETA: 0s - loss: 2.4371\n",
            "Epoch 00010: val_loss improved from 2.49064 to 2.44670, saving model to my_checkpoint.ckpt\n",
            "62/62 [==============================] - 47s 751ms/step - loss: 2.4371 - val_loss: 2.4467\n"
          ]
        }
      ]
    },
    {
      "cell_type": "code",
      "source": [
        "def generate_text(model, tokenizer, init_sentence=\"<start>\", max_len=20):\n",
        "    # convert init_sentence to tensor for test\n",
        "    test_input = tokenizer.texts_to_sequences([init_sentence])\n",
        "    test_tensor = tf.convert_to_tensor(test_input, dtype=tf.int64)\n",
        "    enc_val\n",
        "    end_token = tokenizer.word_index[\"end\"]\n",
        "\n",
        "    # predict one word and becomes sentence\n",
        "    #    1. input tensor \n",
        "    #    2. extract the most probable word index from predicted value\n",
        "    #    3. link word index (from 2) after the sentence\n",
        "    #    4. if model predict <end> token or max_len, end the sentence generation.\n",
        "    while True:\n",
        "        # 1\n",
        "        predict = model(test_tensor) \n",
        "        # 2\n",
        "        predict_word = tf.argmax(tf.nn.softmax(predict, axis=-1), axis=-1)[:, -1] \n",
        "        # 3 \n",
        "        test_tensor = tf.concat([test_tensor, tf.expand_dims(predict_word, axis=0)], axis=-1)\n",
        "        # 4\n",
        "        if predict_word.numpy()[0] == end_token: break\n",
        "        if test_tensor.shape[1] >= max_len: break\n",
        "\n",
        "    generated = \"\"\n",
        "    # convert word index to word using tokenizer \n",
        "    for word_index in test_tensor[0].numpy():\n",
        "        generated += tokenizer.index_word[word_index] + \" \"\n",
        "\n",
        "    return generated"
      ],
      "metadata": {
        "id": "7NCpU3yy7Exh"
      },
      "execution_count": null,
      "outputs": []
    },
    {
      "cell_type": "code",
      "source": [
        "model.load_weights(checkpoint_path)"
      ],
      "metadata": {
        "colab": {
          "base_uri": "https://localhost:8080/"
        },
        "id": "go_7D7Jc7ZFT",
        "outputId": "09bc0635-7914-4be2-bd7c-810e776031a0"
      },
      "execution_count": null,
      "outputs": [
        {
          "output_type": "execute_result",
          "data": {
            "text/plain": [
              "<tensorflow.python.training.tracking.util.CheckpointLoadStatus at 0x7f813b4fd510>"
            ]
          },
          "metadata": {},
          "execution_count": 140
        }
      ]
    },
    {
      "cell_type": "code",
      "source": [
        "generate_text(model, tokenizer, init_sentence=\"<start> i saw \", max_len=20)"
      ],
      "metadata": {
        "colab": {
          "base_uri": "https://localhost:8080/",
          "height": 35
        },
        "id": "OAbsyfkC_r-i",
        "outputId": "9995ec80-cf7e-4abf-8503-7dee2fde98a1"
      },
      "execution_count": null,
      "outputs": [
        {
          "output_type": "execute_result",
          "data": {
            "application/vnd.google.colaboratory.intrinsic+json": {
              "type": "string"
            },
            "text/plain": [
              "'start i saw a bright light in the sky end '"
            ]
          },
          "metadata": {},
          "execution_count": 141
        }
      ]
    },
    {
      "cell_type": "markdown",
      "source": [
        "## If given more time,\n",
        "- the model is not good because it ends always `in the sky`. It needs to be changed.\n",
        "- the faced task is predicting terminology in 20%, I think it is not really precise result. I will find other model which is more proper.\n",
        "- try other model or use `huggingface` framework.\n",
        "- try to evaluate terminology, use TF-IDF analysis among decades."
      ],
      "metadata": {
        "id": "ArezcQM5zfjZ"
      }
    },
    {
      "cell_type": "markdown",
      "source": [
        "Reference : https://www.absentdata.com/python-graphs/python-word-frequency/"
      ],
      "metadata": {
        "id": "gVDJCT70Sb1H"
      }
    },
    {
      "cell_type": "markdown",
      "source": [
        "## Scrubbed data: not used"
      ],
      "metadata": {
        "id": "ab0RrKTwOzod"
      }
    },
    {
      "cell_type": "code",
      "source": [
        "df_com=pd.read_csv(path_com)\n",
        "df_com.head(10)"
      ],
      "metadata": {
        "colab": {
          "base_uri": "https://localhost:8080/",
          "height": 529
        },
        "id": "eajXAW5k8M8-",
        "outputId": "68871300-6e9a-4410-b226-1cb146d93672"
      },
      "execution_count": null,
      "outputs": [
        {
          "output_type": "error",
          "ename": "ParserError",
          "evalue": "ignored",
          "traceback": [
            "\u001b[0;31m---------------------------------------------------------------------------\u001b[0m",
            "\u001b[0;31mParserError\u001b[0m                               Traceback (most recent call last)",
            "\u001b[0;32m<ipython-input-143-3f7ca56f6d7b>\u001b[0m in \u001b[0;36m<module>\u001b[0;34m()\u001b[0m\n\u001b[0;32m----> 1\u001b[0;31m \u001b[0mdf_com\u001b[0m\u001b[0;34m=\u001b[0m\u001b[0mpd\u001b[0m\u001b[0;34m.\u001b[0m\u001b[0mread_csv\u001b[0m\u001b[0;34m(\u001b[0m\u001b[0mpath_com\u001b[0m\u001b[0;34m)\u001b[0m\u001b[0;34m\u001b[0m\u001b[0;34m\u001b[0m\u001b[0m\n\u001b[0m\u001b[1;32m      2\u001b[0m \u001b[0mdf_com\u001b[0m\u001b[0;34m.\u001b[0m\u001b[0mhead\u001b[0m\u001b[0;34m(\u001b[0m\u001b[0;36m10\u001b[0m\u001b[0;34m)\u001b[0m\u001b[0;34m\u001b[0m\u001b[0;34m\u001b[0m\u001b[0m\n",
            "\u001b[0;32m/usr/local/lib/python3.7/dist-packages/pandas/io/parsers.py\u001b[0m in \u001b[0;36mread_csv\u001b[0;34m(filepath_or_buffer, sep, delimiter, header, names, index_col, usecols, squeeze, prefix, mangle_dupe_cols, dtype, engine, converters, true_values, false_values, skipinitialspace, skiprows, skipfooter, nrows, na_values, keep_default_na, na_filter, verbose, skip_blank_lines, parse_dates, infer_datetime_format, keep_date_col, date_parser, dayfirst, cache_dates, iterator, chunksize, compression, thousands, decimal, lineterminator, quotechar, quoting, doublequote, escapechar, comment, encoding, dialect, error_bad_lines, warn_bad_lines, delim_whitespace, low_memory, memory_map, float_precision)\u001b[0m\n\u001b[1;32m    686\u001b[0m     )\n\u001b[1;32m    687\u001b[0m \u001b[0;34m\u001b[0m\u001b[0m\n\u001b[0;32m--> 688\u001b[0;31m     \u001b[0;32mreturn\u001b[0m \u001b[0m_read\u001b[0m\u001b[0;34m(\u001b[0m\u001b[0mfilepath_or_buffer\u001b[0m\u001b[0;34m,\u001b[0m \u001b[0mkwds\u001b[0m\u001b[0;34m)\u001b[0m\u001b[0;34m\u001b[0m\u001b[0;34m\u001b[0m\u001b[0m\n\u001b[0m\u001b[1;32m    689\u001b[0m \u001b[0;34m\u001b[0m\u001b[0m\n\u001b[1;32m    690\u001b[0m \u001b[0;34m\u001b[0m\u001b[0m\n",
            "\u001b[0;32m/usr/local/lib/python3.7/dist-packages/pandas/io/parsers.py\u001b[0m in \u001b[0;36m_read\u001b[0;34m(filepath_or_buffer, kwds)\u001b[0m\n\u001b[1;32m    458\u001b[0m \u001b[0;34m\u001b[0m\u001b[0m\n\u001b[1;32m    459\u001b[0m     \u001b[0;32mtry\u001b[0m\u001b[0;34m:\u001b[0m\u001b[0;34m\u001b[0m\u001b[0;34m\u001b[0m\u001b[0m\n\u001b[0;32m--> 460\u001b[0;31m         \u001b[0mdata\u001b[0m \u001b[0;34m=\u001b[0m \u001b[0mparser\u001b[0m\u001b[0;34m.\u001b[0m\u001b[0mread\u001b[0m\u001b[0;34m(\u001b[0m\u001b[0mnrows\u001b[0m\u001b[0;34m)\u001b[0m\u001b[0;34m\u001b[0m\u001b[0;34m\u001b[0m\u001b[0m\n\u001b[0m\u001b[1;32m    461\u001b[0m     \u001b[0;32mfinally\u001b[0m\u001b[0;34m:\u001b[0m\u001b[0;34m\u001b[0m\u001b[0;34m\u001b[0m\u001b[0m\n\u001b[1;32m    462\u001b[0m         \u001b[0mparser\u001b[0m\u001b[0;34m.\u001b[0m\u001b[0mclose\u001b[0m\u001b[0;34m(\u001b[0m\u001b[0;34m)\u001b[0m\u001b[0;34m\u001b[0m\u001b[0;34m\u001b[0m\u001b[0m\n",
            "\u001b[0;32m/usr/local/lib/python3.7/dist-packages/pandas/io/parsers.py\u001b[0m in \u001b[0;36mread\u001b[0;34m(self, nrows)\u001b[0m\n\u001b[1;32m   1196\u001b[0m     \u001b[0;32mdef\u001b[0m \u001b[0mread\u001b[0m\u001b[0;34m(\u001b[0m\u001b[0mself\u001b[0m\u001b[0;34m,\u001b[0m \u001b[0mnrows\u001b[0m\u001b[0;34m=\u001b[0m\u001b[0;32mNone\u001b[0m\u001b[0;34m)\u001b[0m\u001b[0;34m:\u001b[0m\u001b[0;34m\u001b[0m\u001b[0;34m\u001b[0m\u001b[0m\n\u001b[1;32m   1197\u001b[0m         \u001b[0mnrows\u001b[0m \u001b[0;34m=\u001b[0m \u001b[0m_validate_integer\u001b[0m\u001b[0;34m(\u001b[0m\u001b[0;34m\"nrows\"\u001b[0m\u001b[0;34m,\u001b[0m \u001b[0mnrows\u001b[0m\u001b[0;34m)\u001b[0m\u001b[0;34m\u001b[0m\u001b[0;34m\u001b[0m\u001b[0m\n\u001b[0;32m-> 1198\u001b[0;31m         \u001b[0mret\u001b[0m \u001b[0;34m=\u001b[0m \u001b[0mself\u001b[0m\u001b[0;34m.\u001b[0m\u001b[0m_engine\u001b[0m\u001b[0;34m.\u001b[0m\u001b[0mread\u001b[0m\u001b[0;34m(\u001b[0m\u001b[0mnrows\u001b[0m\u001b[0;34m)\u001b[0m\u001b[0;34m\u001b[0m\u001b[0;34m\u001b[0m\u001b[0m\n\u001b[0m\u001b[1;32m   1199\u001b[0m \u001b[0;34m\u001b[0m\u001b[0m\n\u001b[1;32m   1200\u001b[0m         \u001b[0;31m# May alter columns / col_dict\u001b[0m\u001b[0;34m\u001b[0m\u001b[0;34m\u001b[0m\u001b[0;34m\u001b[0m\u001b[0m\n",
            "\u001b[0;32m/usr/local/lib/python3.7/dist-packages/pandas/io/parsers.py\u001b[0m in \u001b[0;36mread\u001b[0;34m(self, nrows)\u001b[0m\n\u001b[1;32m   2155\u001b[0m     \u001b[0;32mdef\u001b[0m \u001b[0mread\u001b[0m\u001b[0;34m(\u001b[0m\u001b[0mself\u001b[0m\u001b[0;34m,\u001b[0m \u001b[0mnrows\u001b[0m\u001b[0;34m=\u001b[0m\u001b[0;32mNone\u001b[0m\u001b[0;34m)\u001b[0m\u001b[0;34m:\u001b[0m\u001b[0;34m\u001b[0m\u001b[0;34m\u001b[0m\u001b[0m\n\u001b[1;32m   2156\u001b[0m         \u001b[0;32mtry\u001b[0m\u001b[0;34m:\u001b[0m\u001b[0;34m\u001b[0m\u001b[0;34m\u001b[0m\u001b[0m\n\u001b[0;32m-> 2157\u001b[0;31m             \u001b[0mdata\u001b[0m \u001b[0;34m=\u001b[0m \u001b[0mself\u001b[0m\u001b[0;34m.\u001b[0m\u001b[0m_reader\u001b[0m\u001b[0;34m.\u001b[0m\u001b[0mread\u001b[0m\u001b[0;34m(\u001b[0m\u001b[0mnrows\u001b[0m\u001b[0;34m)\u001b[0m\u001b[0;34m\u001b[0m\u001b[0;34m\u001b[0m\u001b[0m\n\u001b[0m\u001b[1;32m   2158\u001b[0m         \u001b[0;32mexcept\u001b[0m \u001b[0mStopIteration\u001b[0m\u001b[0;34m:\u001b[0m\u001b[0;34m\u001b[0m\u001b[0;34m\u001b[0m\u001b[0m\n\u001b[1;32m   2159\u001b[0m             \u001b[0;32mif\u001b[0m \u001b[0mself\u001b[0m\u001b[0;34m.\u001b[0m\u001b[0m_first_chunk\u001b[0m\u001b[0;34m:\u001b[0m\u001b[0;34m\u001b[0m\u001b[0;34m\u001b[0m\u001b[0m\n",
            "\u001b[0;32mpandas/_libs/parsers.pyx\u001b[0m in \u001b[0;36mpandas._libs.parsers.TextReader.read\u001b[0;34m()\u001b[0m\n",
            "\u001b[0;32mpandas/_libs/parsers.pyx\u001b[0m in \u001b[0;36mpandas._libs.parsers.TextReader._read_low_memory\u001b[0;34m()\u001b[0m\n",
            "\u001b[0;32mpandas/_libs/parsers.pyx\u001b[0m in \u001b[0;36mpandas._libs.parsers.TextReader._read_rows\u001b[0;34m()\u001b[0m\n",
            "\u001b[0;32mpandas/_libs/parsers.pyx\u001b[0m in \u001b[0;36mpandas._libs.parsers.TextReader._tokenize_rows\u001b[0;34m()\u001b[0m\n",
            "\u001b[0;32mpandas/_libs/parsers.pyx\u001b[0m in \u001b[0;36mpandas._libs.parsers.raise_parser_error\u001b[0;34m()\u001b[0m\n",
            "\u001b[0;31mParserError\u001b[0m: Error tokenizing data. C error: Expected 11 fields in line 878, saw 12\n"
          ]
        }
      ]
    },
    {
      "cell_type": "markdown",
      "source": [
        "> `completed` file has inconsistent columns,  so different measure is needed to convert to DataFrame."
      ],
      "metadata": {
        "id": "Xh3VyR_V1gth"
      }
    },
    {
      "cell_type": "code",
      "source": [
        "import csv\n",
        "with open (path_com) as f:\n",
        "  lines = csv.reader(f)\n",
        "  comlist=[]\n",
        "  for line in lines:\n",
        "    comlist.append(line)\n",
        "df2 = pd.DataFrame(comlist)\n",
        "df2"
      ],
      "metadata": {
        "colab": {
          "base_uri": "https://localhost:8080/",
          "height": 424
        },
        "id": "jDBXmcec9pN9",
        "outputId": "53fabcf0-8224-4a4b-a7fe-09416a3ef184"
      },
      "execution_count": null,
      "outputs": [
        {
          "output_type": "execute_result",
          "data": {
            "text/html": [
              "\n",
              "  <div id=\"df-e7560cf7-c21e-47e5-b4c1-c3b5e5e19bfa\">\n",
              "    <div class=\"colab-df-container\">\n",
              "      <div>\n",
              "<style scoped>\n",
              "    .dataframe tbody tr th:only-of-type {\n",
              "        vertical-align: middle;\n",
              "    }\n",
              "\n",
              "    .dataframe tbody tr th {\n",
              "        vertical-align: top;\n",
              "    }\n",
              "\n",
              "    .dataframe thead th {\n",
              "        text-align: right;\n",
              "    }\n",
              "</style>\n",
              "<table border=\"1\" class=\"dataframe\">\n",
              "  <thead>\n",
              "    <tr style=\"text-align: right;\">\n",
              "      <th></th>\n",
              "      <th>0</th>\n",
              "      <th>1</th>\n",
              "      <th>2</th>\n",
              "      <th>3</th>\n",
              "      <th>4</th>\n",
              "      <th>5</th>\n",
              "      <th>6</th>\n",
              "      <th>7</th>\n",
              "      <th>8</th>\n",
              "      <th>9</th>\n",
              "      <th>10</th>\n",
              "      <th>11</th>\n",
              "    </tr>\n",
              "  </thead>\n",
              "  <tbody>\n",
              "    <tr>\n",
              "      <th>0</th>\n",
              "      <td>datetime</td>\n",
              "      <td>city</td>\n",
              "      <td>state</td>\n",
              "      <td>country</td>\n",
              "      <td>shape</td>\n",
              "      <td>duration (seconds)</td>\n",
              "      <td>duration (hours/min)</td>\n",
              "      <td>comments</td>\n",
              "      <td>date posted</td>\n",
              "      <td>latitude</td>\n",
              "      <td>longitude</td>\n",
              "      <td>None</td>\n",
              "    </tr>\n",
              "    <tr>\n",
              "      <th>1</th>\n",
              "      <td>10/10/1949 20:30</td>\n",
              "      <td>san marcos</td>\n",
              "      <td>tx</td>\n",
              "      <td>us</td>\n",
              "      <td>cylinder</td>\n",
              "      <td>2700</td>\n",
              "      <td>45 minutes</td>\n",
              "      <td>This event took place in early fall around 194...</td>\n",
              "      <td>4/27/2004</td>\n",
              "      <td>29.8830556</td>\n",
              "      <td>-97.9411111</td>\n",
              "      <td>None</td>\n",
              "    </tr>\n",
              "    <tr>\n",
              "      <th>2</th>\n",
              "      <td>10/10/1949 21:00</td>\n",
              "      <td>lackland afb</td>\n",
              "      <td>tx</td>\n",
              "      <td></td>\n",
              "      <td>light</td>\n",
              "      <td>7200</td>\n",
              "      <td>1-2 hrs</td>\n",
              "      <td>1949 Lackland AFB&amp;#44 TX.  Lights racing acros...</td>\n",
              "      <td>12/16/2005</td>\n",
              "      <td>29.38421</td>\n",
              "      <td>-98.581082</td>\n",
              "      <td>None</td>\n",
              "    </tr>\n",
              "    <tr>\n",
              "      <th>3</th>\n",
              "      <td>10/10/1955 17:00</td>\n",
              "      <td>chester (uk/england)</td>\n",
              "      <td></td>\n",
              "      <td>gb</td>\n",
              "      <td>circle</td>\n",
              "      <td>20</td>\n",
              "      <td>20 seconds</td>\n",
              "      <td>Green/Orange circular disc over Chester&amp;#44 En...</td>\n",
              "      <td>1/21/2008</td>\n",
              "      <td>53.2</td>\n",
              "      <td>-2.916667</td>\n",
              "      <td>None</td>\n",
              "    </tr>\n",
              "    <tr>\n",
              "      <th>4</th>\n",
              "      <td>10/10/1956 21:00</td>\n",
              "      <td>edna</td>\n",
              "      <td>tx</td>\n",
              "      <td>us</td>\n",
              "      <td>circle</td>\n",
              "      <td>20</td>\n",
              "      <td>1/2 hour</td>\n",
              "      <td>My older brother and twin sister were leaving ...</td>\n",
              "      <td>1/17/2004</td>\n",
              "      <td>28.9783333</td>\n",
              "      <td>-96.6458333</td>\n",
              "      <td>None</td>\n",
              "    </tr>\n",
              "    <tr>\n",
              "      <th>...</th>\n",
              "      <td>...</td>\n",
              "      <td>...</td>\n",
              "      <td>...</td>\n",
              "      <td>...</td>\n",
              "      <td>...</td>\n",
              "      <td>...</td>\n",
              "      <td>...</td>\n",
              "      <td>...</td>\n",
              "      <td>...</td>\n",
              "      <td>...</td>\n",
              "      <td>...</td>\n",
              "      <td>...</td>\n",
              "    </tr>\n",
              "    <tr>\n",
              "      <th>88871</th>\n",
              "      <td>9/9/2013 22:00</td>\n",
              "      <td>napa</td>\n",
              "      <td>ca</td>\n",
              "      <td>us</td>\n",
              "      <td>other</td>\n",
              "      <td>1200</td>\n",
              "      <td>hour</td>\n",
              "      <td>Napa UFO&amp;#44</td>\n",
              "      <td>9/30/2013</td>\n",
              "      <td>38.2972222</td>\n",
              "      <td>-122.2844444</td>\n",
              "      <td>None</td>\n",
              "    </tr>\n",
              "    <tr>\n",
              "      <th>88872</th>\n",
              "      <td>9/9/2013 22:20</td>\n",
              "      <td>vienna</td>\n",
              "      <td>va</td>\n",
              "      <td>us</td>\n",
              "      <td>circle</td>\n",
              "      <td>5</td>\n",
              "      <td>5 seconds</td>\n",
              "      <td>Saw a five gold lit cicular craft moving fastl...</td>\n",
              "      <td>9/30/2013</td>\n",
              "      <td>38.9011111</td>\n",
              "      <td>-77.2655556</td>\n",
              "      <td>None</td>\n",
              "    </tr>\n",
              "    <tr>\n",
              "      <th>88873</th>\n",
              "      <td>9/9/2013 23:00</td>\n",
              "      <td>edmond</td>\n",
              "      <td>ok</td>\n",
              "      <td>us</td>\n",
              "      <td>cigar</td>\n",
              "      <td>1020</td>\n",
              "      <td>17 minutes</td>\n",
              "      <td>2 witnesses 2  miles apart&amp;#44 Red &amp;amp; White...</td>\n",
              "      <td>9/30/2013</td>\n",
              "      <td>35.6527778</td>\n",
              "      <td>-97.4777778</td>\n",
              "      <td>None</td>\n",
              "    </tr>\n",
              "    <tr>\n",
              "      <th>88874</th>\n",
              "      <td>9/9/2013 23:00</td>\n",
              "      <td>starr</td>\n",
              "      <td>sc</td>\n",
              "      <td>us</td>\n",
              "      <td>diamond</td>\n",
              "      <td>0</td>\n",
              "      <td>2 nights</td>\n",
              "      <td>On September ninth my wife and i noticed stran...</td>\n",
              "      <td>9/30/2013</td>\n",
              "      <td>34.3769444</td>\n",
              "      <td>-82.6958333</td>\n",
              "      <td>None</td>\n",
              "    </tr>\n",
              "    <tr>\n",
              "      <th>88875</th>\n",
              "      <td>9/9/2013 23:30</td>\n",
              "      <td>ft. lauderdale</td>\n",
              "      <td>fl</td>\n",
              "      <td>us</td>\n",
              "      <td>oval</td>\n",
              "      <td>0</td>\n",
              "      <td>still occuring</td>\n",
              "      <td>Hovering object lit with red and white lights&amp;...</td>\n",
              "      <td>9/30/2013</td>\n",
              "      <td>26.1219444</td>\n",
              "      <td>-80.1436111</td>\n",
              "      <td>None</td>\n",
              "    </tr>\n",
              "  </tbody>\n",
              "</table>\n",
              "<p>88876 rows × 12 columns</p>\n",
              "</div>\n",
              "      <button class=\"colab-df-convert\" onclick=\"convertToInteractive('df-e7560cf7-c21e-47e5-b4c1-c3b5e5e19bfa')\"\n",
              "              title=\"Convert this dataframe to an interactive table.\"\n",
              "              style=\"display:none;\">\n",
              "        \n",
              "  <svg xmlns=\"http://www.w3.org/2000/svg\" height=\"24px\"viewBox=\"0 0 24 24\"\n",
              "       width=\"24px\">\n",
              "    <path d=\"M0 0h24v24H0V0z\" fill=\"none\"/>\n",
              "    <path d=\"M18.56 5.44l.94 2.06.94-2.06 2.06-.94-2.06-.94-.94-2.06-.94 2.06-2.06.94zm-11 1L8.5 8.5l.94-2.06 2.06-.94-2.06-.94L8.5 2.5l-.94 2.06-2.06.94zm10 10l.94 2.06.94-2.06 2.06-.94-2.06-.94-.94-2.06-.94 2.06-2.06.94z\"/><path d=\"M17.41 7.96l-1.37-1.37c-.4-.4-.92-.59-1.43-.59-.52 0-1.04.2-1.43.59L10.3 9.45l-7.72 7.72c-.78.78-.78 2.05 0 2.83L4 21.41c.39.39.9.59 1.41.59.51 0 1.02-.2 1.41-.59l7.78-7.78 2.81-2.81c.8-.78.8-2.07 0-2.86zM5.41 20L4 18.59l7.72-7.72 1.47 1.35L5.41 20z\"/>\n",
              "  </svg>\n",
              "      </button>\n",
              "      \n",
              "  <style>\n",
              "    .colab-df-container {\n",
              "      display:flex;\n",
              "      flex-wrap:wrap;\n",
              "      gap: 12px;\n",
              "    }\n",
              "\n",
              "    .colab-df-convert {\n",
              "      background-color: #E8F0FE;\n",
              "      border: none;\n",
              "      border-radius: 50%;\n",
              "      cursor: pointer;\n",
              "      display: none;\n",
              "      fill: #1967D2;\n",
              "      height: 32px;\n",
              "      padding: 0 0 0 0;\n",
              "      width: 32px;\n",
              "    }\n",
              "\n",
              "    .colab-df-convert:hover {\n",
              "      background-color: #E2EBFA;\n",
              "      box-shadow: 0px 1px 2px rgba(60, 64, 67, 0.3), 0px 1px 3px 1px rgba(60, 64, 67, 0.15);\n",
              "      fill: #174EA6;\n",
              "    }\n",
              "\n",
              "    [theme=dark] .colab-df-convert {\n",
              "      background-color: #3B4455;\n",
              "      fill: #D2E3FC;\n",
              "    }\n",
              "\n",
              "    [theme=dark] .colab-df-convert:hover {\n",
              "      background-color: #434B5C;\n",
              "      box-shadow: 0px 1px 3px 1px rgba(0, 0, 0, 0.15);\n",
              "      filter: drop-shadow(0px 1px 2px rgba(0, 0, 0, 0.3));\n",
              "      fill: #FFFFFF;\n",
              "    }\n",
              "  </style>\n",
              "\n",
              "      <script>\n",
              "        const buttonEl =\n",
              "          document.querySelector('#df-e7560cf7-c21e-47e5-b4c1-c3b5e5e19bfa button.colab-df-convert');\n",
              "        buttonEl.style.display =\n",
              "          google.colab.kernel.accessAllowed ? 'block' : 'none';\n",
              "\n",
              "        async function convertToInteractive(key) {\n",
              "          const element = document.querySelector('#df-e7560cf7-c21e-47e5-b4c1-c3b5e5e19bfa');\n",
              "          const dataTable =\n",
              "            await google.colab.kernel.invokeFunction('convertToInteractive',\n",
              "                                                     [key], {});\n",
              "          if (!dataTable) return;\n",
              "\n",
              "          const docLinkHtml = 'Like what you see? Visit the ' +\n",
              "            '<a target=\"_blank\" href=https://colab.research.google.com/notebooks/data_table.ipynb>data table notebook</a>'\n",
              "            + ' to learn more about interactive tables.';\n",
              "          element.innerHTML = '';\n",
              "          dataTable['output_type'] = 'display_data';\n",
              "          await google.colab.output.renderOutput(dataTable, element);\n",
              "          const docLink = document.createElement('div');\n",
              "          docLink.innerHTML = docLinkHtml;\n",
              "          element.appendChild(docLink);\n",
              "        }\n",
              "      </script>\n",
              "    </div>\n",
              "  </div>\n",
              "  "
            ],
            "text/plain": [
              "                     0                     1   ...            10    11\n",
              "0              datetime                  city  ...     longitude  None\n",
              "1      10/10/1949 20:30            san marcos  ...   -97.9411111  None\n",
              "2      10/10/1949 21:00          lackland afb  ...    -98.581082  None\n",
              "3      10/10/1955 17:00  chester (uk/england)  ...     -2.916667  None\n",
              "4      10/10/1956 21:00                  edna  ...   -96.6458333  None\n",
              "...                 ...                   ...  ...           ...   ...\n",
              "88871    9/9/2013 22:00                  napa  ...  -122.2844444  None\n",
              "88872    9/9/2013 22:20                vienna  ...   -77.2655556  None\n",
              "88873    9/9/2013 23:00                edmond  ...   -97.4777778  None\n",
              "88874    9/9/2013 23:00                 starr  ...   -82.6958333  None\n",
              "88875    9/9/2013 23:30        ft. lauderdale  ...   -80.1436111  None\n",
              "\n",
              "[88876 rows x 12 columns]"
            ]
          },
          "metadata": {},
          "execution_count": 144
        }
      ]
    },
    {
      "cell_type": "markdown",
      "source": [
        "change first row to `column` row."
      ],
      "metadata": {
        "id": "n0HukqrixAl4"
      }
    },
    {
      "cell_type": "code",
      "source": [
        "df2 = df2.rename(columns = df2.iloc[0])\n",
        "df2 = df2.drop(df2.index[0])\n",
        "df2"
      ],
      "metadata": {
        "colab": {
          "base_uri": "https://localhost:8080/",
          "height": 607
        },
        "id": "t5zs_-LQ26j5",
        "outputId": "3c965c58-8d9f-4fe4-c8a6-9ce38861cc57"
      },
      "execution_count": null,
      "outputs": [
        {
          "output_type": "execute_result",
          "data": {
            "text/html": [
              "\n",
              "  <div id=\"df-110394bb-9a65-450b-bda4-6933b25c01c6\">\n",
              "    <div class=\"colab-df-container\">\n",
              "      <div>\n",
              "<style scoped>\n",
              "    .dataframe tbody tr th:only-of-type {\n",
              "        vertical-align: middle;\n",
              "    }\n",
              "\n",
              "    .dataframe tbody tr th {\n",
              "        vertical-align: top;\n",
              "    }\n",
              "\n",
              "    .dataframe thead th {\n",
              "        text-align: right;\n",
              "    }\n",
              "</style>\n",
              "<table border=\"1\" class=\"dataframe\">\n",
              "  <thead>\n",
              "    <tr style=\"text-align: right;\">\n",
              "      <th></th>\n",
              "      <th>datetime</th>\n",
              "      <th>city</th>\n",
              "      <th>state</th>\n",
              "      <th>country</th>\n",
              "      <th>shape</th>\n",
              "      <th>duration (seconds)</th>\n",
              "      <th>duration (hours/min)</th>\n",
              "      <th>comments</th>\n",
              "      <th>date posted</th>\n",
              "      <th>latitude</th>\n",
              "      <th>longitude</th>\n",
              "      <th>NaN</th>\n",
              "    </tr>\n",
              "  </thead>\n",
              "  <tbody>\n",
              "    <tr>\n",
              "      <th>1</th>\n",
              "      <td>10/10/1949 20:30</td>\n",
              "      <td>san marcos</td>\n",
              "      <td>tx</td>\n",
              "      <td>us</td>\n",
              "      <td>cylinder</td>\n",
              "      <td>2700</td>\n",
              "      <td>45 minutes</td>\n",
              "      <td>This event took place in early fall around 194...</td>\n",
              "      <td>4/27/2004</td>\n",
              "      <td>29.8830556</td>\n",
              "      <td>-97.9411111</td>\n",
              "      <td>None</td>\n",
              "    </tr>\n",
              "    <tr>\n",
              "      <th>2</th>\n",
              "      <td>10/10/1949 21:00</td>\n",
              "      <td>lackland afb</td>\n",
              "      <td>tx</td>\n",
              "      <td></td>\n",
              "      <td>light</td>\n",
              "      <td>7200</td>\n",
              "      <td>1-2 hrs</td>\n",
              "      <td>1949 Lackland AFB&amp;#44 TX.  Lights racing acros...</td>\n",
              "      <td>12/16/2005</td>\n",
              "      <td>29.38421</td>\n",
              "      <td>-98.581082</td>\n",
              "      <td>None</td>\n",
              "    </tr>\n",
              "    <tr>\n",
              "      <th>3</th>\n",
              "      <td>10/10/1955 17:00</td>\n",
              "      <td>chester (uk/england)</td>\n",
              "      <td></td>\n",
              "      <td>gb</td>\n",
              "      <td>circle</td>\n",
              "      <td>20</td>\n",
              "      <td>20 seconds</td>\n",
              "      <td>Green/Orange circular disc over Chester&amp;#44 En...</td>\n",
              "      <td>1/21/2008</td>\n",
              "      <td>53.2</td>\n",
              "      <td>-2.916667</td>\n",
              "      <td>None</td>\n",
              "    </tr>\n",
              "    <tr>\n",
              "      <th>4</th>\n",
              "      <td>10/10/1956 21:00</td>\n",
              "      <td>edna</td>\n",
              "      <td>tx</td>\n",
              "      <td>us</td>\n",
              "      <td>circle</td>\n",
              "      <td>20</td>\n",
              "      <td>1/2 hour</td>\n",
              "      <td>My older brother and twin sister were leaving ...</td>\n",
              "      <td>1/17/2004</td>\n",
              "      <td>28.9783333</td>\n",
              "      <td>-96.6458333</td>\n",
              "      <td>None</td>\n",
              "    </tr>\n",
              "    <tr>\n",
              "      <th>5</th>\n",
              "      <td>10/10/1960 20:00</td>\n",
              "      <td>kaneohe</td>\n",
              "      <td>hi</td>\n",
              "      <td>us</td>\n",
              "      <td>light</td>\n",
              "      <td>900</td>\n",
              "      <td>15 minutes</td>\n",
              "      <td>AS a Marine 1st Lt. flying an FJ4B fighter/att...</td>\n",
              "      <td>1/22/2004</td>\n",
              "      <td>21.4180556</td>\n",
              "      <td>-157.8036111</td>\n",
              "      <td>None</td>\n",
              "    </tr>\n",
              "    <tr>\n",
              "      <th>...</th>\n",
              "      <td>...</td>\n",
              "      <td>...</td>\n",
              "      <td>...</td>\n",
              "      <td>...</td>\n",
              "      <td>...</td>\n",
              "      <td>...</td>\n",
              "      <td>...</td>\n",
              "      <td>...</td>\n",
              "      <td>...</td>\n",
              "      <td>...</td>\n",
              "      <td>...</td>\n",
              "      <td>...</td>\n",
              "    </tr>\n",
              "    <tr>\n",
              "      <th>88871</th>\n",
              "      <td>9/9/2013 22:00</td>\n",
              "      <td>napa</td>\n",
              "      <td>ca</td>\n",
              "      <td>us</td>\n",
              "      <td>other</td>\n",
              "      <td>1200</td>\n",
              "      <td>hour</td>\n",
              "      <td>Napa UFO&amp;#44</td>\n",
              "      <td>9/30/2013</td>\n",
              "      <td>38.2972222</td>\n",
              "      <td>-122.2844444</td>\n",
              "      <td>None</td>\n",
              "    </tr>\n",
              "    <tr>\n",
              "      <th>88872</th>\n",
              "      <td>9/9/2013 22:20</td>\n",
              "      <td>vienna</td>\n",
              "      <td>va</td>\n",
              "      <td>us</td>\n",
              "      <td>circle</td>\n",
              "      <td>5</td>\n",
              "      <td>5 seconds</td>\n",
              "      <td>Saw a five gold lit cicular craft moving fastl...</td>\n",
              "      <td>9/30/2013</td>\n",
              "      <td>38.9011111</td>\n",
              "      <td>-77.2655556</td>\n",
              "      <td>None</td>\n",
              "    </tr>\n",
              "    <tr>\n",
              "      <th>88873</th>\n",
              "      <td>9/9/2013 23:00</td>\n",
              "      <td>edmond</td>\n",
              "      <td>ok</td>\n",
              "      <td>us</td>\n",
              "      <td>cigar</td>\n",
              "      <td>1020</td>\n",
              "      <td>17 minutes</td>\n",
              "      <td>2 witnesses 2  miles apart&amp;#44 Red &amp;amp; White...</td>\n",
              "      <td>9/30/2013</td>\n",
              "      <td>35.6527778</td>\n",
              "      <td>-97.4777778</td>\n",
              "      <td>None</td>\n",
              "    </tr>\n",
              "    <tr>\n",
              "      <th>88874</th>\n",
              "      <td>9/9/2013 23:00</td>\n",
              "      <td>starr</td>\n",
              "      <td>sc</td>\n",
              "      <td>us</td>\n",
              "      <td>diamond</td>\n",
              "      <td>0</td>\n",
              "      <td>2 nights</td>\n",
              "      <td>On September ninth my wife and i noticed stran...</td>\n",
              "      <td>9/30/2013</td>\n",
              "      <td>34.3769444</td>\n",
              "      <td>-82.6958333</td>\n",
              "      <td>None</td>\n",
              "    </tr>\n",
              "    <tr>\n",
              "      <th>88875</th>\n",
              "      <td>9/9/2013 23:30</td>\n",
              "      <td>ft. lauderdale</td>\n",
              "      <td>fl</td>\n",
              "      <td>us</td>\n",
              "      <td>oval</td>\n",
              "      <td>0</td>\n",
              "      <td>still occuring</td>\n",
              "      <td>Hovering object lit with red and white lights&amp;...</td>\n",
              "      <td>9/30/2013</td>\n",
              "      <td>26.1219444</td>\n",
              "      <td>-80.1436111</td>\n",
              "      <td>None</td>\n",
              "    </tr>\n",
              "  </tbody>\n",
              "</table>\n",
              "<p>88875 rows × 12 columns</p>\n",
              "</div>\n",
              "      <button class=\"colab-df-convert\" onclick=\"convertToInteractive('df-110394bb-9a65-450b-bda4-6933b25c01c6')\"\n",
              "              title=\"Convert this dataframe to an interactive table.\"\n",
              "              style=\"display:none;\">\n",
              "        \n",
              "  <svg xmlns=\"http://www.w3.org/2000/svg\" height=\"24px\"viewBox=\"0 0 24 24\"\n",
              "       width=\"24px\">\n",
              "    <path d=\"M0 0h24v24H0V0z\" fill=\"none\"/>\n",
              "    <path d=\"M18.56 5.44l.94 2.06.94-2.06 2.06-.94-2.06-.94-.94-2.06-.94 2.06-2.06.94zm-11 1L8.5 8.5l.94-2.06 2.06-.94-2.06-.94L8.5 2.5l-.94 2.06-2.06.94zm10 10l.94 2.06.94-2.06 2.06-.94-2.06-.94-.94-2.06-.94 2.06-2.06.94z\"/><path d=\"M17.41 7.96l-1.37-1.37c-.4-.4-.92-.59-1.43-.59-.52 0-1.04.2-1.43.59L10.3 9.45l-7.72 7.72c-.78.78-.78 2.05 0 2.83L4 21.41c.39.39.9.59 1.41.59.51 0 1.02-.2 1.41-.59l7.78-7.78 2.81-2.81c.8-.78.8-2.07 0-2.86zM5.41 20L4 18.59l7.72-7.72 1.47 1.35L5.41 20z\"/>\n",
              "  </svg>\n",
              "      </button>\n",
              "      \n",
              "  <style>\n",
              "    .colab-df-container {\n",
              "      display:flex;\n",
              "      flex-wrap:wrap;\n",
              "      gap: 12px;\n",
              "    }\n",
              "\n",
              "    .colab-df-convert {\n",
              "      background-color: #E8F0FE;\n",
              "      border: none;\n",
              "      border-radius: 50%;\n",
              "      cursor: pointer;\n",
              "      display: none;\n",
              "      fill: #1967D2;\n",
              "      height: 32px;\n",
              "      padding: 0 0 0 0;\n",
              "      width: 32px;\n",
              "    }\n",
              "\n",
              "    .colab-df-convert:hover {\n",
              "      background-color: #E2EBFA;\n",
              "      box-shadow: 0px 1px 2px rgba(60, 64, 67, 0.3), 0px 1px 3px 1px rgba(60, 64, 67, 0.15);\n",
              "      fill: #174EA6;\n",
              "    }\n",
              "\n",
              "    [theme=dark] .colab-df-convert {\n",
              "      background-color: #3B4455;\n",
              "      fill: #D2E3FC;\n",
              "    }\n",
              "\n",
              "    [theme=dark] .colab-df-convert:hover {\n",
              "      background-color: #434B5C;\n",
              "      box-shadow: 0px 1px 3px 1px rgba(0, 0, 0, 0.15);\n",
              "      filter: drop-shadow(0px 1px 2px rgba(0, 0, 0, 0.3));\n",
              "      fill: #FFFFFF;\n",
              "    }\n",
              "  </style>\n",
              "\n",
              "      <script>\n",
              "        const buttonEl =\n",
              "          document.querySelector('#df-110394bb-9a65-450b-bda4-6933b25c01c6 button.colab-df-convert');\n",
              "        buttonEl.style.display =\n",
              "          google.colab.kernel.accessAllowed ? 'block' : 'none';\n",
              "\n",
              "        async function convertToInteractive(key) {\n",
              "          const element = document.querySelector('#df-110394bb-9a65-450b-bda4-6933b25c01c6');\n",
              "          const dataTable =\n",
              "            await google.colab.kernel.invokeFunction('convertToInteractive',\n",
              "                                                     [key], {});\n",
              "          if (!dataTable) return;\n",
              "\n",
              "          const docLinkHtml = 'Like what you see? Visit the ' +\n",
              "            '<a target=\"_blank\" href=https://colab.research.google.com/notebooks/data_table.ipynb>data table notebook</a>'\n",
              "            + ' to learn more about interactive tables.';\n",
              "          element.innerHTML = '';\n",
              "          dataTable['output_type'] = 'display_data';\n",
              "          await google.colab.output.renderOutput(dataTable, element);\n",
              "          const docLink = document.createElement('div');\n",
              "          docLink.innerHTML = docLinkHtml;\n",
              "          element.appendChild(docLink);\n",
              "        }\n",
              "      </script>\n",
              "    </div>\n",
              "  </div>\n",
              "  "
            ],
            "text/plain": [
              "               datetime                  city  ...     longitude   NaN\n",
              "1      10/10/1949 20:30            san marcos  ...   -97.9411111  None\n",
              "2      10/10/1949 21:00          lackland afb  ...    -98.581082  None\n",
              "3      10/10/1955 17:00  chester (uk/england)  ...     -2.916667  None\n",
              "4      10/10/1956 21:00                  edna  ...   -96.6458333  None\n",
              "5      10/10/1960 20:00               kaneohe  ...  -157.8036111  None\n",
              "...                 ...                   ...  ...           ...   ...\n",
              "88871    9/9/2013 22:00                  napa  ...  -122.2844444  None\n",
              "88872    9/9/2013 22:20                vienna  ...   -77.2655556  None\n",
              "88873    9/9/2013 23:00                edmond  ...   -97.4777778  None\n",
              "88874    9/9/2013 23:00                 starr  ...   -82.6958333  None\n",
              "88875    9/9/2013 23:30        ft. lauderdale  ...   -80.1436111  None\n",
              "\n",
              "[88875 rows x 12 columns]"
            ]
          },
          "metadata": {},
          "execution_count": 145
        }
      ]
    },
    {
      "cell_type": "code",
      "source": [
        "df2.isnull().sum()"
      ],
      "metadata": {
        "colab": {
          "base_uri": "https://localhost:8080/"
        },
        "id": "Wd5fCcQcuruq",
        "outputId": "fae8f063-e3f3-4c57-df50-50a048af2350"
      },
      "execution_count": null,
      "outputs": [
        {
          "output_type": "execute_result",
          "data": {
            "text/plain": [
              "datetime                    0\n",
              "city                        0\n",
              "state                       0\n",
              "country                     0\n",
              "shape                       0\n",
              "duration (seconds)          0\n",
              "duration (hours/min)        0\n",
              "comments                    0\n",
              "date posted                 0\n",
              "latitude                    0\n",
              "longitude                   0\n",
              "NaN                     88679\n",
              "dtype: int64"
            ]
          },
          "metadata": {},
          "execution_count": 146
        }
      ]
    },
    {
      "cell_type": "code",
      "source": [
        "df2.iloc[876]"
      ],
      "metadata": {
        "id": "1S5BvgSzAdGm",
        "colab": {
          "base_uri": "https://localhost:8080/"
        },
        "outputId": "e06ef732-c9cd-49e7-d33e-1aa65d36268e"
      },
      "execution_count": null,
      "outputs": [
        {
          "output_type": "execute_result",
          "data": {
            "text/plain": [
              "datetime                                                  10/1/2006 12:00\n",
              "city                                                                     \n",
              "state                                                                    \n",
              "country                                                                  \n",
              "shape                                                                    \n",
              "duration (seconds)                                                      0\n",
              "duration (hours/min)                                                     \n",
              "comments                                                                 \n",
              "date posted             ((EDITORIAL COMMENT ABOUT THE UFO PHENOMEN))  ...\n",
              "latitude                                                       10/30/2006\n",
              "longitude                                                               0\n",
              "NaN                                                                     0\n",
              "Name: 877, dtype: object"
            ]
          },
          "metadata": {},
          "execution_count": 147
        }
      ]
    },
    {
      "cell_type": "code",
      "source": [
        "\n",
        "\n"
      ],
      "metadata": {
        "id": "CydBEh8jPKGv"
      },
      "execution_count": null,
      "outputs": []
    }
  ]
}